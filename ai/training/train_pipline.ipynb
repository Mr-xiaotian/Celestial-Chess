{
 "cells": [
  {
   "cell_type": "code",
   "execution_count": 1,
   "metadata": {},
   "outputs": [
    {
     "name": "stdout",
     "output_type": "stream",
     "text": [
      "False\n"
     ]
    }
   ],
   "source": [
    "import torch\n",
    "flag = torch.cuda.is_available()\n",
    "print(flag)\n",
    "\n",
    "if flag:\n",
    "    print(torch.cuda.get_device_name(0))\n",
    "    print(torch.rand(3,3).cuda())"
   ]
  },
  {
   "cell_type": "markdown",
   "metadata": {},
   "source": [
    "# Train Model"
   ]
  },
  {
   "cell_type": "code",
   "execution_count": 1,
   "metadata": {},
   "outputs": [
    {
     "name": "stderr",
     "output_type": "stream",
     "text": [
      "TrainDataProcess(serial): 100%|██████████| 11/11 [00:06<00:00,  1.67it/s]\n"
     ]
    },
    {
     "data": {
      "text/plain": [
       "(array([[[ 1.,  1.,  1.],\n",
       "         [ 0.,  0.,  1.],\n",
       "         [ 0.,  0.,  1.],\n",
       "         [ 1.,  1.,  1.],\n",
       "         [ 2.,  2.,  1.]],\n",
       " \n",
       "        [[ 0.,  0.,  1.],\n",
       "         [ 0.,  0.,  1.],\n",
       "         [ 0.,  0.,  1.],\n",
       "         [ 0.,  0.,  1.],\n",
       "         [ 1.,  1.,  1.]],\n",
       " \n",
       "        [[ 1.,  1.,  1.],\n",
       "         [ 0.,  0.,  1.],\n",
       "         [ 0.,  0.,  1.],\n",
       "         [ 1.,  1.,  1.],\n",
       "         [ 2.,  2.,  1.]],\n",
       " \n",
       "        [[-1.,  1.,  1.],\n",
       "         [-2.,  2.,  1.],\n",
       "         [-2.,  2.,  1.],\n",
       "         [-2.,  2.,  1.],\n",
       "         [ 0.,  2.,  1.]],\n",
       " \n",
       "        [[ 0.,  0.,  1.],\n",
       "         [-1.,  1.,  1.],\n",
       "         [ 0.,  0.,  1.],\n",
       "         [-1.,  1.,  1.],\n",
       "         [ 0.,  0.,  1.]]]),\n",
       " array([2, 1]))"
      ]
     },
     "execution_count": 1,
     "metadata": {},
     "output_type": "execute_result"
    }
   ],
   "source": [
    "import os, sys\n",
    "\n",
    "# 设置项目根目录\n",
    "project_root = os.path.abspath(os.path.join(os.getcwd(), \"../..\"))\n",
    "sys.path.insert(0, project_root)\n",
    "\n",
    "from ai.training.train_data import start_train_data, save_train_data, load_train_data\n",
    "\n",
    "train_num = 10\n",
    "mcts_iter = 1000\n",
    "train_data = start_train_data(train_num, mcts_iter, 'serial')\n",
    "train_data_path = save_train_data(train_data, train_num, mcts_iter)\n",
    "\n",
    "# train_data_path = r\"train_data\\2024-06-22\\MCTS1k_Games10k_Length136090(17).pkl\"\n",
    "# train_data = load_train_data(train_data_path)\n",
    "\n",
    "train_data[4]"
   ]
  },
  {
   "cell_type": "code",
   "execution_count": 2,
   "metadata": {},
   "outputs": [
    {
     "name": "stderr",
     "output_type": "stream",
     "text": [
      "Mcts Iter 10: 100%|██████████| 100/100 [00:01<00:00, 78.23it/s]\n"
     ]
    }
   ],
   "source": [
    "from ai.training.train_model import ModelTrainer, get_model_info_dict, save_model_info_dict\n",
    "\n",
    "trainer = ModelTrainer()\n",
    "model_path, model = trainer.train_model(train_data, 10)\n",
    "\n",
    "model_info_dict = get_model_info_dict(model_path, train_data_path, model)\n",
    "save_model_info_dict(model_info_dict, \"DeepLearningAI\")"
   ]
  },
  {
   "cell_type": "code",
   "execution_count": 3,
   "metadata": {},
   "outputs": [
    {
     "name": "stdout",
     "output_type": "stream",
     "text": [
      "----------------------------------------------------------------\n",
      "        Layer (type)               Output Shape         Param #\n",
      "================================================================\n",
      "            Conv2d-1             [-1, 30, 5, 5]             840\n",
      "            Conv2d-2             [-1, 60, 5, 5]          16,260\n",
      "            Conv2d-3            [-1, 120, 5, 5]          64,920\n",
      "            Conv2d-4            [-1, 240, 5, 5]         259,440\n",
      "            Linear-5                  [-1, 512]       3,072,512\n",
      "            Linear-6                   [-1, 25]          12,825\n",
      "================================================================\n",
      "Total params: 3,426,797\n",
      "Trainable params: 3,426,797\n",
      "Non-trainable params: 0\n",
      "----------------------------------------------------------------\n",
      "Input size (MB): 0.00\n",
      "Forward/backward pass size (MB): 0.09\n",
      "Params size (MB): 13.07\n",
      "Estimated Total Size (MB): 13.16\n",
      "----------------------------------------------------------------\n"
     ]
    }
   ],
   "source": [
    "from torchsummary import summary\n",
    "\n",
    "summary(model, input_size=(3, 5, 5))  # 输入模型和输入tensor尺寸"
   ]
  },
  {
   "cell_type": "markdown",
   "metadata": {},
   "source": [
    "## Show the Result"
   ]
  },
  {
   "cell_type": "code",
   "execution_count": null,
   "metadata": {},
   "outputs": [
    {
     "name": "stdout",
     "output_type": "stream",
     "text": [
      "Current working directory: q:\\Project\\Celestial-Chess\n"
     ]
    }
   ],
   "source": [
    "import os\n",
    "\n",
    "# 设置项目根目录\n",
    "project_root = os.path.abspath(os.path.join(os.getcwd(), \"../..\"))\n",
    "os.chdir(project_root)\n",
    "\n",
    "from ai import MinimaxAI, MCTSAI\n",
    "from ai.evaluate_ai import get_model_score_by_mcts, get_best_c_param\n",
    "from ai.deeplearning import DeepLearningAI\n",
    "\n",
    "# 与其他AI算法进行对战\n",
    "game_state = ((5,5), 2)\n",
    "\n",
    "# policy_model = DeepLearningAI('models/dl_model(06-22-21-18)(136090)(32-64-128-256).pth', complete_mode=False)"
   ]
  },
  {
   "cell_type": "code",
   "execution_count": 8,
   "metadata": {},
   "outputs": [
    {
     "name": "stderr",
     "output_type": "stream",
     "text": [
      "Mcts Iter 10:   0%|          | 0/100 [00:00<?, ?it/s]"
     ]
    },
    {
     "name": "stderr",
     "output_type": "stream",
     "text": [
      "Mcts Iter 10: 100%|██████████| 100/100 [00:01<00:00, 86.01it/s]\n"
     ]
    },
    {
     "data": {
      "text/plain": [
       "(0, {'10': 0.41})"
      ]
     },
     "execution_count": 8,
     "metadata": {},
     "output_type": "execute_result"
    }
   ],
   "source": [
    "model = DeepLearningAI(model_path, complete_mode=False)\n",
    "get_model_score_by_mcts(model, game_state)"
   ]
  },
  {
   "cell_type": "code",
   "execution_count": 9,
   "metadata": {},
   "outputs": [
    {
     "name": "stderr",
     "output_type": "stream",
     "text": [
      "Mcts Iter 10: 100%|██████████| 100/100 [00:01<00:00, 67.83it/s]\n",
      "Mcts Iter 20: 100%|██████████| 100/100 [00:01<00:00, 59.77it/s]\n",
      "Mcts Iter 30: 100%|██████████| 100/100 [00:02<00:00, 44.32it/s]\n",
      "Mcts Iter 40: 100%|██████████| 100/100 [00:02<00:00, 38.57it/s]\n",
      "Mcts Iter 50: 100%|██████████| 100/100 [00:02<00:00, 36.61it/s]\n",
      "Mcts Iter 60: 100%|██████████| 100/100 [00:03<00:00, 32.69it/s]\n",
      "Mcts Iter 70: 100%|██████████| 100/100 [00:03<00:00, 27.44it/s]\n",
      "Mcts Iter 80: 100%|██████████| 100/100 [00:03<00:00, 26.53it/s]\n",
      "Mcts Iter 90: 100%|██████████| 100/100 [00:04<00:00, 22.69it/s]\n",
      "Mcts Iter 100: 100%|██████████| 100/100 [00:04<00:00, 22.76it/s]\n",
      "Mcts Iter 110: 100%|██████████| 100/100 [00:04<00:00, 20.18it/s]\n",
      "Mcts Iter 120: 100%|██████████| 100/100 [00:05<00:00, 18.41it/s]\n",
      "Mcts Iter 130: 100%|██████████| 100/100 [00:05<00:00, 17.45it/s]\n",
      "Mcts Iter 140: 100%|██████████| 100/100 [00:07<00:00, 13.65it/s]\n",
      "Mcts Iter 150: 100%|██████████| 100/100 [00:06<00:00, 15.92it/s]\n",
      "Mcts Iter 160: 100%|██████████| 100/100 [00:08<00:00, 12.30it/s]\n",
      "Mcts Iter 170: 100%|██████████| 100/100 [00:07<00:00, 13.52it/s]\n",
      "Mcts Iter 180: 100%|██████████| 100/100 [00:07<00:00, 13.62it/s]\n",
      "Mcts Iter 190: 100%|██████████| 100/100 [00:08<00:00, 12.44it/s]\n",
      "Mcts Iter 200: 100%|██████████| 100/100 [00:07<00:00, 12.71it/s]\n",
      "Mcts Iter 210: 100%|██████████| 100/100 [00:08<00:00, 12.16it/s]\n",
      "Mcts Iter 220: 100%|██████████| 100/100 [00:09<00:00, 11.02it/s]\n",
      "Mcts Iter 230: 100%|██████████| 100/100 [00:09<00:00, 10.63it/s]\n",
      "Mcts Iter 240: 100%|██████████| 100/100 [00:09<00:00, 10.01it/s]\n",
      "Mcts Iter 250: 100%|██████████| 100/100 [00:10<00:00,  9.83it/s]\n",
      "Mcts Iter 260: 100%|██████████| 100/100 [00:10<00:00,  9.20it/s]\n",
      "Mcts Iter 270: 100%|██████████| 100/100 [00:10<00:00,  9.42it/s]\n",
      "Mcts Iter 280: 100%|██████████| 100/100 [00:11<00:00,  8.59it/s]\n",
      "Mcts Iter 290: 100%|██████████| 100/100 [00:12<00:00,  8.00it/s]\n",
      "Mcts Iter 300: 100%|██████████| 100/100 [00:12<00:00,  8.30it/s]\n"
     ]
    },
    {
     "data": {
      "text/plain": [
       "(290,\n",
       " {'10': 0.815,\n",
       "  '20': 0.76,\n",
       "  '30': 0.73,\n",
       "  '40': 0.655,\n",
       "  '50': 0.725,\n",
       "  '60': 0.685,\n",
       "  '70': 0.63,\n",
       "  '80': 0.63,\n",
       "  '90': 0.57,\n",
       "  '100': 0.51,\n",
       "  '110': 0.565,\n",
       "  '120': 0.59,\n",
       "  '130': 0.59,\n",
       "  '140': 0.52,\n",
       "  '150': 0.595,\n",
       "  '160': 0.56,\n",
       "  '170': 0.61,\n",
       "  '180': 0.54,\n",
       "  '190': 0.5,\n",
       "  '200': 0.54,\n",
       "  '210': 0.58,\n",
       "  '220': 0.6,\n",
       "  '230': 0.54,\n",
       "  '240': 0.58,\n",
       "  '250': 0.56,\n",
       "  '260': 0.535,\n",
       "  '270': 0.585,\n",
       "  '280': 0.56,\n",
       "  '290': 0.575,\n",
       "  '300': 0.52})"
      ]
     },
     "execution_count": 9,
     "metadata": {},
     "output_type": "execute_result"
    }
   ],
   "source": [
    "model = DeepLearningAI(r\"models\\2024-06-28\\dl_model(06-28-15-00)(136090).pth\", complete_mode=False)\n",
    "\n",
    "get_model_score_by_mcts(model, game_state)"
   ]
  },
  {
   "cell_type": "code",
   "execution_count": null,
   "metadata": {},
   "outputs": [
    {
     "name": "stderr",
     "output_type": "stream",
     "text": [
      "  0%|          | 0/11 [00:00<?, ?it/s]"
     ]
    }
   ],
   "source": [
    "get_best_c_param(game_state, model)"
   ]
  },
  {
   "cell_type": "code",
   "execution_count": 10,
   "metadata": {},
   "outputs": [
    {
     "name": "stderr",
     "output_type": "stream",
     "text": [
      "100%|██████████| 11/11 [08:57<00:00, 48.88s/it]\n"
     ]
    },
    {
     "data": {
      "text/plain": [
       "(0.8,\n",
       " {'0.8 : 0.0': 604.5,\n",
       "  '0.8 : 0.1': 559.5,\n",
       "  '0.8 : 0.2': 504.0,\n",
       "  '0.8 : 0.3': 520.5,\n",
       "  '0.8 : 0.4': 534.0,\n",
       "  '0.8 : 0.5': 537.5,\n",
       "  '0.8 : 0.6': 530.0,\n",
       "  '0.8 : 0.7': 509.5,\n",
       "  '0.8 : 0.8': 513.5,\n",
       "  '0.8 : 0.9': 520.5,\n",
       "  '0.8 : 1.0': 532.0})"
      ]
     },
     "execution_count": 10,
     "metadata": {},
     "output_type": "execute_result"
    }
   ],
   "source": [
    "get_best_c_param(game_state, 0.8)\n",
    "# :XTvzUQcSJ6i2HS"
   ]
  },
  {
   "cell_type": "code",
   "execution_count": 3,
   "metadata": {},
   "outputs": [
    {
     "name": "stderr",
     "output_type": "stream",
     "text": [
      "Mcts Iter 10: 100%|██████████| 100/100 [00:03<00:00, 26.27it/s]\n",
      "Mcts Iter 20: 100%|██████████| 100/100 [00:04<00:00, 24.23it/s]\n",
      "Mcts Iter 30: 100%|██████████| 100/100 [00:04<00:00, 20.78it/s]\n",
      "Mcts Iter 40: 100%|██████████| 100/100 [00:04<00:00, 20.23it/s]\n",
      "Mcts Iter 50: 100%|██████████| 100/100 [00:05<00:00, 18.87it/s]\n",
      "Mcts Iter 60: 100%|██████████| 100/100 [00:05<00:00, 17.26it/s]\n",
      "Mcts Iter 70: 100%|██████████| 100/100 [00:06<00:00, 15.42it/s]\n",
      "Mcts Iter 80: 100%|██████████| 100/100 [00:06<00:00, 14.55it/s]\n",
      "Mcts Iter 90: 100%|██████████| 100/100 [00:06<00:00, 14.62it/s]\n",
      "Mcts Iter 100: 100%|██████████| 100/100 [00:07<00:00, 13.54it/s]\n",
      "Mcts Iter 110: 100%|██████████| 100/100 [00:08<00:00, 12.19it/s]\n",
      "Mcts Iter 120: 100%|██████████| 100/100 [00:08<00:00, 11.72it/s]\n",
      "Mcts Iter 130: 100%|██████████| 100/100 [00:08<00:00, 11.81it/s]"
     ]
    },
    {
     "name": "stdout",
     "output_type": "stream",
     "text": [
      "(120, {'10': 0.74, '20': 0.725, '30': 0.705, '40': 0.655, '50': 0.65, '60': 0.56, '70': 0.515, '80': 0.59, '90': 0.505, '100': 0.525, '110': 0.545, '120': 0.49, '130': 0.415})\n"
     ]
    },
    {
     "name": "stderr",
     "output_type": "stream",
     "text": [
      "\n"
     ]
    }
   ],
   "source": [
    "mcts_ai = MCTSAI(100, c_param=0.8, policy_net=model, complete_mode=False)\n",
    "get_model_score_by_mcts(mcts_ai, game_state)"
   ]
  },
  {
   "cell_type": "code",
   "execution_count": 4,
   "metadata": {},
   "outputs": [
    {
     "name": "stderr",
     "output_type": "stream",
     "text": [
      "  0%|          | 0/999 [00:00<?, ?it/s]"
     ]
    },
    {
     "name": "stderr",
     "output_type": "stream",
     "text": [
      "  1%|          | 8/999 [26:49<55:23:30, 201.22s/it]"
     ]
    },
    {
     "name": "stdout",
     "output_type": "stream",
     "text": [
      "(80, {10: 0.735, 20: 0.69, 30: 0.67, 40: 0.565, 50: 0.545, 60: 0.56, 70: 0.555, 80: 0.5, 90: 0.49})\n"
     ]
    },
    {
     "name": "stderr",
     "output_type": "stream",
     "text": [
      "\n"
     ]
    }
   ],
   "source": [
    "policy_model = DeepLearningAI(r\"models\\2024-06-28\\dl_model(06-28-15-00)(136090).pth\", complete_mode=False)\n",
    "mcts_model = MCTSAI(100, c_param=0.5, policy_net=policy_model, complete_mode=False)\n",
    "\n",
    "get_model_score_by_mcts(mcts_model, game_state)"
   ]
  },
  {
   "cell_type": "code",
   "execution_count": 2,
   "metadata": {},
   "outputs": [
    {
     "name": "stderr",
     "output_type": "stream",
     "text": [
      "Mcts Iter 10: 100%|██████████| 100/100 [00:00<00:00, 140.46it/s]\n",
      "Mcts Iter 20: 100%|██████████| 100/100 [00:01<00:00, 60.29it/s]\n",
      "Mcts Iter 30: 100%|██████████| 100/100 [00:01<00:00, 59.67it/s]\n",
      "Mcts Iter 40: 100%|██████████| 100/100 [00:01<00:00, 57.51it/s]\n",
      "Mcts Iter 50: 100%|██████████| 100/100 [00:02<00:00, 37.34it/s]\n",
      "Mcts Iter 60: 100%|██████████| 100/100 [00:03<00:00, 30.81it/s]\n"
     ]
    },
    {
     "name": "stdout",
     "output_type": "stream",
     "text": [
      "(50, {'10': 0.705, '20': 0.64, '30': 0.595, '40': 0.54, '50': 0.535, '60': 0.48})\n"
     ]
    }
   ],
   "source": [
    "minimax_ai = MinimaxAI(6, game_state, transposition_mode=True)\n",
    "\n",
    "print(get_model_score_by_mcts(minimax_ai, game_state))"
   ]
  },
  {
   "cell_type": "markdown",
   "metadata": {},
   "source": [
    "## old"
   ]
  },
  {
   "cell_type": "code",
   "execution_count": null,
   "metadata": {},
   "outputs": [],
   "source": [
    "# 深度学习AI\n",
    "deep_learning_dict = {\n",
    "                      # {10: 0.7, 20: 0.68, 30: 0.47}\n",
    "                      # \n",
    "                      \"models/chess_ai_model(06-13-19).pth\": 20, # 未知\n",
    "                      # {10: 0.7, 20: 0.51, 30: 0.43}\n",
    "                      # \n",
    "                      \"models/chess_ai_model(06-15-17)(1506).pth\": 20, # MCTSAI(1000, flag=True) 训练100轮\n",
    "                      # {10: 0.75, 20: 0.65, 30: 0.47}\n",
    "                      # \n",
    "                      'models/chess_ai_model(06-15-17)(1471).pth': 20, # MCTSAI(10000, flag=True) 训练100轮\n",
    "                      # {10: 0.63, 20: 0.41}\n",
    "                      'models/chess_ai_model(06-15-17)(936).pth': 10, # MCTSAI(10000, flag=True) 训练100轮并去重\n",
    "                      # {10: 0.82, 20: 0.76, 30: 0.65, 40: 0.57, 50: 0.56, 60: 0.44}\n",
    "                      # \n",
    "                      'models/chess_ai_model(06-15-17)(15475).pth': 50, # MCTSAI(1000, flag=True) 训练1000轮\n",
    "                      # {10: 0.84, 20: 0.58, 30: 0.57, 40: 0.61, 50: 0.56, 60: 0.41}\n",
    "                      'models/chess_ai_model(06-15-17)(9598).pth': 50, # MCTSAI(1000, flag=True) 训练1000轮并去重\n",
    "                      # {10: 0.32}\n",
    "                      \"models/chess_ai_model(06-16-15)(1400).pth\": 0, # MCTSAI(10000, flag=False) 训练100轮(没标错, 真是0分)\n",
    "                      # {10: 0.55, 20: 0.48}\n",
    "                      'models/chess_ai_model(06-16-20)(1542).pth': 10, # MCTSAI(1000, flag=False) 训练100轮\n",
    "\n",
    "                      # {10: 0.82, 20: 0.73, 30: 0.67, 40: 0.52, 50: 0.46}\n",
    "                      # \n",
    "                      'models/chess_ai_model(06-17-12)(15475).pth': 40, # MCTSAI(1000, flag=True) 训练1000轮, 使用三层32-64-128卷积层, 128-256-25全连接层\n",
    "                      # {10: 0.72, 20: 0.39}\n",
    "                      'models/chess_ai_model(06-17-12)(1506).pth': 10, # MCTSAI(1000, flag=True) 训练100轮, 使用三层32-64-128卷积层, 128-256-25全连接层\n",
    "                      \n",
    "                      # {10: 0.9, 20: 0.84, 30: 0.72, 40: 0.6, 50: 0.48}\n",
    "                      # {10: 0.88, 20: 0.83, 30: 0.69, 40: 0.68, 50: 0.57, 60: 0.65, 70: 0.61, 80: 0.63, 90: 0.49}\n",
    "                      # \n",
    "                      'models/chess_ai_model(06-17-13)(15475).pth': 80, # MCTSAI(1000, flag=True) 训练1000轮, 使用三层16-32-64卷积层, 64-128-25全连接层\n",
    "                      }\n",
    "\n",
    "                    \n",
    "# deep_learning_ai_0 = DeepLearningAI(\"models/chess_ai_model(06-15-17)(936).pth\") \n",
    "\n",
    "# 测试AI\n",
    "test_minimax = MinimaxAI(6) # score: 50\n",
    "test_mcts_0 = MCTSAI(1000) # \n",
    "test_mcts_1 = MCTSAI(100, flag=True) # score: 50\n",
    "test_mcts_2 = MCTSAI(100, flag=False) # score: 80\n",
    "test_mcts_3 = MCTSAI(60, flag=True) # 50, {10: 0.82, 20: 0.76, 30: 0.53, 40: 0.57, 50: 0.51, 60: 0.32}\n",
    "test_mcts_4 = MCTSAI(60, flag=False) # 110, {10: 0.86, 20: 0.86, 30: 0.77, 40: 0.63, 50: 0.58, 60: 0.63, 70: 0.58, 80: 0.52, 90: 0.51, 100: 0.5, 110: 0.52, 120: 0.45}\n",
    "test_mcts_5 = MCTSAI(10, flag=True) # 0, {10: 0.45}\n",
    "test_mcts_6 = MCTSAI(10, flag=False) # 50, {10: 0.76, 20: 0.69, 30: 0.57, 40: 0.56, 50: 0.5, 60: 0.4}\n",
    "test_mcts_7 = MCTSAI(500, flag=True)"
   ]
  },
  {
   "cell_type": "code",
   "execution_count": null,
   "metadata": {},
   "outputs": [],
   "source": []
  }
 ],
 "metadata": {
  "kernelspec": {
   "display_name": "toolenv",
   "language": "python",
   "name": "python3"
  },
  "language_info": {
   "codemirror_mode": {
    "name": "ipython",
    "version": 3
   },
   "file_extension": ".py",
   "mimetype": "text/x-python",
   "name": "python",
   "nbconvert_exporter": "python",
   "pygments_lexer": "ipython3",
   "version": "3.10.14"
  }
 },
 "nbformat": 4,
 "nbformat_minor": 2
}
