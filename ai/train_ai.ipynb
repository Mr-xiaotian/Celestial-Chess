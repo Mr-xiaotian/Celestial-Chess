{
 "cells": [
  {
   "cell_type": "code",
   "execution_count": null,
   "metadata": {},
   "outputs": [
    {
     "name": "stdout",
     "output_type": "stream",
     "text": [
      "True\n",
      "NVIDIA RTX A5000\n",
      "tensor([[0.4938, 0.5651, 0.5798],\n",
      "        [0.5265, 0.5529, 0.2071],\n",
      "        [0.1274, 0.2573, 0.5208]], device='cuda:0')\n"
     ]
    }
   ],
   "source": [
    "import torch\n",
    "flag = torch.cuda.is_available()\n",
    "print(flag)\n",
    "\n",
    "if flag:\n",
    "    print(torch.cuda.get_device_name(0))\n",
    "    print(torch.rand(3,3).cuda()) "
   ]
  },
  {
   "cell_type": "code",
   "execution_count": 7,
   "metadata": {},
   "outputs": [],
   "source": [
    "import sys\n",
    "import os\n",
    "\n",
    "# 确定项目根目录（假设当前工作目录是项目的根目录）\n",
    "project_root = os.path.abspath(\"..\")\n",
    "sys.path.insert(0, project_root)\n",
    "\n",
    "import pickle\n",
    "import numpy as np\n",
    "from ai import ai_battle, MinimaxAI, MCTSAI\n",
    "from game.chess_game import ChessGame\n",
    "from CelestialVault.instances import ExampleThreadManager\n",
    "from time import strftime, localtime\n",
    "\n",
    "\n",
    "class TrainDataThread(ExampleThreadManager):\n",
    "    def get_args(self, obj: object):\n",
    "        train_game = ChessGame((5, 5), 2)\n",
    "        train_game.init_cfunc()\n",
    "        train_game.init_history()\n",
    "        return (mcts_ai_0, mcts_ai_0, train_game, False)\n",
    "    \n",
    "    def process_result(self):\n",
    "        all_training_data = []\n",
    "        result_dict = self.get_result_dict()\n",
    "        for over_game in result_dict.values():\n",
    "            history_board = over_game.history_board\n",
    "            history_move = over_game.history_move\n",
    "            for step in range(over_game.max_step-1):\n",
    "                board = self.process_board(history_board[step], step)\n",
    "                # if (board, history_move[step+1]) in all_training_data: # 这样效果并不好\n",
    "                #     continue\n",
    "                all_training_data.append((board, history_move[step+1]))\n",
    "        return all_training_data\n",
    "    \n",
    "    def process_board(self, chess_board, step):\n",
    "        color = 1 if step % 2 == 0 else -1\n",
    "        color_channel = np.full((5, 5, 1), color)\n",
    "\n",
    "        processed_board = np.concatenate((chess_board, color_channel), axis=2)\n",
    "        \n",
    "        for row in processed_board:\n",
    "            for cell in row:\n",
    "                if cell[0] == float(\"inf\"):\n",
    "                    cell[0] = 5\n",
    "        return processed_board\n",
    "\n",
    "def load_data(file_path):\n",
    "    with open(file_path, \"rb\") as f:\n",
    "        data = pickle.load(f)\n",
    "    return data\n",
    "\n",
    "def save_data(data):\n",
    "    data_size = len(data)\n",
    "    now_time = strftime(\"%m-%d-%H\", localtime())\n",
    "    pickle.dump(data, open(f\"train_data/all_training_data({now_time})({data_size}).pkl\", \"wb\"))\n",
    "\n",
    "def train_data(train_num):\n",
    "    train_data_threader.start(range(train_num), \"serial\")\n",
    "    train_data_threader.handle_error()\n",
    "    all_training_data = train_data_threader.process_result()\n",
    "\n",
    "    save_data(all_training_data)\n",
    "    \n",
    "    return all_training_data\n",
    "\n",
    "minimax_ai = MinimaxAI(5)\n",
    "mcts_ai_0 = MCTSAI(1000, complate_mode=False)\n",
    "mcts_ai_1 = MCTSAI(50000, complate_mode=False)\n",
    "\n",
    "train_data_threader = TrainDataThread(\n",
    "            ai_battle,\n",
    "            thread_num=200,\n",
    "            tqdm_desc='trainDataProcess',\n",
    "            show_progress=True)\n"
   ]
  },
  {
   "cell_type": "code",
   "execution_count": 8,
   "metadata": {},
   "outputs": [
    {
     "name": "stderr",
     "output_type": "stream",
     "text": [
      "trainDataProcess: 100%|██████████| 200/200 [01:28<00:00,  2.26it/s]\n",
      "trainDataProcess: 100%|██████████| 200/200 [01:28<00:00,  2.25it/s]\n",
      "trainDataProcess: 100%|██████████| 200/200 [01:28<00:00,  2.25it/s]\n",
      "trainDataProcess: 100%|██████████| 200/200 [01:28<00:00,  2.25it/s]\n",
      "trainDataProcess: 100%|██████████| 200/200 [01:29<00:00,  2.23it/s]\n"
     ]
    },
    {
     "data": {
      "text/plain": [
       "13631"
      ]
     },
     "execution_count": 8,
     "metadata": {},
     "output_type": "execute_result"
    }
   ],
   "source": [
    "all_training_data = []\n",
    "for _ in range(1):\n",
    "    all_training_data += train_data(1000)\n",
    "\n",
    "len(all_training_data)"
   ]
  },
  {
   "cell_type": "code",
   "execution_count": 3,
   "metadata": {},
   "outputs": [
    {
     "data": {
      "text/plain": [
       "(array([[[0., 0., 1.],\n",
       "         [0., 0., 1.],\n",
       "         [0., 0., 1.],\n",
       "         [0., 0., 1.],\n",
       "         [0., 0., 1.]],\n",
       " \n",
       "        [[0., 0., 1.],\n",
       "         [0., 0., 1.],\n",
       "         [0., 0., 1.],\n",
       "         [0., 0., 1.],\n",
       "         [0., 0., 1.]],\n",
       " \n",
       "        [[0., 0., 1.],\n",
       "         [0., 0., 1.],\n",
       "         [0., 0., 1.],\n",
       "         [0., 0., 1.],\n",
       "         [0., 0., 1.]],\n",
       " \n",
       "        [[0., 0., 1.],\n",
       "         [0., 0., 1.],\n",
       "         [0., 0., 1.],\n",
       "         [0., 0., 1.],\n",
       "         [0., 0., 1.]],\n",
       " \n",
       "        [[0., 0., 1.],\n",
       "         [0., 0., 1.],\n",
       "         [0., 0., 1.],\n",
       "         [0., 0., 1.],\n",
       "         [0., 0., 1.]]]),\n",
       " array([1, 2]))"
      ]
     },
     "execution_count": 3,
     "metadata": {},
     "output_type": "execute_result"
    }
   ],
   "source": [
    "all_training_data[0]"
   ]
  },
  {
   "cell_type": "code",
   "execution_count": 3,
   "metadata": {},
   "outputs": [],
   "source": [
    "all_training_data = load_data(r\"train_data\\train_data(06-22-17)(136090).pkl\")"
   ]
  },
  {
   "cell_type": "code",
   "execution_count": 9,
   "metadata": {},
   "outputs": [
    {
     "data": {
      "text/plain": [
       "13631"
      ]
     },
     "execution_count": 9,
     "metadata": {},
     "output_type": "execute_result"
    }
   ],
   "source": [
    "import torch\n",
    "from torch.utils.data import DataLoader, Dataset\n",
    "\n",
    "class ChessDataset(Dataset):\n",
    "    def __init__(self, data):\n",
    "        self.data = data\n",
    "\n",
    "    def __len__(self):\n",
    "        return len(self.data)\n",
    "\n",
    "    def __getitem__(self, idx):\n",
    "        board_state, move = self.data[idx]\n",
    "        board_state = torch.tensor(board_state, dtype=torch.float32)\n",
    "        move = move[0] * 5 + move[1]\n",
    "        return board_state, move\n",
    "\n",
    "dataset = ChessDataset(all_training_data)\n",
    "dataloader = DataLoader(dataset, batch_size=32, shuffle=True)\n",
    "\n",
    "len(dataset)"
   ]
  },
  {
   "cell_type": "code",
   "execution_count": 16,
   "metadata": {},
   "outputs": [
    {
     "data": {
      "text/plain": [
       "13631"
      ]
     },
     "execution_count": 16,
     "metadata": {},
     "output_type": "execute_result"
    }
   ],
   "source": [
    "len(dataset)"
   ]
  },
  {
   "cell_type": "code",
   "execution_count": 10,
   "metadata": {},
   "outputs": [
    {
     "name": "stdout",
     "output_type": "stream",
     "text": [
      "Epoch 1, Batch 100, Loss: 3.154\n",
      "Epoch 1, Batch 200, Loss: 3.062\n",
      "Epoch 1, Batch 300, Loss: 2.994\n",
      "Epoch 1, Batch 400, Loss: 2.875\n",
      "Epoch 2, Batch 100, Loss: 2.722\n",
      "Epoch 2, Batch 200, Loss: 2.645\n",
      "Epoch 2, Batch 300, Loss: 2.593\n",
      "Epoch 2, Batch 400, Loss: 2.539\n",
      "Epoch 3, Batch 100, Loss: 2.393\n",
      "Epoch 3, Batch 200, Loss: 2.317\n",
      "Epoch 3, Batch 300, Loss: 2.276\n",
      "Epoch 3, Batch 400, Loss: 2.230\n",
      "Epoch 4, Batch 100, Loss: 2.016\n",
      "Epoch 4, Batch 200, Loss: 2.051\n",
      "Epoch 4, Batch 300, Loss: 2.036\n",
      "Epoch 4, Batch 400, Loss: 1.979\n",
      "Epoch 5, Batch 100, Loss: 1.734\n",
      "Epoch 5, Batch 200, Loss: 1.787\n",
      "Epoch 5, Batch 300, Loss: 1.816\n",
      "Epoch 5, Batch 400, Loss: 1.767\n",
      "Epoch 6, Batch 100, Loss: 1.512\n",
      "Epoch 6, Batch 200, Loss: 1.571\n",
      "Epoch 6, Batch 300, Loss: 1.578\n",
      "Epoch 6, Batch 400, Loss: 1.592\n",
      "Epoch 7, Batch 100, Loss: 1.335\n",
      "Epoch 7, Batch 200, Loss: 1.377\n",
      "Epoch 7, Batch 300, Loss: 1.368\n",
      "Epoch 7, Batch 400, Loss: 1.449\n",
      "Epoch 8, Batch 100, Loss: 1.140\n",
      "Epoch 8, Batch 200, Loss: 1.218\n",
      "Epoch 8, Batch 300, Loss: 1.267\n",
      "Epoch 8, Batch 400, Loss: 1.263\n",
      "Epoch 9, Batch 100, Loss: 0.983\n",
      "Epoch 9, Batch 200, Loss: 1.096\n",
      "Epoch 9, Batch 300, Loss: 1.096\n",
      "Epoch 9, Batch 400, Loss: 1.144\n",
      "Epoch 10, Batch 100, Loss: 0.867\n",
      "Epoch 10, Batch 200, Loss: 0.975\n",
      "Epoch 10, Batch 300, Loss: 0.985\n",
      "Epoch 10, Batch 400, Loss: 1.030\n",
      "Finished Training\n"
     ]
    }
   ],
   "source": [
    "from time import strftime, localtime\n",
    "import torch.nn as nn\n",
    "import torch.optim as optim\n",
    "from ai.deeplearning import ChessModel\n",
    "\n",
    "# 设置CuDNN选项\n",
    "torch.backends.cudnn.benchmark = True\n",
    "\n",
    "device = torch.device(\"cuda\" if torch.cuda.is_available() else \"cpu\")\n",
    "model = ChessModel().to(device) # 初始化模型，并将其移动到GPU上\n",
    "criterion = nn.CrossEntropyLoss() # 定义交叉熵损失函数\n",
    "optimizer = optim.Adam(model.parameters(), lr=0.001) # 定义Adam优化器\n",
    "\n",
    "train_log_text = []\n",
    "# 训练循环\n",
    "num_epochs = 10  # 训练10个epoch\n",
    "for epoch in range(num_epochs):\n",
    "    model.train()\n",
    "    running_loss = 0.0\n",
    "    for i, data in enumerate(dataloader, 0):\n",
    "        inputs, labels = data\n",
    "        # 调整输入的维度，并将其移动到GPU上\n",
    "        # inputs 的原始形状是 (batch_size, height, width, channels)，也就是 (32, 5, 5, 3)\n",
    "        # inputs.permute(0, 3, 1, 2) 会将 inputs 的维度从 (32, 5, 5, 3) 转换为 (32, 3, 5, 5)\n",
    "        inputs = inputs.permute(0, 3, 1, 2).to(device)  # (batch_size, channels, height, width)\n",
    "        labels = labels.to(device).to(torch.int64)\n",
    "\n",
    "        # 清零梯度\n",
    "        optimizer.zero_grad()\n",
    "\n",
    "        # 前向传播\n",
    "        outputs = model(inputs)\n",
    "        # 计算损失\n",
    "        loss = criterion(outputs, labels)\n",
    "        # 反向传播\n",
    "        loss.backward()\n",
    "        # 更新参数\n",
    "        optimizer.step()\n",
    "\n",
    "        # 累积损失\n",
    "        running_loss += loss.item()\n",
    "        if i % 100 == 99:  # 每100个batch打印一次loss\n",
    "            log_text = f'Epoch {epoch + 1}, Batch {i + 1}, Loss: {running_loss / 100:.3f}'\n",
    "            print(log_text)\n",
    "            train_log_text.append(log_text)\n",
    "            running_loss = 0.0\n",
    "\n",
    "print('Finished Training')\n",
    "data_size = len(dataset)\n",
    "now_time = strftime(\"%m-%d-%H-%M\", localtime())\n",
    "add_text = '32-64-128-256'\n",
    "torch.save(model.state_dict(), f'models/dl_model({now_time})({data_size})({add_text}).pth')\n",
    "\n",
    "with open(f'models_loss/dl_model({now_time})({data_size})({add_text}).txt', 'w') as f:\n",
    "    f.write('\\n'.join(train_log_text))\n"
   ]
  },
  {
   "cell_type": "markdown",
   "metadata": {},
   "source": [
    "## Show the Result"
   ]
  },
  {
   "cell_type": "code",
   "execution_count": 11,
   "metadata": {},
   "outputs": [],
   "source": [
    "import sys\n",
    "import os\n",
    "\n",
    "# 确定项目根目录（假设当前工作目录是项目的根目录）\n",
    "project_root = os.path.abspath(\"..\")\n",
    "sys.path.insert(0, project_root)\n",
    "\n",
    "from ai import MinimaxAI, MCTSAI\n",
    "from ai.test_ai import get_model_score_by_mcts\n",
    "from ai.deeplearning import DeepLearningAI\n",
    "from game.chess_game import ChessGame\n",
    "\n",
    "\n",
    "model_score_dict = {\n",
    "    \"MCTSAI(1000, complate_mode=False)\": (990, ),\n",
    "    \"MCTSAI(100, complate_mode=False)\": (110, {10: 0.79, 20: 0.71, 30: 0.68, 40: 0.595, 50: 0.565, 60: 0.585, 70: 0.615, 80: 0.54, 90: 0.555, 100: 0.435, 110: 0.53, 120: 0.415}),\n",
    "    \"MCTSAI(50, complate_mode=False)\": (40, {10: 0.72, 20: 0.605, 30: 0.565, 40: 0.535, 50: 0.535}),\n",
    "    \"MinimaxAI(5, *game_state, complate_mode=False)\": (0, {10: 0.495}),\n",
    "    \"MinimaxAI(5, *game_state, complate_mode=True)\": (0, {10: 0.47}),\n",
    "    \"MinimaxAI(3, *game_state, complate_mode=False)\": (0, {10: 0.44}),\n",
    "    'DeepLearningAI(\"models/dl_model(06-22-16)(127)(16-32-64).pth\")': (0, {10: 0.36}),\n",
    "    'DeepLearningAI(\"models/dl_model(06-22-20)(136090)(16-32-64).pth\")': (60, {10: 0.74, 20: 0.575, 30: 0.675, 40: 0.615, 50: 0.545, 60: 0.56, 70: 0.46}),\n",
    "    'DeepLearningAI(\"models/dl_model(06-22-20)(136090)(32-64-128).pth\")': (120, {10: 0.77, 20: 0.8, 30: 0.715, 40: 0.615, 50: 0.625, 60: 0.655, 70: 0.505, 80: 0.575, 90: 0.53, 100: 0.575, 110: 0.53, 120: 0.46, 130: 0.44}),\n",
    "    'DeepLearningAI(\"models/dl_model(06-22-21-09)(136090)(32-64-64-128).pth\", complate_mode=False)': (30, {10: 0.69, 20: 0.63, 30: 0.55, 40: 0.5}),\n",
    "    'DeepLearningAI(\"models/dl_model(06-22-21-18)(136090)(32-64-128-256).pth\", complate_mode=False)': (190, {10: 0.78, 20: 0.69, 30: 0.73, 40: 0.775, 50: 0.675, 60: 0.635, 70: 0.505, 80: 0.595, 90: 0.505, 100: 0.575, 110: 0.545, 120: 0.63, 130: 0.485, 140: 0.505, 150: 0.58, 160: 0.62, 170: 0.48, 180: 0.595, 190: 0.5, 200: 0.57}),\n",
    "    'DeepLearningAI(\"models/dl_model(06-23-08-36)(12963)(32-64-128-256).pth\", complate_mode=False)': (20, {10: 0.655, 20: 0.605, 30: 0.455}),\n",
    "    'DeepLearningAI(\"models/dl_model(06-23-08-36)(12963)(32-64-128-256).pth\", complate_mode=False)': (20, {10: 0.66, 20: 0.56, 30: 0.55}),\n",
    "    \n",
    "\n",
    "}\n",
    "\n",
    "# 与其他AI算法进行对战\n",
    "# ai_battle(deep_learning_ai_2, test_mcts_0, ChessGame((5, 5), 2), display=True)\n",
    "game_state = ((5,5), 2)"
   ]
  },
  {
   "cell_type": "code",
   "execution_count": 14,
   "metadata": {},
   "outputs": [
    {
     "name": "stderr",
     "output_type": "stream",
     "text": [
      "  0%|          | 3/999 [18:55<104:41:57, 378.43s/it]"
     ]
    },
    {
     "name": "stdout",
     "output_type": "stream",
     "text": [
      "(30, {10: 0.72, 20: 0.71, 30: 0.48, 40: 0.435})\n"
     ]
    },
    {
     "name": "stderr",
     "output_type": "stream",
     "text": [
      "\n"
     ]
    }
   ],
   "source": [
    "print(get_model_score_by_mcts(MinimaxAI(6, *game_state, complate_mode=False), game_state))"
   ]
  },
  {
   "cell_type": "code",
   "execution_count": 12,
   "metadata": {},
   "outputs": [
    {
     "name": "stderr",
     "output_type": "stream",
     "text": [
      "  0%|          | 2/999 [00:04<34:10,  2.06s/it]"
     ]
    },
    {
     "name": "stdout",
     "output_type": "stream",
     "text": [
      "(20, {10: 0.66, 20: 0.56, 30: 0.55})\n"
     ]
    },
    {
     "name": "stderr",
     "output_type": "stream",
     "text": [
      "\n"
     ]
    }
   ],
   "source": [
    "print(get_model_score_by_mcts(DeepLearningAI(\"models/dl_model(06-23-08-36)(12963)(32-64-128-256).pth\", complate_mode=False), game_state))"
   ]
  },
  {
   "cell_type": "code",
   "execution_count": 6,
   "metadata": {},
   "outputs": [
    {
     "data": {
      "text/plain": [
       "32"
      ]
     },
     "execution_count": 6,
     "metadata": {},
     "output_type": "execute_result"
    }
   ],
   "source": [
    "deeplearning_model = DeepLearningAI(r\"models\\chess_ai_model(06-15-17)(15475).pth\") \n",
    "\n",
    "len(deeplearning_model.model.conv1.weight.data)"
   ]
  },
  {
   "cell_type": "markdown",
   "metadata": {},
   "source": [
    "## old"
   ]
  },
  {
   "cell_type": "code",
   "execution_count": null,
   "metadata": {},
   "outputs": [],
   "source": [
    "# 深度学习AI\n",
    "deep_learning_dict = {\n",
    "                      # {10: 0.7, 20: 0.68, 30: 0.47}\n",
    "                      # \n",
    "                      \"models/chess_ai_model(06-13-19).pth\": 20, # 未知\n",
    "                      # {10: 0.7, 20: 0.51, 30: 0.43}\n",
    "                      # \n",
    "                      \"models/chess_ai_model(06-15-17)(1506).pth\": 20, # MCTSAI(1000, flag=True) 训练100轮\n",
    "                      # {10: 0.75, 20: 0.65, 30: 0.47}\n",
    "                      # \n",
    "                      'models/chess_ai_model(06-15-17)(1471).pth': 20, # MCTSAI(10000, flag=True) 训练100轮\n",
    "                      # {10: 0.63, 20: 0.41}\n",
    "                      'models/chess_ai_model(06-15-17)(936).pth': 10, # MCTSAI(10000, flag=True) 训练100轮并去重\n",
    "                      # {10: 0.82, 20: 0.76, 30: 0.65, 40: 0.57, 50: 0.56, 60: 0.44}\n",
    "                      # \n",
    "                      'models/chess_ai_model(06-15-17)(15475).pth': 50, # MCTSAI(1000, flag=True) 训练1000轮\n",
    "                      # {10: 0.84, 20: 0.58, 30: 0.57, 40: 0.61, 50: 0.56, 60: 0.41}\n",
    "                      'models/chess_ai_model(06-15-17)(9598).pth': 50, # MCTSAI(1000, flag=True) 训练1000轮并去重\n",
    "                      # {10: 0.32}\n",
    "                      \"models/chess_ai_model(06-16-15)(1400).pth\": 0, # MCTSAI(10000, flag=False) 训练100轮(没标错, 真是0分)\n",
    "                      # {10: 0.55, 20: 0.48}\n",
    "                      'models/chess_ai_model(06-16-20)(1542).pth': 10, # MCTSAI(1000, flag=False) 训练100轮\n",
    "\n",
    "                      # {10: 0.82, 20: 0.73, 30: 0.67, 40: 0.52, 50: 0.46}\n",
    "                      # \n",
    "                      'models/chess_ai_model(06-17-12)(15475).pth': 40, # MCTSAI(1000, flag=True) 训练1000轮, 使用三层32-64-128卷积层, 128-256-25全连接层\n",
    "                      # {10: 0.72, 20: 0.39}\n",
    "                      'models/chess_ai_model(06-17-12)(1506).pth': 10, # MCTSAI(1000, flag=True) 训练100轮, 使用三层32-64-128卷积层, 128-256-25全连接层\n",
    "                      \n",
    "                      # {10: 0.9, 20: 0.84, 30: 0.72, 40: 0.6, 50: 0.48}\n",
    "                      # {10: 0.88, 20: 0.83, 30: 0.69, 40: 0.68, 50: 0.57, 60: 0.65, 70: 0.61, 80: 0.63, 90: 0.49}\n",
    "                      # \n",
    "                      'models/chess_ai_model(06-17-13)(15475).pth': 80, # MCTSAI(1000, flag=True) 训练1000轮, 使用三层16-32-64卷积层, 64-128-25全连接层\n",
    "                      }\n",
    "\n",
    "                    \n",
    "# deep_learning_ai_0 = DeepLearningAI(\"models/chess_ai_model(06-15-17)(936).pth\") \n",
    "\n",
    "# 测试AI\n",
    "test_minimax = MinimaxAI(6) # score: 50\n",
    "test_mcts_0 = MCTSAI(1000) # \n",
    "test_mcts_1 = MCTSAI(100, flag=True) # score: 50\n",
    "test_mcts_2 = MCTSAI(100, flag=False) # score: 80\n",
    "test_mcts_3 = MCTSAI(60, flag=True) # 50, {10: 0.82, 20: 0.76, 30: 0.53, 40: 0.57, 50: 0.51, 60: 0.32}\n",
    "test_mcts_4 = MCTSAI(60, flag=False) # 110, {10: 0.86, 20: 0.86, 30: 0.77, 40: 0.63, 50: 0.58, 60: 0.63, 70: 0.58, 80: 0.52, 90: 0.51, 100: 0.5, 110: 0.52, 120: 0.45}\n",
    "test_mcts_5 = MCTSAI(10, flag=True) # 0, {10: 0.45}\n",
    "test_mcts_6 = MCTSAI(10, flag=False) # 50, {10: 0.76, 20: 0.69, 30: 0.57, 40: 0.56, 50: 0.5, 60: 0.4}\n",
    "test_mcts_7 = MCTSAI(500, flag=True)"
   ]
  },
  {
   "cell_type": "code",
   "execution_count": null,
   "metadata": {},
   "outputs": [],
   "source": []
  }
 ],
 "metadata": {
  "kernelspec": {
   "display_name": "chessenv",
   "language": "python",
   "name": "python3"
  },
  "language_info": {
   "codemirror_mode": {
    "name": "ipython",
    "version": 3
   },
   "file_extension": ".py",
   "mimetype": "text/x-python",
   "name": "python",
   "nbconvert_exporter": "python",
   "pygments_lexer": "ipython3",
   "version": "3.10.14"
  }
 },
 "nbformat": 4,
 "nbformat_minor": 2
}
