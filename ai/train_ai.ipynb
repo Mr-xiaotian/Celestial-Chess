{
 "cells": [
  {
   "cell_type": "code",
   "execution_count": 1,
   "metadata": {},
   "outputs": [
    {
     "name": "stdout",
     "output_type": "stream",
     "text": [
      "True\n",
      "NVIDIA RTX A5000\n",
      "tensor([[0.6411, 0.3169, 0.9890],\n",
      "        [0.3489, 0.2425, 0.1572],\n",
      "        [0.1931, 0.4706, 0.4741]], device='cuda:0')\n"
     ]
    }
   ],
   "source": [
    "import torch\n",
    "flag = torch.cuda.is_available()\n",
    "print(flag)\n",
    "\n",
    "if flag:\n",
    "    print(torch.cuda.get_device_name(0))\n",
    "    print(torch.rand(3,3).cuda()) "
   ]
  },
  {
   "cell_type": "code",
   "execution_count": 2,
   "metadata": {},
   "outputs": [],
   "source": [
    "import sys\n",
    "import os\n",
    "\n",
    "# 确定项目根目录（假设当前工作目录是项目的根目录）\n",
    "project_root = os.path.abspath(\"..\")\n",
    "sys.path.insert(0, project_root)\n",
    "\n",
    "import pickle\n",
    "from ai import ai_battle, MinimaxAI, MCTSAI\n",
    "from game.chess_game import ChessGame\n",
    "from CelestialVault.instances import ExampleThreadManager\n",
    "\n",
    "from time import strftime, localtime\n",
    "\n",
    "def load_data(file_path):\n",
    "    with open(file_path, \"rb\") as f:\n",
    "        data = pickle.load(f)\n",
    "    return data\n",
    "\n",
    "def save_data(data):\n",
    "    data_size = len(data)\n",
    "    now_time = strftime(\"%m-%d-%H\", localtime())\n",
    "    pickle.dump(data, open(f\"train_data/all_training_data({now_time})({data_size}).pkl\", \"wb\"))\n",
    "\n",
    "def train_data(train_num):\n",
    "    train_data_threader.start(range(train_num), \"serial\")\n",
    "    train_data_threader.handle_error()\n",
    "    all_training_data = train_data_threader.process_result()\n",
    "\n",
    "    save_data(all_training_data)\n",
    "    \n",
    "    return all_training_data\n",
    "\n",
    "\n",
    "class TrainDataThread(ExampleThreadManager):\n",
    "    def get_args(self, obj: object):\n",
    "        return (mcts_ai_0, mcts_ai_0, ChessGame((5, 5), 2), False)\n",
    "    \n",
    "    def process_result(self):\n",
    "        all_training_data = []\n",
    "        result_dict = self.get_result_dict()\n",
    "        for d in result_dict:\n",
    "            over_game = result_dict[d]\n",
    "            history_board = over_game.history_board\n",
    "            history_move = over_game.history_move\n",
    "            for step in history_board:\n",
    "                if step+1 not in history_board.keys():\n",
    "                    continue\n",
    "                board = self.process_board(history_board, step)\n",
    "                # if (board, history_move[step+1]) in all_training_data: # 这样效果并不好\n",
    "                #     continue\n",
    "                all_training_data.append((board, history_move[step+1]))\n",
    "        return all_training_data\n",
    "    \n",
    "    def process_board(self, history_board, step):\n",
    "        color = 1 if step % 2 == 0 else -1\n",
    "        \n",
    "        processed_board = []\n",
    "        for row in history_board[step]:\n",
    "            processed_row = []\n",
    "            for cell in row:\n",
    "                processed_cell = cell + [color]\n",
    "                if processed_cell[0] == float(\"inf\"):\n",
    "                    processed_cell[0] = 5\n",
    "                processed_row.append(processed_cell)\n",
    "            processed_board.append(processed_row)\n",
    "        return processed_board\n",
    "\n",
    "\n",
    "\n",
    "minimax_ai = MinimaxAI(5)\n",
    "mcts_ai_0 = MCTSAI(1000, flag=True)\n",
    "mcts_ai_1 = MCTSAI(1000, flag=False)\n",
    "\n",
    "train_data_threader = TrainDataThread(\n",
    "            ai_battle,\n",
    "            thread_num=50,\n",
    "            tqdm_desc='trainDataProcess',\n",
    "            show_progress=True)\n"
   ]
  },
  {
   "cell_type": "code",
   "execution_count": 21,
   "metadata": {},
   "outputs": [
    {
     "name": "stderr",
     "output_type": "stream",
     "text": [
      "trainDataProcess:   0%|          | 0/50 [00:00<?, ?it/s]"
     ]
    },
    {
     "name": "stderr",
     "output_type": "stream",
     "text": [
      "trainDataProcess: 100%|██████████| 50/50 [36:57<00:00, 44.34s/it]\n",
      "trainDataProcess: 100%|██████████| 50/50 [30:56<00:00, 37.12s/it]\n"
     ]
    },
    {
     "data": {
      "text/plain": [
       "1542"
      ]
     },
     "execution_count": 21,
     "metadata": {},
     "output_type": "execute_result"
    }
   ],
   "source": [
    "all_training_data = []\n",
    "for _ in range(1):\n",
    "    all_training_data += train_data(100)\n",
    "\n",
    "len(all_training_data)"
   ]
  },
  {
   "cell_type": "code",
   "execution_count": 69,
   "metadata": {},
   "outputs": [],
   "source": [
    "save_data(all_training_data)"
   ]
  },
  {
   "cell_type": "code",
   "execution_count": 3,
   "metadata": {},
   "outputs": [],
   "source": [
    "all_training_data = load_data(r\"Q:\\Project\\Celestial-Chess\\ai\\train_data.\\all_training_data(06-15-06)(15475).pkl\")"
   ]
  },
  {
   "cell_type": "code",
   "execution_count": 21,
   "metadata": {},
   "outputs": [],
   "source": [
    "def remove_duplicates(data_list):\n",
    "    unique_data = []\n",
    "    for item in data_list:\n",
    "        if item not in unique_data:\n",
    "            unique_data.append(item)\n",
    "    return unique_data\n",
    "\n",
    "# 示例用法\n",
    "# all_training_data = [1, 2, 2, 3, 4, 4, 5]  # 示例数据\n",
    "# all_training_data = remove_duplicates(all_training_data)\n",
    "# print(all_training_data)\n",
    "\n",
    "\n",
    "# len(all_training_data)"
   ]
  },
  {
   "cell_type": "code",
   "execution_count": 4,
   "metadata": {},
   "outputs": [
    {
     "data": {
      "text/plain": [
       "15475"
      ]
     },
     "execution_count": 4,
     "metadata": {},
     "output_type": "execute_result"
    }
   ],
   "source": [
    "import torch\n",
    "from torch.utils.data import DataLoader, Dataset\n",
    "\n",
    "class ChessDataset(Dataset):\n",
    "    def __init__(self, data):\n",
    "        self.data = data\n",
    "\n",
    "    def __len__(self):\n",
    "        return len(self.data)\n",
    "\n",
    "    def __getitem__(self, idx):\n",
    "        board_state, move = self.data[idx]\n",
    "        board_state = torch.tensor(board_state, dtype=torch.float32)\n",
    "        move = move[0] * 5 + move[1]\n",
    "        return board_state, move\n",
    "\n",
    "dataset = ChessDataset(all_training_data)\n",
    "dataloader = DataLoader(dataset, batch_size=32, shuffle=True)\n",
    "\n",
    "len(dataset)"
   ]
  },
  {
   "cell_type": "code",
   "execution_count": 5,
   "metadata": {},
   "outputs": [
    {
     "name": "stdout",
     "output_type": "stream",
     "text": [
      "Epoch 1, Batch 100, Loss: 3.072\n",
      "Epoch 1, Batch 200, Loss: 2.832\n",
      "Epoch 1, Batch 300, Loss: 2.655\n",
      "Epoch 1, Batch 400, Loss: 2.462\n",
      "Epoch 2, Batch 100, Loss: 2.212\n",
      "Epoch 2, Batch 200, Loss: 2.183\n",
      "Epoch 2, Batch 300, Loss: 2.126\n",
      "Epoch 2, Batch 400, Loss: 2.051\n",
      "Epoch 3, Batch 100, Loss: 1.883\n",
      "Epoch 3, Batch 200, Loss: 1.808\n",
      "Epoch 3, Batch 300, Loss: 1.780\n",
      "Epoch 3, Batch 400, Loss: 1.762\n",
      "Epoch 4, Batch 100, Loss: 1.575\n",
      "Epoch 4, Batch 200, Loss: 1.570\n",
      "Epoch 4, Batch 300, Loss: 1.516\n",
      "Epoch 4, Batch 400, Loss: 1.504\n",
      "Epoch 5, Batch 100, Loss: 1.362\n",
      "Epoch 5, Batch 200, Loss: 1.346\n",
      "Epoch 5, Batch 300, Loss: 1.364\n",
      "Epoch 5, Batch 400, Loss: 1.365\n",
      "Epoch 6, Batch 100, Loss: 1.249\n",
      "Epoch 6, Batch 200, Loss: 1.232\n",
      "Epoch 6, Batch 300, Loss: 1.233\n",
      "Epoch 6, Batch 400, Loss: 1.264\n",
      "Epoch 7, Batch 100, Loss: 1.124\n",
      "Epoch 7, Batch 200, Loss: 1.161\n",
      "Epoch 7, Batch 300, Loss: 1.149\n",
      "Epoch 7, Batch 400, Loss: 1.166\n",
      "Epoch 8, Batch 100, Loss: 1.046\n",
      "Epoch 8, Batch 200, Loss: 1.055\n",
      "Epoch 8, Batch 300, Loss: 1.099\n",
      "Epoch 8, Batch 400, Loss: 1.091\n",
      "Epoch 9, Batch 100, Loss: 0.954\n",
      "Epoch 9, Batch 200, Loss: 0.996\n",
      "Epoch 9, Batch 300, Loss: 0.999\n",
      "Epoch 9, Batch 400, Loss: 1.046\n",
      "Epoch 10, Batch 100, Loss: 0.887\n",
      "Epoch 10, Batch 200, Loss: 0.921\n",
      "Epoch 10, Batch 300, Loss: 0.983\n",
      "Epoch 10, Batch 400, Loss: 0.965\n",
      "Finished Training\n"
     ]
    }
   ],
   "source": [
    "from time import strftime, localtime\n",
    "import torch.nn as nn\n",
    "import torch.optim as optim\n",
    "from ai.deeplearning import ChessModel\n",
    "\n",
    "# 设置CuDNN选项\n",
    "torch.backends.cudnn.benchmark = True\n",
    "\n",
    "device = torch.device(\"cuda\" if torch.cuda.is_available() else \"cpu\")\n",
    "model = ChessModel().to(device) # 初始化模型，并将其移动到GPU上\n",
    "criterion = nn.CrossEntropyLoss() # 定义交叉熵损失函数\n",
    "optimizer = optim.Adam(model.parameters(), lr=0.001) # 定义Adam优化器\n",
    "\n",
    "# 训练循环\n",
    "num_epochs = 10  # 训练10个epoch\n",
    "for epoch in range(num_epochs):\n",
    "    model.train()\n",
    "    running_loss = 0.0\n",
    "    for i, data in enumerate(dataloader, 0):\n",
    "        inputs, labels = data\n",
    "        # 调整输入的维度，并将其移动到GPU上\n",
    "        # inputs 的原始形状是 (batch_size, height, width, channels)，也就是 (32, 5, 5, 3)\n",
    "        # inputs.permute(0, 3, 1, 2) 会将 inputs 的维度从 (32, 5, 5, 3) 转换为 (32, 3, 5, 5)\n",
    "        inputs = inputs.permute(0, 3, 1, 2).to(device)  # (batch_size, channels, height, width)\n",
    "        labels = labels.to(device)\n",
    "\n",
    "        # 清零梯度\n",
    "        optimizer.zero_grad()\n",
    "\n",
    "        # 前向传播\n",
    "        outputs = model(inputs)\n",
    "        # 计算损失\n",
    "        loss = criterion(outputs, labels)\n",
    "        # 反向传播\n",
    "        loss.backward()\n",
    "        # 更新参数\n",
    "        optimizer.step()\n",
    "\n",
    "        # 累积损失\n",
    "        running_loss += loss.item()\n",
    "        if i % 100 == 99:  # 每100个batch打印一次loss\n",
    "            print(f'Epoch {epoch + 1}, Batch {i + 1}, Loss: {running_loss / 100:.3f}')\n",
    "            running_loss = 0.0\n",
    "\n",
    "print('Finished Training')\n",
    "data_size = len(dataset)\n",
    "now_time = strftime(\"%m-%d-%H\", localtime())\n",
    "torch.save(model.state_dict(), f'models/chess_ai_model({now_time})({data_size}).pth')\n"
   ]
  },
  {
   "cell_type": "markdown",
   "metadata": {},
   "source": [
    "## Show the Result"
   ]
  },
  {
   "cell_type": "code",
   "execution_count": 3,
   "metadata": {},
   "outputs": [],
   "source": [
    "import sys\n",
    "import os\n",
    "\n",
    "# 确定项目根目录（假设当前工作目录是项目的根目录）\n",
    "project_root = os.path.abspath(\"..\")\n",
    "sys.path.insert(0, project_root)\n",
    "\n",
    "from tqdm import tqdm\n",
    "from ai import ai_battle, MinimaxAI, MCTSAI\n",
    "from ai.deeplearning import DeepLearningAI\n",
    "from game.chess_game import ChessGame\n",
    "\n",
    "def get_model_score_by_mcts(test_model):\n",
    "    score_dict = dict()\n",
    "    for mcts_iter in tqdm(range(10, 1000, 10)):\n",
    "        win = 0\n",
    "        test_mcts = MCTSAI(mcts_iter, flag=False)\n",
    "        for _ in range(100):\n",
    "            game = ai_battle(test_model, test_mcts, ChessGame((5, 5), 2), display=False)\n",
    "            winner = game.who_is_winner()\n",
    "            if winner == 1:\n",
    "                win += 1\n",
    "            elif winner == 0:\n",
    "                win += 0.5\n",
    "\n",
    "        score_dict[mcts_iter] = win / 100\n",
    "        if (10 * sum(score_dict.values()))/mcts_iter < 0.6:\n",
    "            return mcts_iter - 10, score_dict\n",
    "        \n",
    "    return score_dict\n",
    "        \n",
    "model_score_dict = {\n",
    "    \"MCTSAI(1000, flag=False)\": (990, ),\n",
    "    \"MCTSAI(100, flag=False)\": (80, {10: 0.75, 20: 0.71, 30: 0.595, 40: 0.56, 50: 0.61, 60: 0.585, 70: 0.495, 80: 0.515, 90: 0.5}),\n",
    "    \"MCTSAI(50, flag=False)\": (50, {10: 0.78, 20: 0.66, 30: 0.535, 40: 0.635, 50: 0.48, 60: 0.485}),\n",
    "    \"MinimaxAI(5, False)\": (),\n",
    "}\n",
    "\n",
    "\n",
    "# 与其他AI算法进行对战\n",
    "# ai_battle(deep_learning_ai_2, test_mcts_0, ChessGame((5, 5), 2), display=True)"
   ]
  },
  {
   "cell_type": "code",
   "execution_count": 5,
   "metadata": {},
   "outputs": [
    {
     "name": "stderr",
     "output_type": "stream",
     "text": [
      "  0%|          | 0/99 [00:00<?, ?it/s]"
     ]
    },
    {
     "name": "stderr",
     "output_type": "stream",
     "text": [
      "  5%|▌         | 5/99 [00:23<07:21,  4.69s/it]"
     ]
    },
    {
     "name": "stdout",
     "output_type": "stream",
     "text": [
      "(50, {10: 0.805, 20: 0.595, 30: 0.56, 40: 0.55, 50: 0.53, 60: 0.44})\n"
     ]
    },
    {
     "name": "stderr",
     "output_type": "stream",
     "text": [
      "\n"
     ]
    }
   ],
   "source": [
    "print(get_model_score_by_mcts(MCTSAI(50, flag=False)))"
   ]
  },
  {
   "cell_type": "code",
   "execution_count": 4,
   "metadata": {},
   "outputs": [
    {
     "name": "stdout",
     "output_type": "stream",
     "text": [
      "{10: 0.75, 20: 0.71, 30: 0.595, 40: 0.56, 50: 0.61, 60: 0.585, 70: 0.495, 80: 0.515, 90: 0.5}\n"
     ]
    }
   ],
   "source": [
    "print({10: 0.75,\n",
    "  20: 0.71,\n",
    "  30: 0.595,\n",
    "  40: 0.56,\n",
    "  50: 0.61,\n",
    "  60: 0.585,\n",
    "  70: 0.495,\n",
    "  80: 0.515,\n",
    "  90: 0.5})"
   ]
  },
  {
   "cell_type": "code",
   "execution_count": 6,
   "metadata": {},
   "outputs": [
    {
     "data": {
      "text/plain": [
       "32"
      ]
     },
     "execution_count": 6,
     "metadata": {},
     "output_type": "execute_result"
    }
   ],
   "source": [
    "deeplearning_model = DeepLearningAI(r\"models\\chess_ai_model(06-15-17)(15475).pth\") \n",
    "\n",
    "len(deeplearning_model.model.conv1.weight.data)"
   ]
  },
  {
   "cell_type": "code",
   "execution_count": 2,
   "metadata": {},
   "outputs": [
    {
     "ename": "RuntimeError",
     "evalue": "Error(s) in loading state_dict for ChessModel:\n\tMissing key(s) in state_dict: \"conv3.weight\", \"conv3.bias\". \n\tsize mismatch for conv1.weight: copying a param with shape torch.Size([32, 3, 3, 3]) from checkpoint, the shape in current model is torch.Size([16, 3, 3, 3]).\n\tsize mismatch for conv1.bias: copying a param with shape torch.Size([32]) from checkpoint, the shape in current model is torch.Size([16]).\n\tsize mismatch for conv2.weight: copying a param with shape torch.Size([64, 32, 3, 3]) from checkpoint, the shape in current model is torch.Size([32, 16, 3, 3]).\n\tsize mismatch for conv2.bias: copying a param with shape torch.Size([64]) from checkpoint, the shape in current model is torch.Size([32]).",
     "output_type": "error",
     "traceback": [
      "\u001b[1;31m---------------------------------------------------------------------------\u001b[0m",
      "\u001b[1;31mRuntimeError\u001b[0m                              Traceback (most recent call last)",
      "Cell \u001b[1;32mIn[2], line 2\u001b[0m\n\u001b[0;32m      1\u001b[0m \u001b[38;5;28;01mfor\u001b[39;00m path \u001b[38;5;129;01min\u001b[39;00m deep_learning_dict\u001b[38;5;241m.\u001b[39mkeys():\n\u001b[1;32m----> 2\u001b[0m     deep_learning_ai \u001b[38;5;241m=\u001b[39m \u001b[43mDeepLearningAI\u001b[49m\u001b[43m(\u001b[49m\u001b[43mpath\u001b[49m\u001b[43m)\u001b[49m\n\u001b[0;32m      3\u001b[0m     score, score_dict \u001b[38;5;241m=\u001b[39m get_model_score_by_mcts(deep_learning_ai)\n\u001b[0;32m      4\u001b[0m     deep_learning_dict[path] \u001b[38;5;241m=\u001b[39m score\n",
      "File \u001b[1;32mq:\\Project\\Celestial-Chess\\ai\\deeplearning.py:41\u001b[0m, in \u001b[0;36mDeepLearningAI.__init__\u001b[1;34m(self, model_path)\u001b[0m\n\u001b[0;32m     39\u001b[0m \u001b[38;5;28mself\u001b[39m\u001b[38;5;241m.\u001b[39mdevice \u001b[38;5;241m=\u001b[39m torch\u001b[38;5;241m.\u001b[39mdevice(\u001b[38;5;124m\"\u001b[39m\u001b[38;5;124mcuda\u001b[39m\u001b[38;5;124m\"\u001b[39m \u001b[38;5;28;01mif\u001b[39;00m torch\u001b[38;5;241m.\u001b[39mcuda\u001b[38;5;241m.\u001b[39mis_available() \u001b[38;5;28;01melse\u001b[39;00m \u001b[38;5;124m\"\u001b[39m\u001b[38;5;124mcpu\u001b[39m\u001b[38;5;124m\"\u001b[39m)\n\u001b[0;32m     40\u001b[0m \u001b[38;5;28mself\u001b[39m\u001b[38;5;241m.\u001b[39mmodel \u001b[38;5;241m=\u001b[39m ChessModel()\u001b[38;5;241m.\u001b[39mto(\u001b[38;5;28mself\u001b[39m\u001b[38;5;241m.\u001b[39mdevice)\n\u001b[1;32m---> 41\u001b[0m \u001b[38;5;28;43mself\u001b[39;49m\u001b[38;5;241;43m.\u001b[39;49m\u001b[43mmodel\u001b[49m\u001b[38;5;241;43m.\u001b[39;49m\u001b[43mload_state_dict\u001b[49m\u001b[43m(\u001b[49m\u001b[43mtorch\u001b[49m\u001b[38;5;241;43m.\u001b[39;49m\u001b[43mload\u001b[49m\u001b[43m(\u001b[49m\u001b[43mmodel_path\u001b[49m\u001b[43m,\u001b[49m\u001b[43m \u001b[49m\u001b[43mmap_location\u001b[49m\u001b[38;5;241;43m=\u001b[39;49m\u001b[38;5;28;43mself\u001b[39;49m\u001b[38;5;241;43m.\u001b[39;49m\u001b[43mdevice\u001b[49m\u001b[43m)\u001b[49m\u001b[43m)\u001b[49m\n\u001b[0;32m     42\u001b[0m \u001b[38;5;28mself\u001b[39m\u001b[38;5;241m.\u001b[39mmodel\u001b[38;5;241m.\u001b[39meval()\n",
      "File \u001b[1;32mq:\\ProgramData\\miniforge3\\envs\\toolenv\\lib\\site-packages\\torch\\nn\\modules\\module.py:2189\u001b[0m, in \u001b[0;36mModule.load_state_dict\u001b[1;34m(self, state_dict, strict, assign)\u001b[0m\n\u001b[0;32m   2184\u001b[0m         error_msgs\u001b[38;5;241m.\u001b[39minsert(\n\u001b[0;32m   2185\u001b[0m             \u001b[38;5;241m0\u001b[39m, \u001b[38;5;124m'\u001b[39m\u001b[38;5;124mMissing key(s) in state_dict: \u001b[39m\u001b[38;5;132;01m{}\u001b[39;00m\u001b[38;5;124m. \u001b[39m\u001b[38;5;124m'\u001b[39m\u001b[38;5;241m.\u001b[39mformat(\n\u001b[0;32m   2186\u001b[0m                 \u001b[38;5;124m'\u001b[39m\u001b[38;5;124m, \u001b[39m\u001b[38;5;124m'\u001b[39m\u001b[38;5;241m.\u001b[39mjoin(\u001b[38;5;124mf\u001b[39m\u001b[38;5;124m'\u001b[39m\u001b[38;5;124m\"\u001b[39m\u001b[38;5;132;01m{\u001b[39;00mk\u001b[38;5;132;01m}\u001b[39;00m\u001b[38;5;124m\"\u001b[39m\u001b[38;5;124m'\u001b[39m \u001b[38;5;28;01mfor\u001b[39;00m k \u001b[38;5;129;01min\u001b[39;00m missing_keys)))\n\u001b[0;32m   2188\u001b[0m \u001b[38;5;28;01mif\u001b[39;00m \u001b[38;5;28mlen\u001b[39m(error_msgs) \u001b[38;5;241m>\u001b[39m \u001b[38;5;241m0\u001b[39m:\n\u001b[1;32m-> 2189\u001b[0m     \u001b[38;5;28;01mraise\u001b[39;00m \u001b[38;5;167;01mRuntimeError\u001b[39;00m(\u001b[38;5;124m'\u001b[39m\u001b[38;5;124mError(s) in loading state_dict for \u001b[39m\u001b[38;5;132;01m{}\u001b[39;00m\u001b[38;5;124m:\u001b[39m\u001b[38;5;130;01m\\n\u001b[39;00m\u001b[38;5;130;01m\\t\u001b[39;00m\u001b[38;5;132;01m{}\u001b[39;00m\u001b[38;5;124m'\u001b[39m\u001b[38;5;241m.\u001b[39mformat(\n\u001b[0;32m   2190\u001b[0m                        \u001b[38;5;28mself\u001b[39m\u001b[38;5;241m.\u001b[39m\u001b[38;5;18m__class__\u001b[39m\u001b[38;5;241m.\u001b[39m\u001b[38;5;18m__name__\u001b[39m, \u001b[38;5;124m\"\u001b[39m\u001b[38;5;130;01m\\n\u001b[39;00m\u001b[38;5;130;01m\\t\u001b[39;00m\u001b[38;5;124m\"\u001b[39m\u001b[38;5;241m.\u001b[39mjoin(error_msgs)))\n\u001b[0;32m   2191\u001b[0m \u001b[38;5;28;01mreturn\u001b[39;00m _IncompatibleKeys(missing_keys, unexpected_keys)\n",
      "\u001b[1;31mRuntimeError\u001b[0m: Error(s) in loading state_dict for ChessModel:\n\tMissing key(s) in state_dict: \"conv3.weight\", \"conv3.bias\". \n\tsize mismatch for conv1.weight: copying a param with shape torch.Size([32, 3, 3, 3]) from checkpoint, the shape in current model is torch.Size([16, 3, 3, 3]).\n\tsize mismatch for conv1.bias: copying a param with shape torch.Size([32]) from checkpoint, the shape in current model is torch.Size([16]).\n\tsize mismatch for conv2.weight: copying a param with shape torch.Size([64, 32, 3, 3]) from checkpoint, the shape in current model is torch.Size([32, 16, 3, 3]).\n\tsize mismatch for conv2.bias: copying a param with shape torch.Size([64]) from checkpoint, the shape in current model is torch.Size([32])."
     ]
    }
   ],
   "source": [
    "for path in deep_learning_dict.keys():\n",
    "    deep_learning_ai = DeepLearningAI(path)\n",
    "    score, score_dict = get_model_score_by_mcts(deep_learning_ai)\n",
    "    deep_learning_dict[path] = score\n",
    "    print(f\"{path} : {score_dict}\", end = '\\n')\n",
    "\n",
    "deep_learning_dict"
   ]
  },
  {
   "cell_type": "markdown",
   "metadata": {},
   "source": [
    "## old"
   ]
  },
  {
   "cell_type": "code",
   "execution_count": null,
   "metadata": {},
   "outputs": [],
   "source": [
    "# 深度学习AI\n",
    "deep_learning_dict = {\n",
    "                      # {10: 0.7, 20: 0.68, 30: 0.47}\n",
    "                      # \n",
    "                      \"models/chess_ai_model(06-13-19).pth\": 20, # 未知\n",
    "                      # {10: 0.7, 20: 0.51, 30: 0.43}\n",
    "                      # \n",
    "                      \"models/chess_ai_model(06-15-17)(1506).pth\": 20, # MCTSAI(1000, flag=True) 训练100轮\n",
    "                      # {10: 0.75, 20: 0.65, 30: 0.47}\n",
    "                      # \n",
    "                      'models/chess_ai_model(06-15-17)(1471).pth': 20, # MCTSAI(10000, flag=True) 训练100轮\n",
    "                      # {10: 0.63, 20: 0.41}\n",
    "                      'models/chess_ai_model(06-15-17)(936).pth': 10, # MCTSAI(10000, flag=True) 训练100轮并去重\n",
    "                      # {10: 0.82, 20: 0.76, 30: 0.65, 40: 0.57, 50: 0.56, 60: 0.44}\n",
    "                      # \n",
    "                      'models/chess_ai_model(06-15-17)(15475).pth': 50, # MCTSAI(1000, flag=True) 训练1000轮\n",
    "                      # {10: 0.84, 20: 0.58, 30: 0.57, 40: 0.61, 50: 0.56, 60: 0.41}\n",
    "                      'models/chess_ai_model(06-15-17)(9598).pth': 50, # MCTSAI(1000, flag=True) 训练1000轮并去重\n",
    "                      # {10: 0.32}\n",
    "                      \"models/chess_ai_model(06-16-15)(1400).pth\": 0, # MCTSAI(10000, flag=False) 训练100轮(没标错, 真是0分)\n",
    "                      # {10: 0.55, 20: 0.48}\n",
    "                      'models/chess_ai_model(06-16-20)(1542).pth': 10, # MCTSAI(1000, flag=False) 训练100轮\n",
    "\n",
    "                      # {10: 0.82, 20: 0.73, 30: 0.67, 40: 0.52, 50: 0.46}\n",
    "                      # \n",
    "                      'models/chess_ai_model(06-17-12)(15475).pth': 40, # MCTSAI(1000, flag=True) 训练1000轮, 使用三层32-64-128卷积层, 128-256-25全连接层\n",
    "                      # {10: 0.72, 20: 0.39}\n",
    "                      'models/chess_ai_model(06-17-12)(1506).pth': 10, # MCTSAI(1000, flag=True) 训练100轮, 使用三层32-64-128卷积层, 128-256-25全连接层\n",
    "                      \n",
    "                      # {10: 0.9, 20: 0.84, 30: 0.72, 40: 0.6, 50: 0.48}\n",
    "                      # {10: 0.88, 20: 0.83, 30: 0.69, 40: 0.68, 50: 0.57, 60: 0.65, 70: 0.61, 80: 0.63, 90: 0.49}\n",
    "                      # \n",
    "                      'models/chess_ai_model(06-17-13)(15475).pth': 80, # MCTSAI(1000, flag=True) 训练1000轮, 使用三层16-32-64卷积层, 64-128-25全连接层\n",
    "                      }\n",
    "\n",
    "                    \n",
    "# deep_learning_ai_0 = DeepLearningAI(\"models/chess_ai_model(06-15-17)(936).pth\") \n",
    "\n",
    "# 测试AI\n",
    "test_minimax = MinimaxAI(6) # score: 50\n",
    "test_mcts_0 = MCTSAI(1000) # \n",
    "test_mcts_1 = MCTSAI(100, flag=True) # score: 50\n",
    "test_mcts_2 = MCTSAI(100, flag=False) # score: 80\n",
    "test_mcts_3 = MCTSAI(60, flag=True) # 50, {10: 0.82, 20: 0.76, 30: 0.53, 40: 0.57, 50: 0.51, 60: 0.32}\n",
    "test_mcts_4 = MCTSAI(60, flag=False) # 110, {10: 0.86, 20: 0.86, 30: 0.77, 40: 0.63, 50: 0.58, 60: 0.63, 70: 0.58, 80: 0.52, 90: 0.51, 100: 0.5, 110: 0.52, 120: 0.45}\n",
    "test_mcts_5 = MCTSAI(10, flag=True) # 0, {10: 0.45}\n",
    "test_mcts_6 = MCTSAI(10, flag=False) # 50, {10: 0.76, 20: 0.69, 30: 0.57, 40: 0.56, 50: 0.5, 60: 0.4}\n",
    "test_mcts_7 = MCTSAI(500, flag=True)"
   ]
  },
  {
   "cell_type": "code",
   "execution_count": null,
   "metadata": {},
   "outputs": [],
   "source": []
  }
 ],
 "metadata": {
  "kernelspec": {
   "display_name": "chessenv",
   "language": "python",
   "name": "python3"
  },
  "language_info": {
   "codemirror_mode": {
    "name": "ipython",
    "version": 3
   },
   "file_extension": ".py",
   "mimetype": "text/x-python",
   "name": "python",
   "nbconvert_exporter": "python",
   "pygments_lexer": "ipython3",
   "version": "3.10.14"
  }
 },
 "nbformat": 4,
 "nbformat_minor": 2
}
