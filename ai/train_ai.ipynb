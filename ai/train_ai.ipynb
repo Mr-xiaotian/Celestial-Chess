{
 "cells": [
  {
   "cell_type": "code",
   "execution_count": 1,
   "metadata": {},
   "outputs": [
    {
     "name": "stdout",
     "output_type": "stream",
     "text": [
      "True\n",
      "NVIDIA RTX A5000\n",
      "tensor([[0.6601, 0.0063, 0.1479],\n",
      "        [0.9316, 0.0662, 0.5008],\n",
      "        [0.3951, 0.6088, 0.6714]], device='cuda:0')\n"
     ]
    }
   ],
   "source": [
    "import torch\n",
    "flag = torch.cuda.is_available()\n",
    "print(flag)\n",
    "\n",
    "if flag:\n",
    "    print(torch.cuda.get_device_name(0))\n",
    "    print(torch.rand(3,3).cuda()) "
   ]
  },
  {
   "cell_type": "code",
   "execution_count": 1,
   "metadata": {},
   "outputs": [],
   "source": [
    "import sys\n",
    "import os\n",
    "\n",
    "# 确定项目根目录（假设当前工作目录是项目的根目录）\n",
    "project_root = os.path.abspath(\"..\")\n",
    "sys.path.insert(0, project_root)\n",
    "\n",
    "import pickle\n",
    "from ai import ai_battle, MinimaxAI, MCTSAI\n",
    "from game.chess_game import ChessGame\n",
    "from CelestialVault.instances import ExampleThreadManager\n",
    "\n",
    "\n",
    "class TrainDataThread(ExampleThreadManager):\n",
    "    def get_args(self, obj: object):\n",
    "        return (mcts_ai_0, mcts_ai_0, ChessGame((5, 5), 2), False)\n",
    "    \n",
    "    def process_result(self):\n",
    "        all_training_data = []\n",
    "        result_dict = self.get_result_dict()\n",
    "        for d in result_dict:\n",
    "            over_game = result_dict[d]\n",
    "            history_board = over_game.history_board\n",
    "            history_move = over_game.history_move\n",
    "            for step in history_board:\n",
    "                if step+1 not in history_board.keys():\n",
    "                    continue\n",
    "                board = self.process_board(history_board, step)\n",
    "                # if (board, history_move[step+1]) in all_training_data: # 这样效果并不好\n",
    "                #     continue\n",
    "                all_training_data.append((board, history_move[step+1]))\n",
    "        return all_training_data\n",
    "    \n",
    "    def process_board(self, history_board, step):\n",
    "        color = 1 if step % 2 == 0 else -1\n",
    "        \n",
    "        processed_board = []\n",
    "        for row in history_board[step]:\n",
    "            processed_row = []\n",
    "            for cell in row:\n",
    "                processed_cell = cell + [color]\n",
    "                if processed_cell[0] == float(\"inf\"):\n",
    "                    processed_cell[0] = 5\n",
    "                processed_row.append(processed_cell)\n",
    "            processed_board.append(processed_row)\n",
    "        return processed_board\n",
    "\n",
    "\n",
    "\n",
    "minimax_ai = MinimaxAI(5)\n",
    "mcts_ai_0 = MCTSAI(10000, flag=True)\n",
    "mcts_ai_1 = MCTSAI(10000, flag=False)\n",
    "\n",
    "train_data_threader = TrainDataThread(\n",
    "            ai_battle,\n",
    "            thread_num=50,\n",
    "            tqdm_desc='trainDataProcess',\n",
    "            show_progress=True)\n"
   ]
  },
  {
   "cell_type": "code",
   "execution_count": 27,
   "metadata": {},
   "outputs": [],
   "source": [
    "\n",
    "from time import strftime, localtime\n",
    "\n",
    "def load_data(file_path):\n",
    "    with open(file_path, \"rb\") as f:\n",
    "        data = pickle.load(f)\n",
    "    return data\n",
    "\n",
    "def save_data(data):\n",
    "    data_size = len(data)\n",
    "    now_time = strftime(\"%m-%d-%H\", localtime())\n",
    "    pickle.dump(data, open(f\"train_data/all_training_data({now_time})({data_size}).pkl\", \"wb\"))\n",
    "\n",
    "def train_data(train_num):\n",
    "    train_data_threader.start(range(train_num), \"serial\")\n",
    "    train_data_threader.handle_error()\n",
    "    all_training_data = train_data_threader.process_result()\n",
    "\n",
    "    save_data(all_training_data)\n",
    "    \n",
    "\n",
    "    return all_training_data\n",
    "\n",
    "# all_training_data = []\n",
    "# for _ in range(1):\n",
    "#     all_training_data += train_data(100)\n",
    "\n",
    "# len(all_training_data)"
   ]
  },
  {
   "cell_type": "code",
   "execution_count": 69,
   "metadata": {},
   "outputs": [],
   "source": [
    "save_data(all_training_data)"
   ]
  },
  {
   "cell_type": "code",
   "execution_count": 85,
   "metadata": {},
   "outputs": [],
   "source": [
    "all_training_data = load_data(r\"G:\\Project\\Celestial-Chess\\ai\\train_data\\all_training_data(06-13-23)(1506).pkl\")"
   ]
  },
  {
   "cell_type": "code",
   "execution_count": 67,
   "metadata": {},
   "outputs": [
    {
     "data": {
      "text/plain": [
       "9598"
      ]
     },
     "execution_count": 67,
     "metadata": {},
     "output_type": "execute_result"
    }
   ],
   "source": [
    "old_data = all_training_data[:]\n",
    "all_training_data = []\n",
    "\n",
    "for i in old_data:\n",
    "    if i in all_training_data:\n",
    "        continue\n",
    "    all_training_data.append(i)\n",
    "\n",
    "len(all_training_data)"
   ]
  },
  {
   "cell_type": "code",
   "execution_count": 86,
   "metadata": {},
   "outputs": [
    {
     "data": {
      "text/plain": [
       "1506"
      ]
     },
     "execution_count": 86,
     "metadata": {},
     "output_type": "execute_result"
    }
   ],
   "source": [
    "import torch\n",
    "from torch.utils.data import DataLoader, Dataset\n",
    "\n",
    "class ChessDataset(Dataset):\n",
    "    def __init__(self, data):\n",
    "        self.data = data\n",
    "\n",
    "    def __len__(self):\n",
    "        return len(self.data)\n",
    "\n",
    "    def __getitem__(self, idx):\n",
    "        board_state, move = self.data[idx]\n",
    "        board_state = torch.tensor(board_state, dtype=torch.float32)\n",
    "        move = move[0] * 5 + move[1]\n",
    "        return board_state, move\n",
    "\n",
    "dataset = ChessDataset(all_training_data)\n",
    "dataloader = DataLoader(dataset, batch_size=32, shuffle=True)\n",
    "\n",
    "len(dataset)"
   ]
  },
  {
   "cell_type": "code",
   "execution_count": 87,
   "metadata": {},
   "outputs": [
    {
     "name": "stdout",
     "output_type": "stream",
     "text": [
      "Finished Training\n"
     ]
    }
   ],
   "source": [
    "from time import strftime, localtime\n",
    "import torch.nn as nn\n",
    "import torch.optim as optim\n",
    "from ai.deeplearning import ChessModel, DeepLearningAI\n",
    "\n",
    "# 设置CuDNN选项\n",
    "torch.backends.cudnn.benchmark = True\n",
    "\n",
    "model = ChessModel().cuda() # 初始化模型，并将其移动到GPU上\n",
    "criterion = nn.CrossEntropyLoss() # 定义交叉熵损失函数\n",
    "optimizer = optim.Adam(model.parameters(), lr=0.001) # 定义Adam优化器\n",
    "\n",
    "# 训练循环\n",
    "num_epochs = 10  # 训练10个epoch\n",
    "for epoch in range(num_epochs):\n",
    "    model.train()\n",
    "    running_loss = 0.0\n",
    "    for i, data in enumerate(dataloader, 0):\n",
    "        inputs, labels = data\n",
    "        # 调整输入的维度，并将其移动到GPU上\n",
    "        # inputs 的原始形状是 (batch_size, height, width, channels)，也就是 (32, 5, 5, 3)\n",
    "        # inputs.permute(0, 3, 1, 2) 会将 inputs 的维度从 (32, 5, 5, 3) 转换为 (32, 3, 5, 5)\n",
    "        inputs = inputs.permute(0, 3, 1, 2).cuda()  # (batch_size, channels, height, width)\n",
    "        labels = labels.cuda()\n",
    "\n",
    "        # 清零梯度\n",
    "        optimizer.zero_grad()\n",
    "\n",
    "        # 前向传播\n",
    "        outputs = model(inputs)\n",
    "        # 计算损失\n",
    "        loss = criterion(outputs, labels)\n",
    "        # 反向传播\n",
    "        loss.backward()\n",
    "        # 更新参数\n",
    "        optimizer.step()\n",
    "\n",
    "        # 累积损失\n",
    "        running_loss += loss.item()\n",
    "        if i % 100 == 99:  # 每100个batch打印一次loss\n",
    "            print(f'Epoch {epoch + 1}, Batch {i + 1}, Loss: {running_loss / 100:.3f}')\n",
    "            running_loss = 0.0\n",
    "\n",
    "print('Finished Training')\n",
    "data_size = len(dataset)\n",
    "now_time = strftime(\"%m-%d-%H\", localtime())\n",
    "torch.save(model.state_dict(), f'models/chess_ai_model({now_time})({data_size}).pth')\n"
   ]
  },
  {
   "cell_type": "code",
   "execution_count": 1,
   "metadata": {},
   "outputs": [],
   "source": [
    "import sys\n",
    "import os\n",
    "\n",
    "# 确定项目根目录（假设当前工作目录是项目的根目录）\n",
    "project_root = os.path.abspath(\"..\")\n",
    "sys.path.insert(0, project_root)\n",
    "\n",
    "from tqdm import tqdm\n",
    "from ai import ai_battle, MinimaxAI, MCTSAI\n",
    "from ai.deeplearning import DeepLearningAI\n",
    "from game.chess_game import ChessGame\n",
    "\n",
    "def get_model_score_by_mcts(test_model):\n",
    "    score = 0\n",
    "    for i in tqdm(range(10, 1000, 10)):\n",
    "        win = 0\n",
    "        test_mcts = MCTSAI(i, flag=True)\n",
    "        for _ in range(100):\n",
    "            game = ai_battle(test_model, test_mcts, ChessGame((5, 5), 2), display=False)\n",
    "            if game.who_is_winner() == 1:\n",
    "                win += 1\n",
    "        if win / 100 < 0.5:\n",
    "            return score\n",
    "        score = i\n",
    "\n",
    "# 深度学习AI\n",
    "deep_learning_dict = {'models/chess_ai_model(06-15-17)(1471).pth': 20, \n",
    "                      'models/chess_ai_model(06-15-17)(936).pth': 10, \n",
    "                      'models/chess_ai_model(06-15-17)(15475).pth': 50, \n",
    "                      'models/chess_ai_model(06-15-17)(9598).pth': 50,\n",
    "                      \"models/chess_ai_model(06-13-19).pth\": 20,\n",
    "                      \"models/chess_ai_model(06-15-17)(1506).pth\": 10\n",
    "                      }\n",
    "\n",
    "# 测试AI\n",
    "test_minimax = MinimaxAI(6)\n",
    "test_mcts_0 = MCTSAI(230, flag=True)\n",
    "test_mcts_1 = MCTSAI(100, flag=True) #score: 50\n",
    "test_mcts_2 = MCTSAI(100, flag=False)\n",
    "\n",
    "# 与其他AI算法进行对战\n",
    "# ai_battle(deep_learning_ai_2, test_mcts_0, ChessGame((5, 5), 2), display=True)\n",
    "\n"
   ]
  },
  {
   "cell_type": "code",
   "execution_count": 3,
   "metadata": {},
   "outputs": [
    {
     "name": "stderr",
     "output_type": "stream",
     "text": [
      "  0%|          | 0/99 [00:00<?, ?it/s]"
     ]
    },
    {
     "name": "stderr",
     "output_type": "stream",
     "text": [
      "  2%|▏         | 2/99 [01:51<1:30:27, 55.95s/it]\n",
      "  1%|          | 1/99 [00:57<1:34:33, 57.89s/it]\n"
     ]
    }
   ],
   "source": [
    "for dl_path in [\"models/chess_ai_model(06-13-19).pth\", \n",
    "                \"models/chess_ai_model(06-15-17)(1506).pth\"]:\n",
    "    deep_lerning_model = DeepLearningAI(dl_path)\n",
    "    score = get_model_score_by_mcts(deep_lerning_model)\n",
    "    deep_learning_dict[dl_path] = score\n",
    "    # print(f'{dl_path} score: {score}')\n",
    "        "
   ]
  },
  {
   "cell_type": "code",
   "execution_count": 8,
   "metadata": {},
   "outputs": [
    {
     "name": "stderr",
     "output_type": "stream",
     "text": [
      "  0%|          | 0/99 [00:00<?, ?it/s]"
     ]
    }
   ],
   "source": [
    "get_model_score_by_mcts(MCTSAI(100, flag=False))"
   ]
  },
  {
   "cell_type": "code",
   "execution_count": null,
   "metadata": {},
   "outputs": [],
   "source": [
    "get_model_score_by_mcts(test_minimax)"
   ]
  }
 ],
 "metadata": {
  "kernelspec": {
   "display_name": "chessenv",
   "language": "python",
   "name": "python3"
  },
  "language_info": {
   "codemirror_mode": {
    "name": "ipython",
    "version": 3
   },
   "file_extension": ".py",
   "mimetype": "text/x-python",
   "name": "python",
   "nbconvert_exporter": "python",
   "pygments_lexer": "ipython3",
   "version": "3.10.13"
  }
 },
 "nbformat": 4,
 "nbformat_minor": 2
}
