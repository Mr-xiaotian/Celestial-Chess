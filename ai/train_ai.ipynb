{
 "cells": [
  {
   "cell_type": "code",
   "execution_count": null,
   "metadata": {},
   "outputs": [
    {
     "name": "stdout",
     "output_type": "stream",
     "text": [
      "True\n",
      "NVIDIA RTX A5000\n",
      "tensor([[0.4938, 0.5651, 0.5798],\n",
      "        [0.5265, 0.5529, 0.2071],\n",
      "        [0.1274, 0.2573, 0.5208]], device='cuda:0')\n"
     ]
    }
   ],
   "source": [
    "import torch\n",
    "flag = torch.cuda.is_available()\n",
    "print(flag)\n",
    "\n",
    "if flag:\n",
    "    print(torch.cuda.get_device_name(0))\n",
    "    print(torch.rand(3,3).cuda()) "
   ]
  },
  {
   "cell_type": "code",
   "execution_count": 3,
   "metadata": {},
   "outputs": [],
   "source": [
    "import sys\n",
    "import os\n",
    "\n",
    "# 确定项目根目录（假设当前工作目录是项目的根目录）\n",
    "project_root = os.path.abspath(\"..\")\n",
    "sys.path.insert(0, project_root)\n",
    "\n",
    "import pickle, re, json\n",
    "import numpy as np\n",
    "from ai import ai_battle, MinimaxAI, MCTSAI\n",
    "from game.chess_game import ChessGame\n",
    "# from CelestialVault.instances import ExampleThreadManager\n",
    "from time import strftime, localtime\n",
    "\n",
    "\n",
    "# class TrainDataThread(ExampleThreadManager):\n",
    "#     def get_args(self, obj: object):\n",
    "#         train_game = ChessGame((5, 5), 2)\n",
    "#         train_game.init_cfunc()\n",
    "#         train_game.init_history()\n",
    "#         return (mcts_ai_0, mcts_ai_0, train_game, False)\n",
    "    \n",
    "#     def process_result(self):\n",
    "#         all_training_data = []\n",
    "#         result_dict = self.get_result_dict()\n",
    "#         for over_game in result_dict.values():\n",
    "#             history_board = over_game.history_board\n",
    "#             history_move = over_game.history_move\n",
    "#             for step in range(over_game.max_step-1):\n",
    "#                 board = self.process_board(history_board[step], step)\n",
    "#                 # if (board, history_move[step+1]) in all_training_data: # 这样效果并不好\n",
    "#                 #     continue\n",
    "#                 all_training_data.append((board, history_move[step+1]))\n",
    "#         return all_training_data\n",
    "    \n",
    "#     def process_board(self, chess_board, step):\n",
    "#         color = 1 if step % 2 == 0 else -1\n",
    "#         color_channel = np.full((5, 5, 1), color)\n",
    "\n",
    "#         processed_board = np.concatenate((chess_board, color_channel), axis=2)\n",
    "        \n",
    "#         for row in processed_board:\n",
    "#             for cell in row:\n",
    "#                 if cell[0] == float(\"inf\"):\n",
    "#                     cell[0] = 5\n",
    "#         return processed_board\n",
    "\n",
    "def load_data(file_path):\n",
    "    with open(file_path, \"rb\") as f:\n",
    "        data = pickle.load(f)\n",
    "    return data\n",
    "\n",
    "def save_data(data):\n",
    "    data_size = len(data)\n",
    "    now_time = strftime(\"%m-%d-%H\", localtime())\n",
    "    pickle.dump(data, open(f\"train_data/all_training_data({now_time})({data_size}).pkl\", \"wb\"))\n",
    "\n",
    "def start_train_data(train_num):\n",
    "    train_data_threader.start(range(train_num), \"serial\")\n",
    "    train_data_threader.handle_error()\n",
    "    all_training_data = train_data_threader.process_result()\n",
    "\n",
    "    save_data(all_training_data)\n",
    "    \n",
    "    return all_training_data\n",
    "\n",
    "def get_model_info_dict(path, train_data_path, model):\n",
    "    model_info_dict = {}\n",
    "    model_info_dict[\"path\"] = path\n",
    "    model_info_dict[\"train_data_path\"] = train_data_path\n",
    "\n",
    "    model_str = str(model)\n",
    "    model_lines = re.split(r'\\n', model_str)\n",
    "    layer_dict = {}\n",
    "    for line in model_lines[1:-1]:  # 跳过开头和结尾的行\n",
    "        re_ = re.compile(r\"\\((.*?)\\): (.*)\")\n",
    "        layer_name = re_.search(line).group(1)\n",
    "        layer_args = re_.search(line).group(2)\n",
    "        \n",
    "        layer_dict[layer_name] = layer_args\n",
    "    model_info_dict[\"layers\"] = layer_dict\n",
    "\n",
    "\n",
    "    return model_info_dict\n",
    "\n",
    "def save_info_dict(info_dict, model_type):\n",
    "    with open('model_score.json', 'r') as f:\n",
    "        model_score = json.load(f)\n",
    "\n",
    "    model_score[model_type].append(info_dict)\n",
    "\n",
    "    with open('model_score.json', 'w') as f:\n",
    "        json.dump(model_score, f, indent=2)\n",
    "\n",
    "# minimax_ai = MinimaxAI(5)\n",
    "mcts_ai_0 = MCTSAI(1000, complate_mode=False)\n",
    "mcts_ai_1 = MCTSAI(50000, complate_mode=False)\n",
    "\n",
    "# train_data_threader = TrainDataThread(\n",
    "#             ai_battle,\n",
    "#             thread_num=200,\n",
    "#             tqdm_desc='trainDataProcess',\n",
    "#             show_progress=True)\n"
   ]
  },
  {
   "cell_type": "code",
   "execution_count": 8,
   "metadata": {},
   "outputs": [
    {
     "name": "stderr",
     "output_type": "stream",
     "text": [
      "trainDataProcess: 100%|██████████| 200/200 [01:28<00:00,  2.26it/s]\n",
      "trainDataProcess: 100%|██████████| 200/200 [01:28<00:00,  2.25it/s]\n",
      "trainDataProcess: 100%|██████████| 200/200 [01:28<00:00,  2.25it/s]\n",
      "trainDataProcess: 100%|██████████| 200/200 [01:28<00:00,  2.25it/s]\n",
      "trainDataProcess: 100%|██████████| 200/200 [01:29<00:00,  2.23it/s]\n"
     ]
    },
    {
     "data": {
      "text/plain": [
       "13631"
      ]
     },
     "execution_count": 8,
     "metadata": {},
     "output_type": "execute_result"
    }
   ],
   "source": [
    "all_training_data = []\n",
    "for _ in range(1):\n",
    "    all_training_data += train_data(1000)\n",
    "\n",
    "len(all_training_data)"
   ]
  },
  {
   "cell_type": "code",
   "execution_count": 3,
   "metadata": {},
   "outputs": [
    {
     "data": {
      "text/plain": [
       "(array([[[0., 0., 1.],\n",
       "         [0., 0., 1.],\n",
       "         [0., 0., 1.],\n",
       "         [0., 0., 1.],\n",
       "         [0., 0., 1.]],\n",
       " \n",
       "        [[0., 0., 1.],\n",
       "         [0., 0., 1.],\n",
       "         [0., 0., 1.],\n",
       "         [0., 0., 1.],\n",
       "         [0., 0., 1.]],\n",
       " \n",
       "        [[0., 0., 1.],\n",
       "         [0., 0., 1.],\n",
       "         [0., 0., 1.],\n",
       "         [0., 0., 1.],\n",
       "         [0., 0., 1.]],\n",
       " \n",
       "        [[0., 0., 1.],\n",
       "         [0., 0., 1.],\n",
       "         [0., 0., 1.],\n",
       "         [0., 0., 1.],\n",
       "         [0., 0., 1.]],\n",
       " \n",
       "        [[0., 0., 1.],\n",
       "         [0., 0., 1.],\n",
       "         [0., 0., 1.],\n",
       "         [0., 0., 1.],\n",
       "         [0., 0., 1.]]]),\n",
       " array([1, 2]))"
      ]
     },
     "execution_count": 3,
     "metadata": {},
     "output_type": "execute_result"
    }
   ],
   "source": [
    "all_training_data[0]"
   ]
  },
  {
   "cell_type": "code",
   "execution_count": 4,
   "metadata": {},
   "outputs": [],
   "source": [
    "train_data_path = r\"train_data\\train_data(06-22-17)(136090).pkl\"\n",
    "\n",
    "train_data = load_data(train_data_path)"
   ]
  },
  {
   "cell_type": "code",
   "execution_count": 5,
   "metadata": {},
   "outputs": [
    {
     "data": {
      "text/plain": [
       "136090"
      ]
     },
     "execution_count": 5,
     "metadata": {},
     "output_type": "execute_result"
    }
   ],
   "source": [
    "import torch\n",
    "from torch.utils.data import DataLoader, Dataset\n",
    "\n",
    "class ChessDataset(Dataset):\n",
    "    def __init__(self, data):\n",
    "        self.data = data\n",
    "\n",
    "    def __len__(self):\n",
    "        return len(self.data)\n",
    "\n",
    "    def __getitem__(self, idx):\n",
    "        board_state, move = self.data[idx]\n",
    "        board_state = torch.tensor(board_state, dtype=torch.float32)\n",
    "        move = move[0] * 5 + move[1]\n",
    "        return board_state, move\n",
    "\n",
    "dataset = ChessDataset(train_data)\n",
    "dataloader = DataLoader(dataset, batch_size=32, shuffle=True)\n",
    "\n",
    "len(dataset)"
   ]
  },
  {
   "cell_type": "code",
   "execution_count": 6,
   "metadata": {},
   "outputs": [
    {
     "name": "stdout",
     "output_type": "stream",
     "text": [
      "Epoch 1, Batch 100, Loss: 3.191\n",
      "Epoch 1, Batch 200, Loss: 3.089\n",
      "Epoch 1, Batch 300, Loss: 3.079\n",
      "Epoch 1, Batch 400, Loss: 3.032\n",
      "Epoch 1, Batch 500, Loss: 2.962\n",
      "Epoch 1, Batch 600, Loss: 2.912\n",
      "Epoch 1, Batch 700, Loss: 2.889\n",
      "Epoch 1, Batch 800, Loss: 2.857\n",
      "Epoch 1, Batch 900, Loss: 2.822\n",
      "Epoch 1, Batch 1000, Loss: 2.814\n",
      "Epoch 1, Batch 1100, Loss: 2.760\n",
      "Epoch 1, Batch 1200, Loss: 2.779\n",
      "Epoch 1, Batch 1300, Loss: 2.739\n",
      "Epoch 1, Batch 1400, Loss: 2.734\n",
      "Epoch 1, Batch 1500, Loss: 2.703\n",
      "Epoch 1, Batch 1600, Loss: 2.672\n",
      "Epoch 1, Batch 1700, Loss: 2.665\n",
      "Epoch 1, Batch 1800, Loss: 2.606\n",
      "Epoch 1, Batch 1900, Loss: 2.575\n",
      "Epoch 1, Batch 2000, Loss: 2.570\n",
      "Epoch 1, Batch 2100, Loss: 2.544\n",
      "Epoch 1, Batch 2200, Loss: 2.492\n",
      "Epoch 1, Batch 2300, Loss: 2.494\n",
      "Epoch 1, Batch 2400, Loss: 2.414\n",
      "Epoch 1, Batch 2500, Loss: 2.400\n",
      "Epoch 1, Batch 2600, Loss: 2.342\n",
      "Epoch 1, Batch 2700, Loss: 2.306\n",
      "Epoch 1, Batch 2800, Loss: 2.313\n",
      "Epoch 1, Batch 2900, Loss: 2.277\n",
      "Epoch 1, Batch 3000, Loss: 2.244\n",
      "Epoch 1, Batch 3100, Loss: 2.195\n",
      "Epoch 1, Batch 3200, Loss: 2.175\n",
      "Epoch 1, Batch 3300, Loss: 2.170\n"
     ]
    }
   ],
   "source": [
    "from time import strftime, localtime\n",
    "import torch.nn as nn\n",
    "import torch.optim as optim\n",
    "from ai.deeplearning import ChessPolicyModel\n",
    "\n",
    "\n",
    "# 设置CuDNN选项\n",
    "torch.backends.cudnn.benchmark = True\n",
    "\n",
    "device = torch.device(\"cuda\" if torch.cuda.is_available() else \"cpu\")\n",
    "model = ChessPolicyModel().to(device) # 初始化模型，并将其移动到GPU上\n",
    "criterion = nn.CrossEntropyLoss() # 定义交叉熵损失函数\n",
    "optimizer = optim.Adam(model.parameters(), lr=0.001) # 定义Adam优化器\n",
    "\n",
    "train_log_text = []\n",
    "# 训练循环\n",
    "num_epochs = 10  # 训练10个epoch\n",
    "for epoch in range(num_epochs):\n",
    "    model.train()\n",
    "    running_loss = 0.0\n",
    "    for i, data in enumerate(dataloader, 0):\n",
    "        inputs, labels = data\n",
    "        # 调整输入的维度，并将其移动到GPU上\n",
    "        # inputs 的原始形状是 (batch_size, height, width, channels)，也就是 (32, 5, 5, 3)\n",
    "        # inputs.permute(0, 3, 1, 2) 会将 inputs 的维度从 (32, 5, 5, 3) 转换为 (32, 3, 5, 5)\n",
    "        inputs = inputs.permute(0, 3, 1, 2).to(device)  # (batch_size, channels, height, width)\n",
    "        labels = labels.to(device).to(torch.int64)\n",
    "\n",
    "        # 清零梯度\n",
    "        optimizer.zero_grad()\n",
    "\n",
    "        # 前向传播\n",
    "        outputs = model(inputs)\n",
    "        # 计算损失\n",
    "        loss = criterion(outputs, labels)\n",
    "        # 反向传播\n",
    "        loss.backward()\n",
    "        # 更新参数\n",
    "        optimizer.step()\n",
    "\n",
    "        # 累积损失\n",
    "        running_loss += loss.item()\n",
    "        if i % 100 == 99:  # 每100个batch打印一次loss\n",
    "            log_text = f'Epoch {epoch + 1}, Batch {i + 1}, Loss: {running_loss / 100:.3f}'\n",
    "            print(log_text)\n",
    "            train_log_text.append(log_text)\n",
    "            running_loss = 0.0\n",
    "\n",
    "print('Finished Training')\n",
    "data_size = len(dataset)\n",
    "now_time = strftime(\"%m-%d-%H-%M\", localtime())\n",
    "model_path = f'models/dl_model({now_time})({data_size}).pth'\n",
    "torch.save(model.state_dict(), model_path)\n",
    "\n",
    "model_info_dict = get_model_info_dict(model_path, train_data_path, model)\n",
    "save_info_dict(model_info_dict, \"DeepLearningAI\")\n",
    "\n",
    "model_loss_path = f'models_loss/dl_model({now_time})({data_size}).txt'\n",
    "with open(model_loss_path, 'w') as f:\n",
    "    f.write('\\n'.join(train_log_text))\n"
   ]
  },
  {
   "cell_type": "code",
   "execution_count": 10,
   "metadata": {},
   "outputs": [
    {
     "name": "stdout",
     "output_type": "stream",
     "text": [
      "----------------------------------------------------------------\n",
      "        Layer (type)               Output Shape         Param #\n",
      "================================================================\n",
      "            Conv2d-1             [-1, 32, 5, 5]             896\n",
      "            Conv2d-2             [-1, 64, 5, 5]          18,496\n",
      "            Conv2d-3            [-1, 128, 5, 5]          73,856\n",
      "            Conv2d-4            [-1, 256, 5, 5]         295,168\n",
      "            Linear-5                  [-1, 512]       3,277,312\n",
      "           Dropout-6                  [-1, 512]               0\n",
      "            Linear-7                   [-1, 25]          12,825\n",
      "================================================================\n",
      "Total params: 3,678,553\n",
      "Trainable params: 3,678,553\n",
      "Non-trainable params: 0\n",
      "----------------------------------------------------------------\n",
      "Input size (MB): 0.00\n",
      "Forward/backward pass size (MB): 0.10\n",
      "Params size (MB): 14.03\n",
      "Estimated Total Size (MB): 14.13\n",
      "----------------------------------------------------------------\n"
     ]
    }
   ],
   "source": [
    "from torchsummary import summary\n",
    "\n",
    "summary(model, input_size=(3, 5, 5))  # 输入模型和输入tensor尺寸"
   ]
  },
  {
   "cell_type": "markdown",
   "metadata": {},
   "source": [
    "## Show the Result"
   ]
  },
  {
   "cell_type": "code",
   "execution_count": 1,
   "metadata": {},
   "outputs": [],
   "source": [
    "import sys\n",
    "import os\n",
    "\n",
    "# 确定项目根目录（假设当前工作目录是项目的根目录）\n",
    "project_root = os.path.abspath(\"..\")\n",
    "sys.path.insert(0, project_root)\n",
    "\n",
    "from tqdm import tqdm\n",
    "from ai import MinimaxAI, MCTSAI\n",
    "from ai.test_ai import get_model_score_by_mcts, ai_battle\n",
    "from ai.deeplearning import DeepLearningAI\n",
    "from game.chess_game import ChessGame\n",
    "\n",
    "\n",
    "def get_best_c_param(game_state):\n",
    "    best_c_param = 0.0\n",
    "    c_param_dict = dict()\n",
    "    best_mcts = MCTSAI(100, c_param=best_c_param, policy_net=policy_model, complate_mode=False)\n",
    "\n",
    "    for param in tqdm(range(0, 11, 1)):\n",
    "        win = 0\n",
    "        test_mcts = MCTSAI(100, c_param=param/10, policy_net=policy_model, complate_mode=False)\n",
    "\n",
    "        for _ in range(100):\n",
    "            test_game = ChessGame(*game_state)\n",
    "            test_game.init_history()\n",
    "            over_game = ai_battle(best_mcts, test_mcts, test_game, display=False)\n",
    "            winner = over_game.who_is_winner()\n",
    "            if winner == 1:\n",
    "                win += 1\n",
    "            elif winner == 0:\n",
    "                win += 0.5\n",
    "\n",
    "        c_param_dict[f\"{best_c_param} : {param/10}\"] = win\n",
    "        if win < 50:\n",
    "            best_c_param = param/10\n",
    "            best_mcts = MCTSAI(100, c_param=best_c_param, complate_mode=False)\n",
    "        \n",
    "    return best_c_param, c_param_dict\n",
    "\n",
    "# 与其他AI算法进行对战\n",
    "game_state = ((5,5), 2)\n",
    "\n",
    "# policy_model = DeepLearningAI('models/dl_model(06-22-21-18)(136090)(32-64-128-256).pth', complate_mode=False)"
   ]
  },
  {
   "cell_type": "code",
   "execution_count": 7,
   "metadata": {},
   "outputs": [
    {
     "data": {
      "text/plain": [
       "'models/dl_model(06-28-15-00)(136090).pth'"
      ]
     },
     "execution_count": 7,
     "metadata": {},
     "output_type": "execute_result"
    }
   ],
   "source": [
    "model_path"
   ]
  },
  {
   "cell_type": "code",
   "execution_count": 4,
   "metadata": {},
   "outputs": [
    {
     "name": "stderr",
     "output_type": "stream",
     "text": [
      "  3%|▎         | 28/999 [02:55<1:41:31,  6.27s/it]"
     ]
    },
    {
     "name": "stdout",
     "output_type": "stream",
     "text": [
      "(280, {10: 0.815, 20: 0.815, 30: 0.735, 40: 0.705, 50: 0.635, 60: 0.625, 70: 0.66, 80: 0.615, 90: 0.64, 100: 0.595, 110: 0.625, 120: 0.655, 130: 0.59, 140: 0.545, 150: 0.61, 160: 0.545, 170: 0.535, 180: 0.545, 190: 0.595, 200: 0.57, 210: 0.565, 220: 0.5, 230: 0.515, 240: 0.47, 250: 0.545, 260: 0.515, 270: 0.56, 280: 0.505, 290: 0.465})\n"
     ]
    },
    {
     "name": "stderr",
     "output_type": "stream",
     "text": [
      "\n"
     ]
    }
   ],
   "source": [
    "print(get_model_score_by_mcts(DeepLearningAI('models/dl_model(06-28-15-00)(136090).pth', complate_mode=False), game_state))"
   ]
  },
  {
   "cell_type": "code",
   "execution_count": 7,
   "metadata": {},
   "outputs": [
    {
     "name": "stderr",
     "output_type": "stream",
     "text": [
      "100%|██████████| 11/11 [44:03<00:00, 240.33s/it] \n"
     ]
    },
    {
     "data": {
      "text/plain": [
       "(1.0,\n",
       " {'0 : 0.0': 47.0,\n",
       "  '0.0 : 0.1': 70.0,\n",
       "  '0.0 : 0.2': 60.0,\n",
       "  '0.0 : 0.3': 63.5,\n",
       "  '0.0 : 0.4': 40.0,\n",
       "  '0.4 : 0.5': 49.5,\n",
       "  '0.5 : 0.6': 55.0,\n",
       "  '0.5 : 0.7': 55.0,\n",
       "  '0.5 : 0.8': 53.5,\n",
       "  '0.5 : 0.9': 53.0,\n",
       "  '0.5 : 1.0': 47.0})"
      ]
     },
     "execution_count": 7,
     "metadata": {},
     "output_type": "execute_result"
    }
   ],
   "source": [
    "get_best_c_param(game_state)"
   ]
  },
  {
   "cell_type": "code",
   "execution_count": 3,
   "metadata": {},
   "outputs": [
    {
     "name": "stderr",
     "output_type": "stream",
     "text": [
      "  1%|          | 10/999 [00:41<1:08:30,  4.16s/it]"
     ]
    },
    {
     "name": "stdout",
     "output_type": "stream",
     "text": [
      "(100, {10: 0.73, 20: 0.72, 30: 0.66, 40: 0.685, 50: 0.585, 60: 0.575, 70: 0.59, 80: 0.48, 90: 0.55, 100: 0.48, 110: 0.525})\n"
     ]
    },
    {
     "name": "stderr",
     "output_type": "stream",
     "text": [
      "\n"
     ]
    }
   ],
   "source": [
    "print(get_model_score_by_mcts(MCTSAI(100, 0.9, complate_mode=False), game_state))"
   ]
  },
  {
   "cell_type": "code",
   "execution_count": 4,
   "metadata": {},
   "outputs": [
    {
     "name": "stderr",
     "output_type": "stream",
     "text": [
      "  0%|          | 0/999 [00:00<?, ?it/s]"
     ]
    },
    {
     "name": "stderr",
     "output_type": "stream",
     "text": [
      "  1%|          | 8/999 [26:49<55:23:30, 201.22s/it]"
     ]
    },
    {
     "name": "stdout",
     "output_type": "stream",
     "text": [
      "(80, {10: 0.735, 20: 0.69, 30: 0.67, 40: 0.565, 50: 0.545, 60: 0.56, 70: 0.555, 80: 0.5, 90: 0.49})\n"
     ]
    },
    {
     "name": "stderr",
     "output_type": "stream",
     "text": [
      "\n"
     ]
    }
   ],
   "source": [
    "policy_model = DeepLearningAI('models/dl_model(06-22-21-18)(136090)(32-64-128-256).pth', complate_mode=False)\n",
    "mcts_model = MCTSAI(100, c_param=0.5, policy_net=policy_model, complate_mode=False)\n",
    "\n",
    "print(get_model_score_by_mcts(mcts_model, game_state))"
   ]
  },
  {
   "cell_type": "code",
   "execution_count": 6,
   "metadata": {},
   "outputs": [
    {
     "data": {
      "text/plain": [
       "32"
      ]
     },
     "execution_count": 6,
     "metadata": {},
     "output_type": "execute_result"
    }
   ],
   "source": [
    "deeplearning_model = DeepLearningAI(r\"models\\chess_ai_model(06-15-17)(15475).pth\") \n",
    "\n",
    "len(deeplearning_model.model.conv1.weight.data)"
   ]
  },
  {
   "cell_type": "markdown",
   "metadata": {},
   "source": [
    "## old"
   ]
  },
  {
   "cell_type": "code",
   "execution_count": null,
   "metadata": {},
   "outputs": [],
   "source": [
    "# 深度学习AI\n",
    "deep_learning_dict = {\n",
    "                      # {10: 0.7, 20: 0.68, 30: 0.47}\n",
    "                      # \n",
    "                      \"models/chess_ai_model(06-13-19).pth\": 20, # 未知\n",
    "                      # {10: 0.7, 20: 0.51, 30: 0.43}\n",
    "                      # \n",
    "                      \"models/chess_ai_model(06-15-17)(1506).pth\": 20, # MCTSAI(1000, flag=True) 训练100轮\n",
    "                      # {10: 0.75, 20: 0.65, 30: 0.47}\n",
    "                      # \n",
    "                      'models/chess_ai_model(06-15-17)(1471).pth': 20, # MCTSAI(10000, flag=True) 训练100轮\n",
    "                      # {10: 0.63, 20: 0.41}\n",
    "                      'models/chess_ai_model(06-15-17)(936).pth': 10, # MCTSAI(10000, flag=True) 训练100轮并去重\n",
    "                      # {10: 0.82, 20: 0.76, 30: 0.65, 40: 0.57, 50: 0.56, 60: 0.44}\n",
    "                      # \n",
    "                      'models/chess_ai_model(06-15-17)(15475).pth': 50, # MCTSAI(1000, flag=True) 训练1000轮\n",
    "                      # {10: 0.84, 20: 0.58, 30: 0.57, 40: 0.61, 50: 0.56, 60: 0.41}\n",
    "                      'models/chess_ai_model(06-15-17)(9598).pth': 50, # MCTSAI(1000, flag=True) 训练1000轮并去重\n",
    "                      # {10: 0.32}\n",
    "                      \"models/chess_ai_model(06-16-15)(1400).pth\": 0, # MCTSAI(10000, flag=False) 训练100轮(没标错, 真是0分)\n",
    "                      # {10: 0.55, 20: 0.48}\n",
    "                      'models/chess_ai_model(06-16-20)(1542).pth': 10, # MCTSAI(1000, flag=False) 训练100轮\n",
    "\n",
    "                      # {10: 0.82, 20: 0.73, 30: 0.67, 40: 0.52, 50: 0.46}\n",
    "                      # \n",
    "                      'models/chess_ai_model(06-17-12)(15475).pth': 40, # MCTSAI(1000, flag=True) 训练1000轮, 使用三层32-64-128卷积层, 128-256-25全连接层\n",
    "                      # {10: 0.72, 20: 0.39}\n",
    "                      'models/chess_ai_model(06-17-12)(1506).pth': 10, # MCTSAI(1000, flag=True) 训练100轮, 使用三层32-64-128卷积层, 128-256-25全连接层\n",
    "                      \n",
    "                      # {10: 0.9, 20: 0.84, 30: 0.72, 40: 0.6, 50: 0.48}\n",
    "                      # {10: 0.88, 20: 0.83, 30: 0.69, 40: 0.68, 50: 0.57, 60: 0.65, 70: 0.61, 80: 0.63, 90: 0.49}\n",
    "                      # \n",
    "                      'models/chess_ai_model(06-17-13)(15475).pth': 80, # MCTSAI(1000, flag=True) 训练1000轮, 使用三层16-32-64卷积层, 64-128-25全连接层\n",
    "                      }\n",
    "\n",
    "                    \n",
    "# deep_learning_ai_0 = DeepLearningAI(\"models/chess_ai_model(06-15-17)(936).pth\") \n",
    "\n",
    "# 测试AI\n",
    "test_minimax = MinimaxAI(6) # score: 50\n",
    "test_mcts_0 = MCTSAI(1000) # \n",
    "test_mcts_1 = MCTSAI(100, flag=True) # score: 50\n",
    "test_mcts_2 = MCTSAI(100, flag=False) # score: 80\n",
    "test_mcts_3 = MCTSAI(60, flag=True) # 50, {10: 0.82, 20: 0.76, 30: 0.53, 40: 0.57, 50: 0.51, 60: 0.32}\n",
    "test_mcts_4 = MCTSAI(60, flag=False) # 110, {10: 0.86, 20: 0.86, 30: 0.77, 40: 0.63, 50: 0.58, 60: 0.63, 70: 0.58, 80: 0.52, 90: 0.51, 100: 0.5, 110: 0.52, 120: 0.45}\n",
    "test_mcts_5 = MCTSAI(10, flag=True) # 0, {10: 0.45}\n",
    "test_mcts_6 = MCTSAI(10, flag=False) # 50, {10: 0.76, 20: 0.69, 30: 0.57, 40: 0.56, 50: 0.5, 60: 0.4}\n",
    "test_mcts_7 = MCTSAI(500, flag=True)"
   ]
  },
  {
   "cell_type": "code",
   "execution_count": null,
   "metadata": {},
   "outputs": [],
   "source": []
  }
 ],
 "metadata": {
  "kernelspec": {
   "display_name": "chessenv",
   "language": "python",
   "name": "python3"
  },
  "language_info": {
   "codemirror_mode": {
    "name": "ipython",
    "version": 3
   },
   "file_extension": ".py",
   "mimetype": "text/x-python",
   "name": "python",
   "nbconvert_exporter": "python",
   "pygments_lexer": "ipython3",
   "version": "3.10.14"
  }
 },
 "nbformat": 4,
 "nbformat_minor": 2
}
