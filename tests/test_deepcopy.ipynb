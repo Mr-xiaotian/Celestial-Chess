{
 "cells": [
  {
   "cell_type": "code",
   "execution_count": 28,
   "metadata": {},
   "outputs": [],
   "source": [
    "import sys\n",
    "import os\n",
    "# 确定项目根目录（假设当前工作目录是项目的根目录）\n",
    "project_root = os.path.abspath(\"..\")\n",
    "sys.path.insert(0, project_root)\n",
    "\n",
    "import cProfile\n",
    "import pstats\n",
    "import numpy as np\n",
    "from copy import  deepcopy, copy\n",
    "from time import strftime, localtime\n",
    "from ai import AIAlgorithm, MinimaxAI, MCTSAI\n",
    "from game.chess_game import ChessGame\n",
    "from tools.custom_deepcopy import custom_deepcopy"
   ]
  },
  {
   "cell_type": "code",
   "execution_count": 29,
   "metadata": {},
   "outputs": [],
   "source": [
    "chessboard = np.zeros((5, 5, 2), dtype=float)\n",
    "\n",
    "copy_chessboard = copy(chessboard)\n",
    "deepcopy_chessboard = deepcopy(chessboard)\n",
    "npcopy_chessboard = np.copy(chessboard)\n",
    "custom_chessboard = custom_deepcopy(chessboard)"
   ]
  },
  {
   "cell_type": "code",
   "execution_count": 30,
   "metadata": {},
   "outputs": [
    {
     "name": "stdout",
     "output_type": "stream",
     "text": [
      "0.0 0.0 0.0 0.0\n"
     ]
    }
   ],
   "source": [
    "chessboard[2][3][0] = 99\n",
    "\n",
    "print(copy_chessboard[2][3][0], deepcopy_chessboard[2][3][0],\n",
    "      npcopy_chessboard[2][3][0], custom_chessboard[2][3][0])"
   ]
  },
  {
   "cell_type": "code",
   "execution_count": 31,
   "metadata": {},
   "outputs": [],
   "source": [
    "for _ in range(int(1e7)):\n",
    "    copy(chessboard)"
   ]
  },
  {
   "cell_type": "code",
   "execution_count": 10,
   "metadata": {},
   "outputs": [],
   "source": [
    "for _ in range(int(1e7)):\n",
    "    deepcopy(chessboard)"
   ]
  },
  {
   "cell_type": "code",
   "execution_count": 32,
   "metadata": {},
   "outputs": [],
   "source": [
    "for _ in range(int(1e7)):\n",
    "    custom_deepcopy(chessboard)"
   ]
  },
  {
   "cell_type": "code",
   "execution_count": 33,
   "metadata": {},
   "outputs": [],
   "source": [
    "for _ in range(int(1e7)):\n",
    "    np.copy(chessboard)"
   ]
  },
  {
   "cell_type": "code",
   "execution_count": 17,
   "metadata": {},
   "outputs": [
    {
     "data": {
      "text/plain": [
       "array([[[0., 0.],\n",
       "        [0., 0.],\n",
       "        [0., 0.],\n",
       "        [0., 0.],\n",
       "        [0., 0.]],\n",
       "\n",
       "       [[0., 0.],\n",
       "        [0., 0.],\n",
       "        [0., 0.],\n",
       "        [0., 0.],\n",
       "        [0., 0.]],\n",
       "\n",
       "       [[0., 0.],\n",
       "        [0., 0.],\n",
       "        [0., 0.],\n",
       "        [0., 0.],\n",
       "        [0., 0.]],\n",
       "\n",
       "       [[0., 0.],\n",
       "        [0., 0.],\n",
       "        [0., 0.],\n",
       "        [0., 0.],\n",
       "        [0., 0.]],\n",
       "\n",
       "       [[0., 0.],\n",
       "        [0., 0.],\n",
       "        [0., 0.],\n",
       "        [0., 0.],\n",
       "        [0., 0.]]])"
      ]
     },
     "execution_count": 17,
     "metadata": {},
     "output_type": "execute_result"
    }
   ],
   "source": [
    "new_chessboard"
   ]
  },
  {
   "cell_type": "markdown",
   "metadata": {},
   "source": [
    "## get_zero_index"
   ]
  },
  {
   "cell_type": "code",
   "execution_count": 9,
   "metadata": {},
   "outputs": [],
   "source": [
    "def get_zero_index_0(chessboard):\n",
    "    \"\"\"获取所有合法的移动\"\"\"\n",
    "    move_list = []\n",
    "    for row_idx, row in enumerate(chessboard):\n",
    "        for col_idx, cell in enumerate(row):\n",
    "            if cell[0] == 0:\n",
    "                move_list.append((row_idx, col_idx))\n",
    "    return move_list\n",
    "\n",
    "def get_zero_index_1(chessboard):\n",
    "    \"\"\"获取所有合法的移动\"\"\"\n",
    "    # 提取第一层（假设第一层是第一个维度）\n",
    "    first_layer = chessboard[:, :, 0]\n",
    "    # 找到所有值为0的元素的坐标\n",
    "    zero_indices = np.argwhere(first_layer == 0)\n",
    "    # 将坐标转换为行列索引\n",
    "    move_list = [(row, col) for row, col in zero_indices]\n",
    "    return move_list\n",
    "\n",
    "def get_zero_index_2(chessboard):\n",
    "    \"\"\"获取所有合法的移动\"\"\"\n",
    "    # 找到所有值为0的元素的坐标\n",
    "    zero_indices = np.argwhere(chessboard == 0)\n",
    "    # 将坐标转换为行列索引\n",
    "    move_list = [(row, col) for row, col, layer in zero_indices if layer==0]\n",
    "    return move_list\n",
    "\n",
    "def get_zero_index_3(chessboard):\n",
    "    \"\"\"获取所有合法的移动\"\"\"\n",
    "    # 找到所有值为0的元素的坐标\n",
    "    zero_indices = np.argwhere(chessboard == 0)\n",
    "    # 将坐标转换为行列索引\n",
    "    move_list = [(row, col) for row, col, layer in zero_indices]\n",
    "    return list(set(move_list))\n",
    "\n",
    "def get_zero_index_4(chessboard):\n",
    "    \"\"\"获取所有合法的移动\"\"\"\n",
    "    empty_cells = np.argwhere(chessboard[:, :, 0] == 0)\n",
    "    return [tuple(cell) for cell in empty_cells]\n",
    "\n",
    "from numba import njit\n",
    "\n",
    "def get_zero_index_5(chessboard):\n",
    "    \"\"\"获取所有合法的移动\"\"\"\n",
    "    move_list = []\n",
    "    for row_idx in range(chessboard.shape[0]):\n",
    "        for col_idx in range(chessboard.shape[1]):\n",
    "            if chessboard[row_idx, col_idx, 0] == 0:\n",
    "                move_list.append((row_idx, col_idx))\n",
    "    return move_list\n",
    "\n",
    "@njit\n",
    "def get_zero_index_6(chessboard):\n",
    "    \"\"\"获取所有合法的移动\"\"\"\n",
    "    move_list = []\n",
    "    for row_idx in range(chessboard.shape[0]):\n",
    "        for col_idx in range(chessboard.shape[1]):\n",
    "            if chessboard[row_idx, col_idx, 0] == 0:\n",
    "                move_list.append((row_idx, col_idx))\n",
    "    return move_list\n",
    "\n",
    "def get_zero_index_7(chessboard, board_range, execute=True):\n",
    "    if not execute:\n",
    "        return np.empty((0, 2), dtype=np.int32)  # 返回一个空的NumPy数组\n",
    "\n",
    "    move_list = np.empty((board_range[0] * board_range[1], 2), dtype=np.int32)\n",
    "    count = 0\n",
    "    for row_idx in range(board_range[0]):\n",
    "        for col_idx in range(board_range[1]):\n",
    "            if chessboard[row_idx, col_idx, 0] == 0:\n",
    "                move_list[count] = (row_idx, col_idx)\n",
    "                count += 1\n",
    "    return move_list[:count]  # 截取有效的部分\n",
    "\n",
    "@njit\n",
    "def get_zero_index_8(chessboard, board_range, execute=True):\n",
    "    if not execute:\n",
    "        return np.empty((0, 2), dtype=np.int32)  # 返回一个空的NumPy数组\n",
    "\n",
    "    move_list = np.empty((board_range[0] * board_range[1], 2), dtype=np.int32)\n",
    "    count = 0\n",
    "    for row_idx in range(board_range[0]):\n",
    "        for col_idx in range(board_range[1]):\n",
    "            if chessboard[row_idx, col_idx, 0] == 0:\n",
    "                move_list[count] = (row_idx, col_idx)\n",
    "                count += 1\n",
    "    return move_list[:count]  # 截取有效的部分\n",
    "\n",
    "chessboard_test = np.zeros((5, 5, 2), dtype=float)"
   ]
  },
  {
   "cell_type": "code",
   "execution_count": 82,
   "metadata": {},
   "outputs": [],
   "source": [
    "for _ in range(int(1e5)):\n",
    "    get_zero_index_0(chessboard_test)"
   ]
  },
  {
   "cell_type": "code",
   "execution_count": 75,
   "metadata": {},
   "outputs": [],
   "source": [
    "for _ in range(int(1e5)):\n",
    "    get_zero_index_1(chessboard_test)"
   ]
  },
  {
   "cell_type": "code",
   "execution_count": 77,
   "metadata": {},
   "outputs": [],
   "source": [
    "for _ in range(int(1e5)):\n",
    "    get_zero_index_2(chessboard_test)"
   ]
  },
  {
   "cell_type": "code",
   "execution_count": 79,
   "metadata": {},
   "outputs": [],
   "source": [
    "for _ in range(int(1e5)):\n",
    "    get_zero_index_3(chessboard_test)"
   ]
  },
  {
   "cell_type": "code",
   "execution_count": 81,
   "metadata": {},
   "outputs": [],
   "source": [
    "for _ in range(int(1e5)):\n",
    "    get_zero_index_4(chessboard_test)"
   ]
  },
  {
   "cell_type": "code",
   "execution_count": 10,
   "metadata": {},
   "outputs": [],
   "source": [
    "for _ in range(int(1e6)):\n",
    "    get_zero_index_5(chessboard_test)"
   ]
  },
  {
   "cell_type": "code",
   "execution_count": 17,
   "metadata": {},
   "outputs": [],
   "source": [
    "for _ in range(int(1e6)):\n",
    "    get_zero_index_6(np.zeros((5, 5, 2), dtype=float))"
   ]
  },
  {
   "cell_type": "code",
   "execution_count": 14,
   "metadata": {},
   "outputs": [],
   "source": [
    "for _ in range(int(1e6)):\n",
    "    get_zero_index_7(np.zeros((5, 5, 2), dtype=float), (5,5))"
   ]
  },
  {
   "cell_type": "code",
   "execution_count": 16,
   "metadata": {},
   "outputs": [],
   "source": [
    "for _ in range(int(1e6)):\n",
    "    get_zero_index_8(np.zeros((5, 5, 2), dtype=float), (5,5))"
   ]
  },
  {
   "cell_type": "markdown",
   "metadata": {},
   "source": [
    "## get_first_channel"
   ]
  },
  {
   "cell_type": "code",
   "execution_count": 92,
   "metadata": {},
   "outputs": [],
   "source": [
    "import numpy as np\n",
    "from numba import njit\n",
    "\n",
    "def get_first_channel_0(chessboard):\n",
    "    return [[cell[0] for cell in row] for row in chessboard]\n",
    "\n",
    "@njit\n",
    "def get_first_channel_1(chessboard):\n",
    "    return [[cell[0] for cell in row] for row in chessboard]\n",
    "\n",
    "def get_first_channel_2(chessboard):\n",
    "    first_channel = np.zeros((chessboard.shape[0], chessboard.shape[1]), dtype=chessboard.dtype)\n",
    "    for i in range(chessboard.shape[0]):\n",
    "        for j in range(chessboard.shape[1]):\n",
    "            first_channel[i, j] = chessboard[i, j, 0]\n",
    "    return first_channel\n",
    "\n",
    "@njit\n",
    "def get_first_channel_3(chessboard):\n",
    "    first_channel = np.zeros((chessboard.shape[0], chessboard.shape[1]), dtype=chessboard.dtype)\n",
    "    for i in range(chessboard.shape[0]):\n",
    "        for j in range(chessboard.shape[1]):\n",
    "            first_channel[i, j] = chessboard[i, j, 0]\n",
    "    return first_channel\n",
    "\n",
    "chessboard_test = np.zeros((5, 5, 2), dtype=float)"
   ]
  },
  {
   "cell_type": "code",
   "execution_count": 97,
   "metadata": {},
   "outputs": [],
   "source": [
    "for _ in range(int(1e6)):\n",
    "    get_first_channel_0(chessboard_test)"
   ]
  },
  {
   "cell_type": "code",
   "execution_count": 102,
   "metadata": {},
   "outputs": [],
   "source": [
    "for _ in range(int(1e6)):\n",
    "    get_first_channel_1(chessboard_test)"
   ]
  },
  {
   "cell_type": "code",
   "execution_count": 99,
   "metadata": {},
   "outputs": [],
   "source": [
    "for _ in range(int(1e6)):\n",
    "    get_first_channel_2(chessboard_test)"
   ]
  },
  {
   "cell_type": "code",
   "execution_count": 101,
   "metadata": {},
   "outputs": [],
   "source": [
    "for _ in range(int(1e6)):\n",
    "    get_first_channel_3(chessboard_test)"
   ]
  },
  {
   "cell_type": "markdown",
   "metadata": {},
   "source": [
    "## update_by_bfs"
   ]
  },
  {
   "cell_type": "code",
   "execution_count": 3,
   "metadata": {},
   "outputs": [],
   "source": [
    "import numpy as np\n",
    "from numba import njit\n",
    "from collections import deque\n",
    "\n",
    "def update_by_bfs_0(chessboard, row, col, color, power, board_range):\n",
    "        visited = set()\n",
    "        queue = deque([(row, col, 0)])  # 使用队列进行BFS搜索\n",
    "\n",
    "        while queue:\n",
    "            r, c, distance = queue.popleft()\n",
    "            if (r, c) in visited:\n",
    "                continue\n",
    "            elif distance >= power:\n",
    "                continue\n",
    "            elif chessboard[r][c][0] is np.inf:  # 检查是否为黑洞点\n",
    "                continue\n",
    "\n",
    "            visited.add((r, c))\n",
    "\n",
    "            change = max(power - distance, 0)\n",
    "            chessboard[r][c][0] += change * color\n",
    "            chessboard[r][c][1] += change\n",
    "            \n",
    "            # 只向左侧、右侧和下方扩展搜索区域\n",
    "            for dr, dc in [(0, 1), (0, -1), (1, 0)]:\n",
    "                nr, nc = r + dr, c + dc\n",
    "                if (\n",
    "                    0 <= nr < board_range[0]\n",
    "                    and 0 <= nc < board_range[1]\n",
    "                ):\n",
    "                    queue.append((nr, nc, distance + 1))\n",
    "\n",
    "        return visited\n",
    "\n",
    "@njit\n",
    "def update_by_bfs_1(chessboard, row, col, color, power, board_range):\n",
    "        visited = set()\n",
    "        queue = deque([(row, col, 0)])  # 使用队列进行BFS搜索\n",
    "\n",
    "        while queue:\n",
    "            r, c, distance = queue.popleft()\n",
    "            if (r, c) in visited:\n",
    "                continue\n",
    "            elif distance >= power:\n",
    "                continue\n",
    "            elif chessboard[r][c][0] is np.inf:  # 检查是否为黑洞点\n",
    "                continue\n",
    "\n",
    "            visited.add((r, c))\n",
    "\n",
    "            change = max(power - distance, 0)\n",
    "            chessboard[r][c][0] += change * color\n",
    "            chessboard[r][c][1] += change\n",
    "            \n",
    "            # 只向左侧、右侧和下方扩展搜索区域\n",
    "            for dr, dc in [(0, 1), (0, -1), (1, 0)]:\n",
    "                nr, nc = r + dr, c + dc\n",
    "                if (\n",
    "                    0 <= nr < board_range[0]\n",
    "                    and 0 <= nc < board_range[1]\n",
    "                ):\n",
    "                    queue.append((nr, nc, distance + 1))\n",
    "\n",
    "        return visited\n",
    "\n",
    "def update_by_bfs_2(chessboard, row, col, color, power, board_range):\n",
    "    visited = np.zeros((board_range[0], board_range[1]), dtype=np.bool_)\n",
    "    queue = np.empty((board_range[0] * board_range[1], 3), dtype=np.int32)\n",
    "    head, tail = 0, 1\n",
    "    queue[head] = (row, col, 0)\n",
    "\n",
    "    while head < tail:\n",
    "        r, c, distance = queue[head]\n",
    "        head += 1\n",
    "\n",
    "        if visited[r, c] or distance >= power or chessboard[r, c, 0] == np.inf:\n",
    "            continue\n",
    "\n",
    "        visited[r, c] = True\n",
    "\n",
    "        change = max(power - distance, 0)\n",
    "        chessboard[r, c, 0] += change * color\n",
    "        chessboard[r, c, 1] += change\n",
    "\n",
    "        for dr, dc in [(0, 1), (0, -1), (1, 0)]:\n",
    "            nr, nc = r + dr, c + dc\n",
    "            if 0 <= nr < board_range[0] and 0 <= nc < board_range[1]:\n",
    "                queue[tail] = (nr, nc, distance + 1)\n",
    "                tail += 1\n",
    "\n",
    "    return visited\n",
    "\n",
    "@njit\n",
    "def update_by_bfs_3(chessboard, row, col, color, power, board_range):\n",
    "    visited = np.zeros((board_range[0], board_range[1]), dtype=np.bool_)\n",
    "    queue = np.empty((board_range[0] * board_range[1], 3), dtype=np.int32)\n",
    "    head, tail = 0, 1\n",
    "    queue[head] = (row, col, power)\n",
    "\n",
    "    while head < tail:\n",
    "        r, c, distance = queue[head]\n",
    "        head += 1\n",
    "\n",
    "        if visited[r, c] or distance <= 0 or chessboard[r, c, 0] == np.inf:\n",
    "            continue\n",
    "\n",
    "        visited[r, c] = True\n",
    "\n",
    "        chessboard[r, c, 0] += distance * color\n",
    "        chessboard[r, c, 1] += distance\n",
    "\n",
    "        for dr, dc in [(0, 1), (0, -1), (1, 0)]:\n",
    "            nr, nc = r + dr, c + dc\n",
    "            if 0 <= nr < board_range[0] and 0 <= nc < board_range[1]:\n",
    "                queue[tail] = (nr, nc, distance - 1)\n",
    "                tail += 1\n",
    "\n",
    "    return visited\n",
    "\n",
    "chessboard_test = np.zeros((5, 5, 2), dtype=float)"
   ]
  },
  {
   "cell_type": "code",
   "execution_count": 4,
   "metadata": {},
   "outputs": [],
   "source": [
    "for _ in range(int(1e6)):\n",
    "    update_by_bfs_0(chessboard_test, 2, 3, 1, 2, (5, 5))"
   ]
  },
  {
   "cell_type": "code",
   "execution_count": 5,
   "metadata": {},
   "outputs": [
    {
     "ename": "TypingError",
     "evalue": "Failed in nopython mode pipeline (step: nopython frontend)\n\u001b[1mUntyped global name 'deque':\u001b[0m \u001b[1m\u001b[1mCannot determine Numba type of <class 'type'>\u001b[0m\n\u001b[1m\nFile \"C:\\Users\\Admin\\AppData\\Local\\Temp\\ipykernel_22568\\1709550494.py\", line 38:\u001b[0m\n\u001b[1mdef update_by_bfs_1(chessboard, row, col, color, power, board_range):\n    <source elided>\n        visited = set()\n\u001b[1m        queue = deque([(row, col, 0)])  # 使用队列进行BFS搜索\n\u001b[0m        \u001b[1m^\u001b[0m\u001b[0m\n\u001b[0m",
     "output_type": "error",
     "traceback": [
      "\u001b[1;31m---------------------------------------------------------------------------\u001b[0m",
      "\u001b[1;31mTypingError\u001b[0m                               Traceback (most recent call last)",
      "Cell \u001b[1;32mIn[5], line 2\u001b[0m\n\u001b[0;32m      1\u001b[0m \u001b[38;5;28;01mfor\u001b[39;00m _ \u001b[38;5;129;01min\u001b[39;00m \u001b[38;5;28mrange\u001b[39m(\u001b[38;5;28mint\u001b[39m(\u001b[38;5;241m1e6\u001b[39m)):\n\u001b[1;32m----> 2\u001b[0m     \u001b[43mupdate_by_bfs_1\u001b[49m\u001b[43m(\u001b[49m\u001b[43mchessboard_test\u001b[49m\u001b[43m,\u001b[49m\u001b[43m \u001b[49m\u001b[38;5;241;43m2\u001b[39;49m\u001b[43m,\u001b[49m\u001b[43m \u001b[49m\u001b[38;5;241;43m3\u001b[39;49m\u001b[43m,\u001b[49m\u001b[43m \u001b[49m\u001b[38;5;241;43m1\u001b[39;49m\u001b[43m,\u001b[49m\u001b[43m \u001b[49m\u001b[38;5;241;43m2\u001b[39;49m\u001b[43m,\u001b[49m\u001b[43m \u001b[49m\u001b[43m(\u001b[49m\u001b[38;5;241;43m5\u001b[39;49m\u001b[43m,\u001b[49m\u001b[43m \u001b[49m\u001b[38;5;241;43m5\u001b[39;49m\u001b[43m)\u001b[49m\u001b[43m)\u001b[49m\n",
      "File \u001b[1;32mg:\\ProgramData\\miniforge3\\envs\\chessenv\\lib\\site-packages\\numba\\core\\dispatcher.py:423\u001b[0m, in \u001b[0;36m_DispatcherBase._compile_for_args\u001b[1;34m(self, *args, **kws)\u001b[0m\n\u001b[0;32m    419\u001b[0m         msg \u001b[38;5;241m=\u001b[39m (\u001b[38;5;124mf\u001b[39m\u001b[38;5;124m\"\u001b[39m\u001b[38;5;132;01m{\u001b[39;00m\u001b[38;5;28mstr\u001b[39m(e)\u001b[38;5;241m.\u001b[39mrstrip()\u001b[38;5;132;01m}\u001b[39;00m\u001b[38;5;124m \u001b[39m\u001b[38;5;130;01m\\n\u001b[39;00m\u001b[38;5;130;01m\\n\u001b[39;00m\u001b[38;5;124mThis error may have been caused \u001b[39m\u001b[38;5;124m\"\u001b[39m\n\u001b[0;32m    420\u001b[0m                \u001b[38;5;124mf\u001b[39m\u001b[38;5;124m\"\u001b[39m\u001b[38;5;124mby the following argument(s):\u001b[39m\u001b[38;5;130;01m\\n\u001b[39;00m\u001b[38;5;132;01m{\u001b[39;00margs_str\u001b[38;5;132;01m}\u001b[39;00m\u001b[38;5;130;01m\\n\u001b[39;00m\u001b[38;5;124m\"\u001b[39m)\n\u001b[0;32m    421\u001b[0m         e\u001b[38;5;241m.\u001b[39mpatch_message(msg)\n\u001b[1;32m--> 423\u001b[0m     \u001b[43merror_rewrite\u001b[49m\u001b[43m(\u001b[49m\u001b[43me\u001b[49m\u001b[43m,\u001b[49m\u001b[43m \u001b[49m\u001b[38;5;124;43m'\u001b[39;49m\u001b[38;5;124;43mtyping\u001b[39;49m\u001b[38;5;124;43m'\u001b[39;49m\u001b[43m)\u001b[49m\n\u001b[0;32m    424\u001b[0m \u001b[38;5;28;01mexcept\u001b[39;00m errors\u001b[38;5;241m.\u001b[39mUnsupportedError \u001b[38;5;28;01mas\u001b[39;00m e:\n\u001b[0;32m    425\u001b[0m     \u001b[38;5;66;03m# Something unsupported is present in the user code, add help info\u001b[39;00m\n\u001b[0;32m    426\u001b[0m     error_rewrite(e, \u001b[38;5;124m'\u001b[39m\u001b[38;5;124munsupported_error\u001b[39m\u001b[38;5;124m'\u001b[39m)\n",
      "File \u001b[1;32mg:\\ProgramData\\miniforge3\\envs\\chessenv\\lib\\site-packages\\numba\\core\\dispatcher.py:364\u001b[0m, in \u001b[0;36m_DispatcherBase._compile_for_args.<locals>.error_rewrite\u001b[1;34m(e, issue_type)\u001b[0m\n\u001b[0;32m    362\u001b[0m     \u001b[38;5;28;01mraise\u001b[39;00m e\n\u001b[0;32m    363\u001b[0m \u001b[38;5;28;01melse\u001b[39;00m:\n\u001b[1;32m--> 364\u001b[0m     \u001b[38;5;28;01mraise\u001b[39;00m e\u001b[38;5;241m.\u001b[39mwith_traceback(\u001b[38;5;28;01mNone\u001b[39;00m)\n",
      "\u001b[1;31mTypingError\u001b[0m: Failed in nopython mode pipeline (step: nopython frontend)\n\u001b[1mUntyped global name 'deque':\u001b[0m \u001b[1m\u001b[1mCannot determine Numba type of <class 'type'>\u001b[0m\n\u001b[1m\nFile \"C:\\Users\\Admin\\AppData\\Local\\Temp\\ipykernel_22568\\1709550494.py\", line 38:\u001b[0m\n\u001b[1mdef update_by_bfs_1(chessboard, row, col, color, power, board_range):\n    <source elided>\n        visited = set()\n\u001b[1m        queue = deque([(row, col, 0)])  # 使用队列进行BFS搜索\n\u001b[0m        \u001b[1m^\u001b[0m\u001b[0m\n\u001b[0m"
     ]
    }
   ],
   "source": [
    "for _ in range(int(1e6)):\n",
    "    update_by_bfs_1(chessboard_test, 2, 3, 1, 2, (5, 5))"
   ]
  },
  {
   "cell_type": "code",
   "execution_count": 6,
   "metadata": {},
   "outputs": [],
   "source": [
    "for _ in range(int(1e6)):\n",
    "    update_by_bfs_2(chessboard_test, 2, 3, 1, 2, (5, 5))"
   ]
  },
  {
   "cell_type": "code",
   "execution_count": 7,
   "metadata": {},
   "outputs": [],
   "source": [
    "for _ in range(int(1e6)):\n",
    "    update_by_bfs_3(chessboard_test, 2, 3, 1, 2, (5, 5))"
   ]
  },
  {
   "cell_type": "markdown",
   "metadata": {},
   "source": [
    "## optimized_not_exist_zero_index"
   ]
  },
  {
   "cell_type": "code",
   "execution_count": 20,
   "metadata": {},
   "outputs": [],
   "source": [
    "def optimized_not_exist_zero_index_0(chessboard, board_range):\n",
    "    for row_idx in range(board_range[0]):\n",
    "        for col_idx in range(board_range[1]):\n",
    "            if chessboard[row_idx, col_idx, 0] == 0:\n",
    "                return False\n",
    "    return True\n",
    "\n",
    "@njit\n",
    "def optimized_not_exist_zero_index_1(chessboard, board_range):\n",
    "    for row_idx in range(board_range[0]):\n",
    "        for col_idx in range(board_range[1]):\n",
    "            if chessboard[row_idx, col_idx, 0] == 0:\n",
    "                return False\n",
    "    return True\n",
    "\n",
    "def optimized_not_exist_zero_index_2(chessboard):\n",
    "    return not np.any(chessboard[:, :, 0] == 0)\n",
    "\n",
    "@njit\n",
    "def optimized_not_exist_zero_index_3(chessboard):\n",
    "    return not np.any(chessboard[:, :, 0] == 0)\n",
    "\n",
    "chessboard_test = np.zeros((5, 5, 2), dtype=float)"
   ]
  },
  {
   "cell_type": "code",
   "execution_count": 27,
   "metadata": {},
   "outputs": [],
   "source": [
    "for _ in range(int(1e6)):\n",
    "    optimized_not_exist_zero_index_0(chessboard_test, (5, 5))"
   ]
  },
  {
   "cell_type": "code",
   "execution_count": 28,
   "metadata": {},
   "outputs": [],
   "source": [
    "for _ in range(int(1e6)):\n",
    "    optimized_not_exist_zero_index_1(chessboard_test, (5, 5))"
   ]
  },
  {
   "cell_type": "code",
   "execution_count": 23,
   "metadata": {},
   "outputs": [],
   "source": [
    "for _ in range(int(1e6)):\n",
    "    optimized_not_exist_zero_index_2(chessboard_test)"
   ]
  },
  {
   "cell_type": "code",
   "execution_count": 29,
   "metadata": {},
   "outputs": [],
   "source": [
    "for _ in range(int(1e6)):\n",
    "    optimized_not_exist_zero_index_3(chessboard_test)"
   ]
  },
  {
   "cell_type": "markdown",
   "metadata": {},
   "source": [
    "## mark_over_threshold"
   ]
  },
  {
   "cell_type": "code",
   "execution_count": 109,
   "metadata": {},
   "outputs": [],
   "source": [
    "import numpy as np\n",
    "from numba import njit\n",
    "\n",
    "\n",
    "def mark_and_expand_0(chessboard, visited, board_range, threshold, power):\n",
    "    queue_r = np.empty(board_range[0] * board_range[1], dtype=np.int32)\n",
    "    queue_c = np.empty(board_range[0] * board_range[1], dtype=np.int32)\n",
    "    queue_d = np.empty(board_range[0] * board_range[1], dtype=np.int32)\n",
    "    queue_len = 0\n",
    "    black_power = power - 1\n",
    "\n",
    "    for row_idx in range(board_range[0]):\n",
    "        for col_idx in range(board_range[1]):\n",
    "            if not visited[row_idx, col_idx]:\n",
    "                continue\n",
    "            if chessboard[row_idx, col_idx, 1] >= threshold:\n",
    "                queue_r[queue_len] = row_idx\n",
    "                queue_c[queue_len] = col_idx\n",
    "                queue_d[queue_len] = black_power\n",
    "                queue_len += 1\n",
    "\n",
    "    visited_expansion = np.zeros((board_range[0], board_range[1]), dtype=np.bool_)\n",
    "\n",
    "    head = 0\n",
    "    while head < queue_len:\n",
    "        r, c, distance = queue_r[head], queue_c[head], queue_d[head]\n",
    "        head += 1\n",
    "\n",
    "        if visited_expansion[r, c] or distance <= 0:\n",
    "            continue\n",
    "        \n",
    "        if not r >= board_range[0]:\n",
    "            chessboard[r, c, 0] = np.inf\n",
    "        visited_expansion[r, c] = True\n",
    "        \n",
    "        for dr, dc in [(0, 1), (0, -1), (-1, 0)]:\n",
    "            nr, nc = r + dr, c + dc\n",
    "            queue_r[queue_len] = nr\n",
    "            queue_c[queue_len] = nc%board_range[1]\n",
    "            queue_d[queue_len] = distance - 1\n",
    "            queue_len += 1\n",
    "\n",
    "@njit\n",
    "def mark_and_expand_1(chessboard, visited, board_range, threshold, power):\n",
    "    queue_r = np.empty(board_range[0] * board_range[1], dtype=np.int32)\n",
    "    queue_c = np.empty(board_range[0] * board_range[1], dtype=np.int32)\n",
    "    queue_d = np.empty(board_range[0] * board_range[1], dtype=np.int32)\n",
    "    queue_len = 0\n",
    "    black_power = power - 1\n",
    "\n",
    "    for row_idx in range(board_range[0]):\n",
    "        for col_idx in range(board_range[1]):\n",
    "            if not visited[row_idx, col_idx]:\n",
    "                continue\n",
    "            if chessboard[row_idx, col_idx, 1] >= threshold:\n",
    "                queue_r[queue_len] = row_idx\n",
    "                queue_c[queue_len] = col_idx\n",
    "                queue_d[queue_len] = black_power\n",
    "                queue_len += 1\n",
    "\n",
    "    visited_expansion = np.zeros((board_range[0], board_range[1]), dtype=np.bool_)\n",
    "\n",
    "    head = 0\n",
    "    while head < queue_len:\n",
    "        r, c, distance = queue_r[head], queue_c[head], queue_d[head]\n",
    "        head += 1\n",
    "\n",
    "        if visited_expansion[r, c] or distance <= 0:\n",
    "            continue\n",
    "        \n",
    "        if not r >= board_range[0]:\n",
    "            chessboard[r, c, 0] = np.inf\n",
    "        visited_expansion[r, c] = True\n",
    "        \n",
    "        for dr, dc in [(0, 1), (0, -1), (-1, 0)]:\n",
    "            nr, nc = r + dr, c + dc\n",
    "            queue_r[queue_len] = nr\n",
    "            queue_c[queue_len] = nc%board_range[1]\n",
    "            queue_d[queue_len] = distance - 1\n",
    "            queue_len += 1\n",
    "\n",
    "\n",
    "chessboard_test = np.zeros((5, 5, 2), dtype=float)\n",
    "visited = np.zeros((5, 5), dtype=np.bool_)"
   ]
  },
  {
   "cell_type": "markdown",
   "metadata": {},
   "source": [
    "## get_best_child_and_ucb"
   ]
  },
  {
   "cell_type": "code",
   "execution_count": null,
   "metadata": {},
   "outputs": [],
   "source": [
    "@njit\n",
    "def get_best_child_and_ucb_0(children, visit_num, c_param=0.9):\n",
    "    best_child = None\n",
    "    best_value = -np.inf\n",
    "    \n",
    "    for child in children:\n",
    "        win_rate = child.get_win_rate()\n",
    "        ucb_value = (1 - c_param) * win_rate + c_param * math.sqrt((math.log(visit_num) / visit_num))\n",
    "        if ucb_value > best_value:\n",
    "            best_value = ucb_value\n",
    "            best_child = child\n",
    "\n",
    "    return best_child"
   ]
  },
  {
   "cell_type": "code",
   "execution_count": 124,
   "metadata": {},
   "outputs": [],
   "source": [
    "import numpy as np\n",
    "import random\n",
    "my_array = np.array(range(1000))\n",
    "num_li = (5,5)"
   ]
  },
  {
   "cell_type": "code",
   "execution_count": 125,
   "metadata": {},
   "outputs": [],
   "source": [
    "for _ in range(int(1e6)):\n",
    "    np.random.choice(my_array)"
   ]
  },
  {
   "cell_type": "code",
   "execution_count": 126,
   "metadata": {},
   "outputs": [],
   "source": [
    "for _ in range(int(1e6)):\n",
    "    random.choice(my_array)"
   ]
  },
  {
   "cell_type": "code",
   "execution_count": 119,
   "metadata": {},
   "outputs": [],
   "source": [
    "for _ in range(int(1e6)):\n",
    "    np.prod(num_li)"
   ]
  },
  {
   "cell_type": "code",
   "execution_count": 120,
   "metadata": {},
   "outputs": [],
   "source": [
    "for _ in range(int(1e6)):\n",
    "    num_li[0]*num_li[1]"
   ]
  },
  {
   "cell_type": "code",
   "execution_count": 3,
   "metadata": {},
   "outputs": [
    {
     "data": {
      "text/plain": [
       "array([[0., 0.],\n",
       "       [0., 0.],\n",
       "       [0., 0.],\n",
       "       [0., 0.],\n",
       "       [0., 0.]])"
      ]
     },
     "execution_count": 3,
     "metadata": {},
     "output_type": "execute_result"
    }
   ],
   "source": [
    "import numpy as np\n",
    "import random\n",
    "\n",
    "\n",
    "np.zeros((5, 2), dtype=np.float64)"
   ]
  },
  {
   "cell_type": "code",
   "execution_count": null,
   "metadata": {},
   "outputs": [],
   "source": []
  }
 ],
 "metadata": {
  "kernelspec": {
   "display_name": "toolenv",
   "language": "python",
   "name": "python3"
  },
  "language_info": {
   "codemirror_mode": {
    "name": "ipython",
    "version": 3
   },
   "file_extension": ".py",
   "mimetype": "text/x-python",
   "name": "python",
   "nbconvert_exporter": "python",
   "pygments_lexer": "ipython3",
   "version": "3.10.14"
  }
 },
 "nbformat": 4,
 "nbformat_minor": 2
}
