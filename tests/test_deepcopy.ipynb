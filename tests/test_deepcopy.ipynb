{
 "cells": [
  {
   "cell_type": "code",
   "execution_count": 28,
   "metadata": {},
   "outputs": [],
   "source": [
    "import sys\n",
    "import os\n",
    "# 确定项目根目录（假设当前工作目录是项目的根目录）\n",
    "project_root = os.path.abspath(\"..\")\n",
    "sys.path.insert(0, project_root)\n",
    "\n",
    "import cProfile\n",
    "import pstats\n",
    "import numpy as np\n",
    "from copy import  deepcopy, copy\n",
    "from time import strftime, localtime\n",
    "from ai import AIAlgorithm, MinimaxAI, MCTSAI\n",
    "from game.chess_game import ChessGame\n",
    "from tools.custom_deepcopy import custom_deepcopy"
   ]
  },
  {
   "cell_type": "code",
   "execution_count": 29,
   "metadata": {},
   "outputs": [],
   "source": [
    "chessboard = np.zeros((5, 5, 2), dtype=float)\n",
    "\n",
    "copy_chessboard = copy(chessboard)\n",
    "deepcopy_chessboard = deepcopy(chessboard)\n",
    "npcopy_chessboard = np.copy(chessboard)\n",
    "custom_chessboard = custom_deepcopy(chessboard)"
   ]
  },
  {
   "cell_type": "code",
   "execution_count": 30,
   "metadata": {},
   "outputs": [
    {
     "name": "stdout",
     "output_type": "stream",
     "text": [
      "0.0 0.0 0.0 0.0\n"
     ]
    }
   ],
   "source": [
    "chessboard[2][3][0] = 99\n",
    "\n",
    "print(copy_chessboard[2][3][0], deepcopy_chessboard[2][3][0],\n",
    "      npcopy_chessboard[2][3][0], custom_chessboard[2][3][0])"
   ]
  },
  {
   "cell_type": "code",
   "execution_count": 31,
   "metadata": {},
   "outputs": [],
   "source": [
    "for _ in range(int(1e7)):\n",
    "    copy(chessboard)"
   ]
  },
  {
   "cell_type": "code",
   "execution_count": 10,
   "metadata": {},
   "outputs": [],
   "source": [
    "for _ in range(int(1e7)):\n",
    "    deepcopy(chessboard)"
   ]
  },
  {
   "cell_type": "code",
   "execution_count": 32,
   "metadata": {},
   "outputs": [],
   "source": [
    "for _ in range(int(1e7)):\n",
    "    custom_deepcopy(chessboard)"
   ]
  },
  {
   "cell_type": "code",
   "execution_count": 33,
   "metadata": {},
   "outputs": [],
   "source": [
    "for _ in range(int(1e7)):\n",
    "    np.copy(chessboard)"
   ]
  },
  {
   "cell_type": "code",
   "execution_count": 17,
   "metadata": {},
   "outputs": [
    {
     "data": {
      "text/plain": [
       "array([[[0., 0.],\n",
       "        [0., 0.],\n",
       "        [0., 0.],\n",
       "        [0., 0.],\n",
       "        [0., 0.]],\n",
       "\n",
       "       [[0., 0.],\n",
       "        [0., 0.],\n",
       "        [0., 0.],\n",
       "        [0., 0.],\n",
       "        [0., 0.]],\n",
       "\n",
       "       [[0., 0.],\n",
       "        [0., 0.],\n",
       "        [0., 0.],\n",
       "        [0., 0.],\n",
       "        [0., 0.]],\n",
       "\n",
       "       [[0., 0.],\n",
       "        [0., 0.],\n",
       "        [0., 0.],\n",
       "        [0., 0.],\n",
       "        [0., 0.]],\n",
       "\n",
       "       [[0., 0.],\n",
       "        [0., 0.],\n",
       "        [0., 0.],\n",
       "        [0., 0.],\n",
       "        [0., 0.]]])"
      ]
     },
     "execution_count": 17,
     "metadata": {},
     "output_type": "execute_result"
    }
   ],
   "source": [
    "new_chessboard"
   ]
  },
  {
   "cell_type": "code",
   "execution_count": 85,
   "metadata": {},
   "outputs": [],
   "source": [
    "def get_all_moves_0(chessboard):\n",
    "    \"\"\"获取所有合法的移动\"\"\"\n",
    "    move_list = []\n",
    "    for row_idx, row in enumerate(chessboard):\n",
    "        for col_idx, cell in enumerate(row):\n",
    "            if cell[0] == 0:\n",
    "                move_list.append((row_idx, col_idx))\n",
    "    return move_list\n",
    "\n",
    "def get_all_moves_1(chessboard):\n",
    "    \"\"\"获取所有合法的移动\"\"\"\n",
    "    # 提取第一层（假设第一层是第一个维度）\n",
    "    first_layer = chessboard[:, :, 0]\n",
    "    # 找到所有值为0的元素的坐标\n",
    "    zero_indices = np.argwhere(first_layer == 0)\n",
    "    # 将坐标转换为行列索引\n",
    "    move_list = [(row, col) for row, col in zero_indices]\n",
    "    return move_list\n",
    "\n",
    "def get_all_moves_2(chessboard):\n",
    "    \"\"\"获取所有合法的移动\"\"\"\n",
    "    # 找到所有值为0的元素的坐标\n",
    "    zero_indices = np.argwhere(chessboard == 0)\n",
    "    # 将坐标转换为行列索引\n",
    "    move_list = [(row, col) for row, col, layer in zero_indices if layer==0]\n",
    "    return move_list\n",
    "\n",
    "def get_all_moves_3(chessboard):\n",
    "    \"\"\"获取所有合法的移动\"\"\"\n",
    "    # 找到所有值为0的元素的坐标\n",
    "    zero_indices = np.argwhere(chessboard == 0)\n",
    "    # 将坐标转换为行列索引\n",
    "    move_list = [(row, col) for row, col, layer in zero_indices]\n",
    "    return list(set(move_list))\n",
    "\n",
    "def get_all_moves_4(chessboard):\n",
    "    \"\"\"获取所有合法的移动\"\"\"\n",
    "    empty_cells = np.argwhere(chessboard[:, :, 0] == 0)\n",
    "    return [tuple(cell) for cell in empty_cells]\n",
    "\n",
    "from numba import njit\n",
    "\n",
    "def get_all_moves_5(chessboard):\n",
    "    \"\"\"获取所有合法的移动\"\"\"\n",
    "    move_list = []\n",
    "    for row_idx in range(chessboard.shape[0]):\n",
    "        for col_idx in range(chessboard.shape[1]):\n",
    "            if chessboard[row_idx, col_idx, 0] == 0:\n",
    "                move_list.append((row_idx, col_idx))\n",
    "    return move_list\n",
    "\n",
    "@njit\n",
    "def get_all_moves_6(chessboard):\n",
    "    \"\"\"获取所有合法的移动\"\"\"\n",
    "    move_list = []\n",
    "    for row_idx in range(chessboard.shape[0]):\n",
    "        for col_idx in range(chessboard.shape[1]):\n",
    "            if chessboard[row_idx, col_idx, 0] == 0:\n",
    "                move_list.append((row_idx, col_idx))\n",
    "    return move_list\n",
    "\n",
    "chessboard_test = np.zeros((5, 5, 2), dtype=float)"
   ]
  },
  {
   "cell_type": "code",
   "execution_count": 82,
   "metadata": {},
   "outputs": [],
   "source": [
    "for _ in range(int(1e5)):\n",
    "    get_all_moves_0(chessboard_test)"
   ]
  },
  {
   "cell_type": "code",
   "execution_count": 75,
   "metadata": {},
   "outputs": [],
   "source": [
    "for _ in range(int(1e5)):\n",
    "    get_all_moves_1(chessboard_test)"
   ]
  },
  {
   "cell_type": "code",
   "execution_count": 77,
   "metadata": {},
   "outputs": [],
   "source": [
    "for _ in range(int(1e5)):\n",
    "    get_all_moves_2(chessboard_test)"
   ]
  },
  {
   "cell_type": "code",
   "execution_count": 79,
   "metadata": {},
   "outputs": [],
   "source": [
    "for _ in range(int(1e5)):\n",
    "    get_all_moves_3(chessboard_test)"
   ]
  },
  {
   "cell_type": "code",
   "execution_count": 81,
   "metadata": {},
   "outputs": [],
   "source": [
    "for _ in range(int(1e5)):\n",
    "    get_all_moves_4(chessboard_test)"
   ]
  },
  {
   "cell_type": "code",
   "execution_count": 88,
   "metadata": {},
   "outputs": [],
   "source": [
    "for _ in range(int(1e5)):\n",
    "    get_all_moves_5(chessboard_test)"
   ]
  },
  {
   "cell_type": "code",
   "execution_count": 91,
   "metadata": {},
   "outputs": [],
   "source": [
    "for _ in range(int(1e5)):\n",
    "    get_all_moves_6(np.zeros((5, 5, 2), dtype=float))"
   ]
  },
  {
   "cell_type": "code",
   "execution_count": 92,
   "metadata": {},
   "outputs": [],
   "source": [
    "import numpy as np\n",
    "from numba import njit\n",
    "\n",
    "def get_first_channel_0(chessboard):\n",
    "    return [[cell[0] for cell in row] for row in chessboard]\n",
    "\n",
    "@njit\n",
    "def get_first_channel_1(chessboard):\n",
    "    return [[cell[0] for cell in row] for row in chessboard]\n",
    "\n",
    "def get_first_channel_2(chessboard):\n",
    "    first_channel = np.zeros((chessboard.shape[0], chessboard.shape[1]), dtype=chessboard.dtype)\n",
    "    for i in range(chessboard.shape[0]):\n",
    "        for j in range(chessboard.shape[1]):\n",
    "            first_channel[i, j] = chessboard[i, j, 0]\n",
    "    return first_channel\n",
    "\n",
    "@njit\n",
    "def get_first_channel_3(chessboard):\n",
    "    first_channel = np.zeros((chessboard.shape[0], chessboard.shape[1]), dtype=chessboard.dtype)\n",
    "    for i in range(chessboard.shape[0]):\n",
    "        for j in range(chessboard.shape[1]):\n",
    "            first_channel[i, j] = chessboard[i, j, 0]\n",
    "    return first_channel\n",
    "\n",
    "chessboard_test = np.zeros((5, 5, 2), dtype=float)"
   ]
  },
  {
   "cell_type": "code",
   "execution_count": 97,
   "metadata": {},
   "outputs": [],
   "source": [
    "for _ in range(int(1e6)):\n",
    "    get_first_channel_0(chessboard_test)"
   ]
  },
  {
   "cell_type": "code",
   "execution_count": 102,
   "metadata": {},
   "outputs": [],
   "source": [
    "for _ in range(int(1e6)):\n",
    "    get_first_channel_1(chessboard_test)"
   ]
  },
  {
   "cell_type": "code",
   "execution_count": 99,
   "metadata": {},
   "outputs": [],
   "source": [
    "for _ in range(int(1e6)):\n",
    "    get_first_channel_2(chessboard_test)"
   ]
  },
  {
   "cell_type": "code",
   "execution_count": 101,
   "metadata": {},
   "outputs": [],
   "source": [
    "for _ in range(int(1e6)):\n",
    "    get_first_channel_3(chessboard_test)"
   ]
  },
  {
   "cell_type": "code",
   "execution_count": null,
   "metadata": {},
   "outputs": [],
   "source": []
  }
 ],
 "metadata": {
  "kernelspec": {
   "display_name": "toolenv",
   "language": "python",
   "name": "python3"
  },
  "language_info": {
   "codemirror_mode": {
    "name": "ipython",
    "version": 3
   },
   "file_extension": ".py",
   "mimetype": "text/x-python",
   "name": "python",
   "nbconvert_exporter": "python",
   "pygments_lexer": "ipython3",
   "version": "3.10.13"
  }
 },
 "nbformat": 4,
 "nbformat_minor": 2
}
