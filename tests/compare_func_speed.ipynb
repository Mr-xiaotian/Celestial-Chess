{
 "cells": [
  {
   "cell_type": "code",
   "execution_count": 28,
   "metadata": {},
   "outputs": [],
   "source": [
    "import sys\n",
    "import os\n",
    "# 确定项目根目录（假设当前工作目录是项目的根目录）\n",
    "project_root = os.path.abspath(\"..\")\n",
    "sys.path.insert(0, project_root)\n",
    "\n",
    "import cProfile\n",
    "import pstats\n",
    "import numpy as np\n",
    "from copy import  deepcopy, copy\n",
    "from time import strftime, localtime\n",
    "from ai import AIAlgorithm, MinimaxAI, MCTSAI\n",
    "from game.chess_game import ChessGame\n",
    "from tools.custom_deepcopy import custom_deepcopy"
   ]
  },
  {
   "cell_type": "code",
   "execution_count": 29,
   "metadata": {},
   "outputs": [],
   "source": [
    "chessboard = np.zeros((5, 5, 2), dtype=float)\n",
    "\n",
    "copy_chessboard = copy(chessboard)\n",
    "deepcopy_chessboard = deepcopy(chessboard)\n",
    "npcopy_chessboard = np.copy(chessboard)\n",
    "custom_chessboard = custom_deepcopy(chessboard)"
   ]
  },
  {
   "cell_type": "code",
   "execution_count": 30,
   "metadata": {},
   "outputs": [
    {
     "name": "stdout",
     "output_type": "stream",
     "text": [
      "0.0 0.0 0.0 0.0\n"
     ]
    }
   ],
   "source": [
    "chessboard[2][3][0] = 99\n",
    "\n",
    "print(copy_chessboard[2][3][0], deepcopy_chessboard[2][3][0],\n",
    "      npcopy_chessboard[2][3][0], custom_chessboard[2][3][0])"
   ]
  },
  {
   "cell_type": "code",
   "execution_count": 31,
   "metadata": {},
   "outputs": [],
   "source": [
    "for _ in range(int(1e7)):\n",
    "    copy(chessboard)"
   ]
  },
  {
   "cell_type": "code",
   "execution_count": 10,
   "metadata": {},
   "outputs": [],
   "source": [
    "for _ in range(int(1e7)):\n",
    "    deepcopy(chessboard)"
   ]
  },
  {
   "cell_type": "code",
   "execution_count": 32,
   "metadata": {},
   "outputs": [],
   "source": [
    "for _ in range(int(1e7)):\n",
    "    custom_deepcopy(chessboard)"
   ]
  },
  {
   "cell_type": "code",
   "execution_count": 33,
   "metadata": {},
   "outputs": [],
   "source": [
    "for _ in range(int(1e7)):\n",
    "    np.copy(chessboard)"
   ]
  },
  {
   "cell_type": "code",
   "execution_count": 17,
   "metadata": {},
   "outputs": [
    {
     "data": {
      "text/plain": [
       "array([[[0., 0.],\n",
       "        [0., 0.],\n",
       "        [0., 0.],\n",
       "        [0., 0.],\n",
       "        [0., 0.]],\n",
       "\n",
       "       [[0., 0.],\n",
       "        [0., 0.],\n",
       "        [0., 0.],\n",
       "        [0., 0.],\n",
       "        [0., 0.]],\n",
       "\n",
       "       [[0., 0.],\n",
       "        [0., 0.],\n",
       "        [0., 0.],\n",
       "        [0., 0.],\n",
       "        [0., 0.]],\n",
       "\n",
       "       [[0., 0.],\n",
       "        [0., 0.],\n",
       "        [0., 0.],\n",
       "        [0., 0.],\n",
       "        [0., 0.]],\n",
       "\n",
       "       [[0., 0.],\n",
       "        [0., 0.],\n",
       "        [0., 0.],\n",
       "        [0., 0.],\n",
       "        [0., 0.]]])"
      ]
     },
     "execution_count": 17,
     "metadata": {},
     "output_type": "execute_result"
    }
   ],
   "source": [
    "new_chessboard"
   ]
  },
  {
   "cell_type": "markdown",
   "metadata": {},
   "source": [
    "## get_zero_index"
   ]
  },
  {
   "cell_type": "code",
   "execution_count": 9,
   "metadata": {},
   "outputs": [],
   "source": [
    "def get_zero_index_0(chessboard):\n",
    "    \"\"\"获取所有合法的移动\"\"\"\n",
    "    move_list = []\n",
    "    for row_idx, row in enumerate(chessboard):\n",
    "        for col_idx, cell in enumerate(row):\n",
    "            if cell[0] == 0:\n",
    "                move_list.append((row_idx, col_idx))\n",
    "    return move_list\n",
    "\n",
    "def get_zero_index_1(chessboard):\n",
    "    \"\"\"获取所有合法的移动\"\"\"\n",
    "    # 提取第一层（假设第一层是第一个维度）\n",
    "    first_layer = chessboard[:, :, 0]\n",
    "    # 找到所有值为0的元素的坐标\n",
    "    zero_indices = np.argwhere(first_layer == 0)\n",
    "    # 将坐标转换为行列索引\n",
    "    move_list = [(row, col) for row, col in zero_indices]\n",
    "    return move_list\n",
    "\n",
    "def get_zero_index_2(chessboard):\n",
    "    \"\"\"获取所有合法的移动\"\"\"\n",
    "    # 找到所有值为0的元素的坐标\n",
    "    zero_indices = np.argwhere(chessboard == 0)\n",
    "    # 将坐标转换为行列索引\n",
    "    move_list = [(row, col) for row, col, layer in zero_indices if layer==0]\n",
    "    return move_list\n",
    "\n",
    "def get_zero_index_3(chessboard):\n",
    "    \"\"\"获取所有合法的移动\"\"\"\n",
    "    # 找到所有值为0的元素的坐标\n",
    "    zero_indices = np.argwhere(chessboard == 0)\n",
    "    # 将坐标转换为行列索引\n",
    "    move_list = [(row, col) for row, col, layer in zero_indices]\n",
    "    return list(set(move_list))\n",
    "\n",
    "def get_zero_index_4(chessboard):\n",
    "    \"\"\"获取所有合法的移动\"\"\"\n",
    "    empty_cells = np.argwhere(chessboard[:, :, 0] == 0)\n",
    "    return [tuple(cell) for cell in empty_cells]\n",
    "\n",
    "from numba import njit\n",
    "\n",
    "def get_zero_index_5(chessboard):\n",
    "    \"\"\"获取所有合法的移动\"\"\"\n",
    "    move_list = []\n",
    "    for row_idx in range(chessboard.shape[0]):\n",
    "        for col_idx in range(chessboard.shape[1]):\n",
    "            if chessboard[row_idx, col_idx, 0] == 0:\n",
    "                move_list.append((row_idx, col_idx))\n",
    "    return move_list\n",
    "\n",
    "@njit\n",
    "def get_zero_index_6(chessboard):\n",
    "    \"\"\"获取所有合法的移动\"\"\"\n",
    "    move_list = []\n",
    "    for row_idx in range(chessboard.shape[0]):\n",
    "        for col_idx in range(chessboard.shape[1]):\n",
    "            if chessboard[row_idx, col_idx, 0] == 0:\n",
    "                move_list.append((row_idx, col_idx))\n",
    "    return move_list\n",
    "\n",
    "def get_zero_index_7(chessboard, board_range, execute=True):\n",
    "    if not execute:\n",
    "        return np.empty((0, 2), dtype=np.int32)  # 返回一个空的NumPy数组\n",
    "\n",
    "    move_list = np.empty((board_range[0] * board_range[1], 2), dtype=np.int32)\n",
    "    count = 0\n",
    "    for row_idx in range(board_range[0]):\n",
    "        for col_idx in range(board_range[1]):\n",
    "            if chessboard[row_idx, col_idx, 0] == 0:\n",
    "                move_list[count] = (row_idx, col_idx)\n",
    "                count += 1\n",
    "    return move_list[:count]  # 截取有效的部分\n",
    "\n",
    "@njit\n",
    "def get_zero_index_8(chessboard, board_range, execute=True):\n",
    "    if not execute:\n",
    "        return np.empty((0, 2), dtype=np.int32)  # 返回一个空的NumPy数组\n",
    "\n",
    "    move_list = np.empty((board_range[0] * board_range[1], 2), dtype=np.int32)\n",
    "    count = 0\n",
    "    for row_idx in range(board_range[0]):\n",
    "        for col_idx in range(board_range[1]):\n",
    "            if chessboard[row_idx, col_idx, 0] == 0:\n",
    "                move_list[count] = (row_idx, col_idx)\n",
    "                count += 1\n",
    "    return move_list[:count]  # 截取有效的部分\n",
    "\n",
    "chessboard_test = np.zeros((5, 5, 2), dtype=float)"
   ]
  },
  {
   "cell_type": "code",
   "execution_count": 82,
   "metadata": {},
   "outputs": [],
   "source": [
    "for _ in range(int(1e5)):\n",
    "    get_zero_index_0(chessboard_test)"
   ]
  },
  {
   "cell_type": "code",
   "execution_count": 75,
   "metadata": {},
   "outputs": [],
   "source": [
    "for _ in range(int(1e5)):\n",
    "    get_zero_index_1(chessboard_test)"
   ]
  },
  {
   "cell_type": "code",
   "execution_count": 77,
   "metadata": {},
   "outputs": [],
   "source": [
    "for _ in range(int(1e5)):\n",
    "    get_zero_index_2(chessboard_test)"
   ]
  },
  {
   "cell_type": "code",
   "execution_count": 79,
   "metadata": {},
   "outputs": [],
   "source": [
    "for _ in range(int(1e5)):\n",
    "    get_zero_index_3(chessboard_test)"
   ]
  },
  {
   "cell_type": "code",
   "execution_count": 81,
   "metadata": {},
   "outputs": [],
   "source": [
    "for _ in range(int(1e5)):\n",
    "    get_zero_index_4(chessboard_test)"
   ]
  },
  {
   "cell_type": "code",
   "execution_count": 10,
   "metadata": {},
   "outputs": [],
   "source": [
    "for _ in range(int(1e6)):\n",
    "    get_zero_index_5(chessboard_test)"
   ]
  },
  {
   "cell_type": "code",
   "execution_count": 17,
   "metadata": {},
   "outputs": [],
   "source": [
    "for _ in range(int(1e6)):\n",
    "    get_zero_index_6(np.zeros((5, 5, 2), dtype=float))"
   ]
  },
  {
   "cell_type": "code",
   "execution_count": 14,
   "metadata": {},
   "outputs": [],
   "source": [
    "for _ in range(int(1e6)):\n",
    "    get_zero_index_7(np.zeros((5, 5, 2), dtype=float), (5,5))"
   ]
  },
  {
   "cell_type": "code",
   "execution_count": 16,
   "metadata": {},
   "outputs": [],
   "source": [
    "for _ in range(int(1e6)):\n",
    "    get_zero_index_8(np.zeros((5, 5, 2), dtype=float), (5,5))"
   ]
  },
  {
   "cell_type": "markdown",
   "metadata": {},
   "source": [
    "## get_first_channel"
   ]
  },
  {
   "cell_type": "code",
   "execution_count": 92,
   "metadata": {},
   "outputs": [],
   "source": [
    "import numpy as np\n",
    "from numba import njit\n",
    "\n",
    "def get_first_channel_0(chessboard):\n",
    "    return [[cell[0] for cell in row] for row in chessboard]\n",
    "\n",
    "@njit\n",
    "def get_first_channel_1(chessboard):\n",
    "    return [[cell[0] for cell in row] for row in chessboard]\n",
    "\n",
    "def get_first_channel_2(chessboard):\n",
    "    first_channel = np.zeros((chessboard.shape[0], chessboard.shape[1]), dtype=chessboard.dtype)\n",
    "    for i in range(chessboard.shape[0]):\n",
    "        for j in range(chessboard.shape[1]):\n",
    "            first_channel[i, j] = chessboard[i, j, 0]\n",
    "    return first_channel\n",
    "\n",
    "@njit\n",
    "def get_first_channel_3(chessboard):\n",
    "    first_channel = np.zeros((chessboard.shape[0], chessboard.shape[1]), dtype=chessboard.dtype)\n",
    "    for i in range(chessboard.shape[0]):\n",
    "        for j in range(chessboard.shape[1]):\n",
    "            first_channel[i, j] = chessboard[i, j, 0]\n",
    "    return first_channel\n",
    "\n",
    "chessboard_test = np.zeros((5, 5, 2), dtype=float)"
   ]
  },
  {
   "cell_type": "code",
   "execution_count": 97,
   "metadata": {},
   "outputs": [],
   "source": [
    "for _ in range(int(1e6)):\n",
    "    get_first_channel_0(chessboard_test)"
   ]
  },
  {
   "cell_type": "code",
   "execution_count": 102,
   "metadata": {},
   "outputs": [],
   "source": [
    "for _ in range(int(1e6)):\n",
    "    get_first_channel_1(chessboard_test)"
   ]
  },
  {
   "cell_type": "code",
   "execution_count": 99,
   "metadata": {},
   "outputs": [],
   "source": [
    "for _ in range(int(1e6)):\n",
    "    get_first_channel_2(chessboard_test)"
   ]
  },
  {
   "cell_type": "code",
   "execution_count": 101,
   "metadata": {},
   "outputs": [],
   "source": [
    "for _ in range(int(1e6)):\n",
    "    get_first_channel_3(chessboard_test)"
   ]
  },
  {
   "cell_type": "markdown",
   "metadata": {},
   "source": [
    "## update_by_bfs"
   ]
  },
  {
   "cell_type": "code",
   "execution_count": 3,
   "metadata": {},
   "outputs": [],
   "source": [
    "import numpy as np\n",
    "from numba import njit\n",
    "from collections import deque\n",
    "\n",
    "def update_by_bfs_0(chessboard, row, col, color, power, board_range):\n",
    "        visited = set()\n",
    "        queue = deque([(row, col, 0)])  # 使用队列进行BFS搜索\n",
    "\n",
    "        while queue:\n",
    "            r, c, distance = queue.popleft()\n",
    "            if (r, c) in visited:\n",
    "                continue\n",
    "            elif distance >= power:\n",
    "                continue\n",
    "            elif chessboard[r][c][0] is np.inf:  # 检查是否为黑洞点\n",
    "                continue\n",
    "\n",
    "            visited.add((r, c))\n",
    "\n",
    "            change = max(power - distance, 0)\n",
    "            chessboard[r][c][0] += change * color\n",
    "            chessboard[r][c][1] += change\n",
    "            \n",
    "            # 只向左侧、右侧和下方扩展搜索区域\n",
    "            for dr, dc in [(0, 1), (0, -1), (1, 0)]:\n",
    "                nr, nc = r + dr, c + dc\n",
    "                if (\n",
    "                    0 <= nr < board_range[0]\n",
    "                    and 0 <= nc < board_range[1]\n",
    "                ):\n",
    "                    queue.append((nr, nc, distance + 1))\n",
    "\n",
    "        return visited\n",
    "\n",
    "@njit\n",
    "def update_by_bfs_1(chessboard, row, col, color, power, board_range):\n",
    "        visited = set()\n",
    "        queue = deque([(row, col, 0)])  # 使用队列进行BFS搜索\n",
    "\n",
    "        while queue:\n",
    "            r, c, distance = queue.popleft()\n",
    "            if (r, c) in visited:\n",
    "                continue\n",
    "            elif distance >= power:\n",
    "                continue\n",
    "            elif chessboard[r][c][0] is np.inf:  # 检查是否为黑洞点\n",
    "                continue\n",
    "\n",
    "            visited.add((r, c))\n",
    "\n",
    "            change = max(power - distance, 0)\n",
    "            chessboard[r][c][0] += change * color\n",
    "            chessboard[r][c][1] += change\n",
    "            \n",
    "            # 只向左侧、右侧和下方扩展搜索区域\n",
    "            for dr, dc in [(0, 1), (0, -1), (1, 0)]:\n",
    "                nr, nc = r + dr, c + dc\n",
    "                if (\n",
    "                    0 <= nr < board_range[0]\n",
    "                    and 0 <= nc < board_range[1]\n",
    "                ):\n",
    "                    queue.append((nr, nc, distance + 1))\n",
    "\n",
    "        return visited\n",
    "\n",
    "def update_by_bfs_2(chessboard, row, col, color, power, board_range):\n",
    "    visited = np.zeros((board_range[0], board_range[1]), dtype=np.bool_)\n",
    "    queue = np.empty((board_range[0] * board_range[1], 3), dtype=np.int32)\n",
    "    head, tail = 0, 1\n",
    "    queue[head] = (row, col, 0)\n",
    "\n",
    "    while head < tail:\n",
    "        r, c, distance = queue[head]\n",
    "        head += 1\n",
    "\n",
    "        if visited[r, c] or distance >= power or chessboard[r, c, 0] == np.inf:\n",
    "            continue\n",
    "\n",
    "        visited[r, c] = True\n",
    "\n",
    "        change = max(power - distance, 0)\n",
    "        chessboard[r, c, 0] += change * color\n",
    "        chessboard[r, c, 1] += change\n",
    "\n",
    "        for dr, dc in [(0, 1), (0, -1), (1, 0)]:\n",
    "            nr, nc = r + dr, c + dc\n",
    "            if 0 <= nr < board_range[0] and 0 <= nc < board_range[1]:\n",
    "                queue[tail] = (nr, nc, distance + 1)\n",
    "                tail += 1\n",
    "\n",
    "    return visited\n",
    "\n",
    "@njit\n",
    "def update_by_bfs_3(chessboard, row, col, color, power, board_range):\n",
    "    visited = np.zeros((board_range[0], board_range[1]), dtype=np.bool_)\n",
    "    queue = np.empty((board_range[0] * board_range[1], 3), dtype=np.int32)\n",
    "    head, tail = 0, 1\n",
    "    queue[head] = (row, col, power)\n",
    "\n",
    "    while head < tail:\n",
    "        r, c, distance = queue[head]\n",
    "        head += 1\n",
    "\n",
    "        if visited[r, c] or distance <= 0 or chessboard[r, c, 0] == np.inf:\n",
    "            continue\n",
    "\n",
    "        visited[r, c] = True\n",
    "\n",
    "        chessboard[r, c, 0] += distance * color\n",
    "        chessboard[r, c, 1] += distance\n",
    "\n",
    "        for dr, dc in [(0, 1), (0, -1), (1, 0)]:\n",
    "            nr, nc = r + dr, c + dc\n",
    "            if 0 <= nr < board_range[0] and 0 <= nc < board_range[1]:\n",
    "                queue[tail] = (nr, nc, distance - 1)\n",
    "                tail += 1\n",
    "\n",
    "    return visited\n",
    "\n",
    "chessboard_test = np.zeros((5, 5, 2), dtype=float)"
   ]
  },
  {
   "cell_type": "code",
   "execution_count": 4,
   "metadata": {},
   "outputs": [],
   "source": [
    "for _ in range(int(1e6)):\n",
    "    update_by_bfs_0(chessboard_test, 2, 3, 1, 2, (5, 5))"
   ]
  },
  {
   "cell_type": "code",
   "execution_count": 5,
   "metadata": {},
   "outputs": [
    {
     "ename": "TypingError",
     "evalue": "Failed in nopython mode pipeline (step: nopython frontend)\n\u001b[1mUntyped global name 'deque':\u001b[0m \u001b[1m\u001b[1mCannot determine Numba type of <class 'type'>\u001b[0m\n\u001b[1m\nFile \"C:\\Users\\Admin\\AppData\\Local\\Temp\\ipykernel_22568\\1709550494.py\", line 38:\u001b[0m\n\u001b[1mdef update_by_bfs_1(chessboard, row, col, color, power, board_range):\n    <source elided>\n        visited = set()\n\u001b[1m        queue = deque([(row, col, 0)])  # 使用队列进行BFS搜索\n\u001b[0m        \u001b[1m^\u001b[0m\u001b[0m\n\u001b[0m",
     "output_type": "error",
     "traceback": [
      "\u001b[1;31m---------------------------------------------------------------------------\u001b[0m",
      "\u001b[1;31mTypingError\u001b[0m                               Traceback (most recent call last)",
      "Cell \u001b[1;32mIn[5], line 2\u001b[0m\n\u001b[0;32m      1\u001b[0m \u001b[38;5;28;01mfor\u001b[39;00m _ \u001b[38;5;129;01min\u001b[39;00m \u001b[38;5;28mrange\u001b[39m(\u001b[38;5;28mint\u001b[39m(\u001b[38;5;241m1e6\u001b[39m)):\n\u001b[1;32m----> 2\u001b[0m     \u001b[43mupdate_by_bfs_1\u001b[49m\u001b[43m(\u001b[49m\u001b[43mchessboard_test\u001b[49m\u001b[43m,\u001b[49m\u001b[43m \u001b[49m\u001b[38;5;241;43m2\u001b[39;49m\u001b[43m,\u001b[49m\u001b[43m \u001b[49m\u001b[38;5;241;43m3\u001b[39;49m\u001b[43m,\u001b[49m\u001b[43m \u001b[49m\u001b[38;5;241;43m1\u001b[39;49m\u001b[43m,\u001b[49m\u001b[43m \u001b[49m\u001b[38;5;241;43m2\u001b[39;49m\u001b[43m,\u001b[49m\u001b[43m \u001b[49m\u001b[43m(\u001b[49m\u001b[38;5;241;43m5\u001b[39;49m\u001b[43m,\u001b[49m\u001b[43m \u001b[49m\u001b[38;5;241;43m5\u001b[39;49m\u001b[43m)\u001b[49m\u001b[43m)\u001b[49m\n",
      "File \u001b[1;32mg:\\ProgramData\\miniforge3\\envs\\chessenv\\lib\\site-packages\\numba\\core\\dispatcher.py:423\u001b[0m, in \u001b[0;36m_DispatcherBase._compile_for_args\u001b[1;34m(self, *args, **kws)\u001b[0m\n\u001b[0;32m    419\u001b[0m         msg \u001b[38;5;241m=\u001b[39m (\u001b[38;5;124mf\u001b[39m\u001b[38;5;124m\"\u001b[39m\u001b[38;5;132;01m{\u001b[39;00m\u001b[38;5;28mstr\u001b[39m(e)\u001b[38;5;241m.\u001b[39mrstrip()\u001b[38;5;132;01m}\u001b[39;00m\u001b[38;5;124m \u001b[39m\u001b[38;5;130;01m\\n\u001b[39;00m\u001b[38;5;130;01m\\n\u001b[39;00m\u001b[38;5;124mThis error may have been caused \u001b[39m\u001b[38;5;124m\"\u001b[39m\n\u001b[0;32m    420\u001b[0m                \u001b[38;5;124mf\u001b[39m\u001b[38;5;124m\"\u001b[39m\u001b[38;5;124mby the following argument(s):\u001b[39m\u001b[38;5;130;01m\\n\u001b[39;00m\u001b[38;5;132;01m{\u001b[39;00margs_str\u001b[38;5;132;01m}\u001b[39;00m\u001b[38;5;130;01m\\n\u001b[39;00m\u001b[38;5;124m\"\u001b[39m)\n\u001b[0;32m    421\u001b[0m         e\u001b[38;5;241m.\u001b[39mpatch_message(msg)\n\u001b[1;32m--> 423\u001b[0m     \u001b[43merror_rewrite\u001b[49m\u001b[43m(\u001b[49m\u001b[43me\u001b[49m\u001b[43m,\u001b[49m\u001b[43m \u001b[49m\u001b[38;5;124;43m'\u001b[39;49m\u001b[38;5;124;43mtyping\u001b[39;49m\u001b[38;5;124;43m'\u001b[39;49m\u001b[43m)\u001b[49m\n\u001b[0;32m    424\u001b[0m \u001b[38;5;28;01mexcept\u001b[39;00m errors\u001b[38;5;241m.\u001b[39mUnsupportedError \u001b[38;5;28;01mas\u001b[39;00m e:\n\u001b[0;32m    425\u001b[0m     \u001b[38;5;66;03m# Something unsupported is present in the user code, add help info\u001b[39;00m\n\u001b[0;32m    426\u001b[0m     error_rewrite(e, \u001b[38;5;124m'\u001b[39m\u001b[38;5;124munsupported_error\u001b[39m\u001b[38;5;124m'\u001b[39m)\n",
      "File \u001b[1;32mg:\\ProgramData\\miniforge3\\envs\\chessenv\\lib\\site-packages\\numba\\core\\dispatcher.py:364\u001b[0m, in \u001b[0;36m_DispatcherBase._compile_for_args.<locals>.error_rewrite\u001b[1;34m(e, issue_type)\u001b[0m\n\u001b[0;32m    362\u001b[0m     \u001b[38;5;28;01mraise\u001b[39;00m e\n\u001b[0;32m    363\u001b[0m \u001b[38;5;28;01melse\u001b[39;00m:\n\u001b[1;32m--> 364\u001b[0m     \u001b[38;5;28;01mraise\u001b[39;00m e\u001b[38;5;241m.\u001b[39mwith_traceback(\u001b[38;5;28;01mNone\u001b[39;00m)\n",
      "\u001b[1;31mTypingError\u001b[0m: Failed in nopython mode pipeline (step: nopython frontend)\n\u001b[1mUntyped global name 'deque':\u001b[0m \u001b[1m\u001b[1mCannot determine Numba type of <class 'type'>\u001b[0m\n\u001b[1m\nFile \"C:\\Users\\Admin\\AppData\\Local\\Temp\\ipykernel_22568\\1709550494.py\", line 38:\u001b[0m\n\u001b[1mdef update_by_bfs_1(chessboard, row, col, color, power, board_range):\n    <source elided>\n        visited = set()\n\u001b[1m        queue = deque([(row, col, 0)])  # 使用队列进行BFS搜索\n\u001b[0m        \u001b[1m^\u001b[0m\u001b[0m\n\u001b[0m"
     ]
    }
   ],
   "source": [
    "for _ in range(int(1e6)):\n",
    "    update_by_bfs_1(chessboard_test, 2, 3, 1, 2, (5, 5))"
   ]
  },
  {
   "cell_type": "code",
   "execution_count": 6,
   "metadata": {},
   "outputs": [],
   "source": [
    "for _ in range(int(1e6)):\n",
    "    update_by_bfs_2(chessboard_test, 2, 3, 1, 2, (5, 5))"
   ]
  },
  {
   "cell_type": "code",
   "execution_count": 7,
   "metadata": {},
   "outputs": [],
   "source": [
    "for _ in range(int(1e6)):\n",
    "    update_by_bfs_3(chessboard_test, 2, 3, 1, 2, (5, 5))"
   ]
  },
  {
   "cell_type": "markdown",
   "metadata": {},
   "source": [
    "## optimized_not_exist_zero_index"
   ]
  },
  {
   "cell_type": "code",
   "execution_count": 34,
   "metadata": {},
   "outputs": [],
   "source": [
    "import numpy as np\n",
    "from numba import njit\n",
    "\n",
    "def optimized_not_exist_zero_index_0(chessboard, board_range):\n",
    "    for row_idx in range(board_range[0]):\n",
    "        for col_idx in range(board_range[1]):\n",
    "            if chessboard[row_idx, col_idx, 0] == 0:\n",
    "                return False\n",
    "    return True\n",
    "\n",
    "@njit\n",
    "def optimized_not_exist_zero_index_1(chessboard, board_range):\n",
    "    for row_idx in range(board_range[0]):\n",
    "        for col_idx in range(board_range[1]):\n",
    "            if chessboard[row_idx, col_idx, 0] == 0:\n",
    "                return False\n",
    "    return True\n",
    "\n",
    "def optimized_not_exist_zero_index_2(chessboard):\n",
    "    return not np.any(chessboard[:, :, 0] == 0)\n",
    "\n",
    "@njit\n",
    "def optimized_not_exist_zero_index_3(chessboard):\n",
    "    return not np.any(chessboard[:, :, 0] == 0)\n",
    "\n",
    "chessboard_test = np.zeros((5, 5, 2), dtype=float)"
   ]
  },
  {
   "cell_type": "code",
   "execution_count": 35,
   "metadata": {},
   "outputs": [],
   "source": [
    "for _ in range(int(1e7)):\n",
    "    optimized_not_exist_zero_index_0(chessboard_test, (5, 5))"
   ]
  },
  {
   "cell_type": "code",
   "execution_count": 46,
   "metadata": {},
   "outputs": [],
   "source": [
    "for _ in range(int(1e7)):\n",
    "    optimized_not_exist_zero_index_1(chessboard_test, (5, 5))"
   ]
  },
  {
   "cell_type": "code",
   "execution_count": 37,
   "metadata": {},
   "outputs": [
    {
     "ename": "KeyboardInterrupt",
     "evalue": "",
     "output_type": "error",
     "traceback": [
      "\u001b[1;31m---------------------------------------------------------------------------\u001b[0m",
      "\u001b[1;31mKeyboardInterrupt\u001b[0m                         Traceback (most recent call last)",
      "Cell \u001b[1;32mIn[61], line 2\u001b[0m\n\u001b[0;32m      1\u001b[0m \u001b[38;5;28;01mfor\u001b[39;00m _ \u001b[38;5;129;01min\u001b[39;00m \u001b[38;5;28mrange\u001b[39m(\u001b[38;5;28mint\u001b[39m(\u001b[38;5;241m1e7\u001b[39m)):\n\u001b[1;32m----> 2\u001b[0m     \u001b[43moptimized_not_exist_zero_index_2\u001b[49m\u001b[43m(\u001b[49m\u001b[43mchessboard_test\u001b[49m\u001b[43m)\u001b[49m\n",
      "Cell \u001b[1;32mIn[50], line 20\u001b[0m, in \u001b[0;36moptimized_not_exist_zero_index_2\u001b[1;34m(chessboard)\u001b[0m\n\u001b[0;32m     19\u001b[0m \u001b[38;5;28;01mdef\u001b[39;00m \u001b[38;5;21moptimized_not_exist_zero_index_2\u001b[39m(chessboard):\n\u001b[1;32m---> 20\u001b[0m     \u001b[38;5;28;01mreturn\u001b[39;00m \u001b[38;5;129;01mnot\u001b[39;00m \u001b[43mnp\u001b[49m\u001b[38;5;241;43m.\u001b[39;49m\u001b[43many\u001b[49m\u001b[43m(\u001b[49m\u001b[43mchessboard\u001b[49m\u001b[43m[\u001b[49m\u001b[43m:\u001b[49m\u001b[43m,\u001b[49m\u001b[43m \u001b[49m\u001b[43m:\u001b[49m\u001b[43m,\u001b[49m\u001b[43m \u001b[49m\u001b[38;5;241;43m0\u001b[39;49m\u001b[43m]\u001b[49m\u001b[43m \u001b[49m\u001b[38;5;241;43m==\u001b[39;49m\u001b[43m \u001b[49m\u001b[38;5;241;43m0\u001b[39;49m\u001b[43m)\u001b[49m\n",
      "File \u001b[1;32mq:\\ProgramData\\miniforge3\\envs\\toolenv\\lib\\site-packages\\numpy\\core\\fromnumeric.py:2412\u001b[0m, in \u001b[0;36many\u001b[1;34m(a, axis, out, keepdims, where)\u001b[0m\n\u001b[0;32m   2322\u001b[0m \u001b[38;5;129m@array_function_dispatch\u001b[39m(_any_dispatcher)\n\u001b[0;32m   2323\u001b[0m \u001b[38;5;28;01mdef\u001b[39;00m \u001b[38;5;21many\u001b[39m(a, axis\u001b[38;5;241m=\u001b[39m\u001b[38;5;28;01mNone\u001b[39;00m, out\u001b[38;5;241m=\u001b[39m\u001b[38;5;28;01mNone\u001b[39;00m, keepdims\u001b[38;5;241m=\u001b[39mnp\u001b[38;5;241m.\u001b[39m_NoValue, \u001b[38;5;241m*\u001b[39m, where\u001b[38;5;241m=\u001b[39mnp\u001b[38;5;241m.\u001b[39m_NoValue):\n\u001b[0;32m   2324\u001b[0m \u001b[38;5;250m    \u001b[39m\u001b[38;5;124;03m\"\"\"\u001b[39;00m\n\u001b[0;32m   2325\u001b[0m \u001b[38;5;124;03m    Test whether any array element along a given axis evaluates to True.\u001b[39;00m\n\u001b[0;32m   2326\u001b[0m \n\u001b[1;32m   (...)\u001b[0m\n\u001b[0;32m   2410\u001b[0m \n\u001b[0;32m   2411\u001b[0m \u001b[38;5;124;03m    \"\"\"\u001b[39;00m\n\u001b[1;32m-> 2412\u001b[0m     \u001b[38;5;28;01mreturn\u001b[39;00m \u001b[43m_wrapreduction\u001b[49m\u001b[43m(\u001b[49m\u001b[43ma\u001b[49m\u001b[43m,\u001b[49m\u001b[43m \u001b[49m\u001b[43mnp\u001b[49m\u001b[38;5;241;43m.\u001b[39;49m\u001b[43mlogical_or\u001b[49m\u001b[43m,\u001b[49m\u001b[43m \u001b[49m\u001b[38;5;124;43m'\u001b[39;49m\u001b[38;5;124;43many\u001b[39;49m\u001b[38;5;124;43m'\u001b[39;49m\u001b[43m,\u001b[49m\u001b[43m \u001b[49m\u001b[43maxis\u001b[49m\u001b[43m,\u001b[49m\u001b[43m \u001b[49m\u001b[38;5;28;43;01mNone\u001b[39;49;00m\u001b[43m,\u001b[49m\u001b[43m \u001b[49m\u001b[43mout\u001b[49m\u001b[43m,\u001b[49m\n\u001b[0;32m   2413\u001b[0m \u001b[43m                          \u001b[49m\u001b[43mkeepdims\u001b[49m\u001b[38;5;241;43m=\u001b[39;49m\u001b[43mkeepdims\u001b[49m\u001b[43m,\u001b[49m\u001b[43m \u001b[49m\u001b[43mwhere\u001b[49m\u001b[38;5;241;43m=\u001b[39;49m\u001b[43mwhere\u001b[49m\u001b[43m)\u001b[49m\n",
      "File \u001b[1;32mq:\\ProgramData\\miniforge3\\envs\\toolenv\\lib\\site-packages\\numpy\\core\\fromnumeric.py:75\u001b[0m, in \u001b[0;36m_wrapreduction\u001b[1;34m(obj, ufunc, method, axis, dtype, out, **kwargs)\u001b[0m\n\u001b[0;32m     71\u001b[0m \u001b[38;5;28;01mdef\u001b[39;00m \u001b[38;5;21m_wrapreduction\u001b[39m(obj, ufunc, method, axis, dtype, out, \u001b[38;5;241m*\u001b[39m\u001b[38;5;241m*\u001b[39mkwargs):\n\u001b[0;32m     72\u001b[0m     passkwargs \u001b[38;5;241m=\u001b[39m {k: v \u001b[38;5;28;01mfor\u001b[39;00m k, v \u001b[38;5;129;01min\u001b[39;00m kwargs\u001b[38;5;241m.\u001b[39mitems()\n\u001b[0;32m     73\u001b[0m                   \u001b[38;5;28;01mif\u001b[39;00m v \u001b[38;5;129;01mis\u001b[39;00m \u001b[38;5;129;01mnot\u001b[39;00m np\u001b[38;5;241m.\u001b[39m_NoValue}\n\u001b[1;32m---> 75\u001b[0m     \u001b[38;5;28;01mif\u001b[39;00m \u001b[38;5;28;43mtype\u001b[39;49m\u001b[43m(\u001b[49m\u001b[43mobj\u001b[49m\u001b[43m)\u001b[49m \u001b[38;5;129;01mis\u001b[39;00m \u001b[38;5;129;01mnot\u001b[39;00m mu\u001b[38;5;241m.\u001b[39mndarray:\n\u001b[0;32m     76\u001b[0m         \u001b[38;5;28;01mtry\u001b[39;00m:\n\u001b[0;32m     77\u001b[0m             reduction \u001b[38;5;241m=\u001b[39m \u001b[38;5;28mgetattr\u001b[39m(obj, method)\n",
      "\u001b[1;31mKeyboardInterrupt\u001b[0m: "
     ]
    }
   ],
   "source": [
    "for _ in range(int(1e7)):\n",
    "    optimized_not_exist_zero_index_2(chessboard_test)"
   ]
  },
  {
   "cell_type": "code",
   "execution_count": 44,
   "metadata": {},
   "outputs": [],
   "source": [
    "for _ in range(int(1e7)):\n",
    "    optimized_not_exist_zero_index_3(chessboard_test)"
   ]
  },
  {
   "cell_type": "markdown",
   "metadata": {},
   "source": [
    "## mark_over_threshold"
   ]
  },
  {
   "cell_type": "code",
   "execution_count": 109,
   "metadata": {},
   "outputs": [],
   "source": [
    "import numpy as np\n",
    "from numba import njit\n",
    "\n",
    "\n",
    "def mark_and_expand_0(chessboard, visited, board_range, threshold, power):\n",
    "    queue_r = np.empty(board_range[0] * board_range[1], dtype=np.int32)\n",
    "    queue_c = np.empty(board_range[0] * board_range[1], dtype=np.int32)\n",
    "    queue_d = np.empty(board_range[0] * board_range[1], dtype=np.int32)\n",
    "    queue_len = 0\n",
    "    black_power = power - 1\n",
    "\n",
    "    for row_idx in range(board_range[0]):\n",
    "        for col_idx in range(board_range[1]):\n",
    "            if not visited[row_idx, col_idx]:\n",
    "                continue\n",
    "            if chessboard[row_idx, col_idx, 1] >= threshold:\n",
    "                queue_r[queue_len] = row_idx\n",
    "                queue_c[queue_len] = col_idx\n",
    "                queue_d[queue_len] = black_power\n",
    "                queue_len += 1\n",
    "\n",
    "    visited_expansion = np.zeros((board_range[0], board_range[1]), dtype=np.bool_)\n",
    "\n",
    "    head = 0\n",
    "    while head < queue_len:\n",
    "        r, c, distance = queue_r[head], queue_c[head], queue_d[head]\n",
    "        head += 1\n",
    "\n",
    "        if visited_expansion[r, c] or distance <= 0:\n",
    "            continue\n",
    "        \n",
    "        if not r >= board_range[0]:\n",
    "            chessboard[r, c, 0] = np.inf\n",
    "        visited_expansion[r, c] = True\n",
    "        \n",
    "        for dr, dc in [(0, 1), (0, -1), (-1, 0)]:\n",
    "            nr, nc = r + dr, c + dc\n",
    "            queue_r[queue_len] = nr\n",
    "            queue_c[queue_len] = nc%board_range[1]\n",
    "            queue_d[queue_len] = distance - 1\n",
    "            queue_len += 1\n",
    "\n",
    "@njit\n",
    "def mark_and_expand_1(chessboard, visited, board_range, threshold, power):\n",
    "    queue_r = np.empty(board_range[0] * board_range[1], dtype=np.int32)\n",
    "    queue_c = np.empty(board_range[0] * board_range[1], dtype=np.int32)\n",
    "    queue_d = np.empty(board_range[0] * board_range[1], dtype=np.int32)\n",
    "    queue_len = 0\n",
    "    black_power = power - 1\n",
    "\n",
    "    for row_idx in range(board_range[0]):\n",
    "        for col_idx in range(board_range[1]):\n",
    "            if not visited[row_idx, col_idx]:\n",
    "                continue\n",
    "            if chessboard[row_idx, col_idx, 1] >= threshold:\n",
    "                queue_r[queue_len] = row_idx\n",
    "                queue_c[queue_len] = col_idx\n",
    "                queue_d[queue_len] = black_power\n",
    "                queue_len += 1\n",
    "\n",
    "    visited_expansion = np.zeros((board_range[0], board_range[1]), dtype=np.bool_)\n",
    "\n",
    "    head = 0\n",
    "    while head < queue_len:\n",
    "        r, c, distance = queue_r[head], queue_c[head], queue_d[head]\n",
    "        head += 1\n",
    "\n",
    "        if visited_expansion[r, c] or distance <= 0:\n",
    "            continue\n",
    "        \n",
    "        if not r >= board_range[0]:\n",
    "            chessboard[r, c, 0] = np.inf\n",
    "        visited_expansion[r, c] = True\n",
    "        \n",
    "        for dr, dc in [(0, 1), (0, -1), (-1, 0)]:\n",
    "            nr, nc = r + dr, c + dc\n",
    "            queue_r[queue_len] = nr\n",
    "            queue_c[queue_len] = nc%board_range[1]\n",
    "            queue_d[queue_len] = distance - 1\n",
    "            queue_len += 1\n",
    "\n",
    "\n",
    "chessboard_test = np.zeros((5, 5, 2), dtype=float)\n",
    "visited = np.zeros((5, 5), dtype=np.bool_)"
   ]
  },
  {
   "cell_type": "markdown",
   "metadata": {},
   "source": [
    "## get_best_child_and_ucb"
   ]
  },
  {
   "cell_type": "code",
   "execution_count": null,
   "metadata": {},
   "outputs": [],
   "source": [
    "@njit\n",
    "def get_best_child_and_ucb_0(children, visit_num, c_param=0.9):\n",
    "    best_child = None\n",
    "    best_value = -np.inf\n",
    "    \n",
    "    for child in children:\n",
    "        win_rate = child.get_win_rate()\n",
    "        ucb_value = (1 - c_param) * win_rate + c_param * math.sqrt((math.log(visit_num) / visit_num))\n",
    "        if ucb_value > best_value:\n",
    "            best_value = ucb_value\n",
    "            best_child = child\n",
    "\n",
    "    return best_child"
   ]
  },
  {
   "cell_type": "code",
   "execution_count": 124,
   "metadata": {},
   "outputs": [],
   "source": [
    "import numpy as np\n",
    "import random\n",
    "my_array = np.array(range(1000))\n",
    "num_li = (5,5)"
   ]
  },
  {
   "cell_type": "code",
   "execution_count": 125,
   "metadata": {},
   "outputs": [],
   "source": [
    "for _ in range(int(1e6)):\n",
    "    np.random.choice(my_array)"
   ]
  },
  {
   "cell_type": "code",
   "execution_count": 126,
   "metadata": {},
   "outputs": [],
   "source": [
    "for _ in range(int(1e6)):\n",
    "    random.choice(my_array)"
   ]
  },
  {
   "cell_type": "code",
   "execution_count": 119,
   "metadata": {},
   "outputs": [],
   "source": [
    "for _ in range(int(1e6)):\n",
    "    np.prod(num_li)"
   ]
  },
  {
   "cell_type": "code",
   "execution_count": 120,
   "metadata": {},
   "outputs": [],
   "source": [
    "for _ in range(int(1e6)):\n",
    "    num_li[0]*num_li[1]"
   ]
  },
  {
   "cell_type": "code",
   "execution_count": 3,
   "metadata": {},
   "outputs": [
    {
     "data": {
      "text/plain": [
       "array([[0., 0.],\n",
       "       [0., 0.],\n",
       "       [0., 0.],\n",
       "       [0., 0.],\n",
       "       [0., 0.]])"
      ]
     },
     "execution_count": 3,
     "metadata": {},
     "output_type": "execute_result"
    }
   ],
   "source": [
    "import numpy as np\n",
    "import random\n",
    "\n",
    "\n",
    "np.zeros((5, 2), dtype=np.float64)"
   ]
  },
  {
   "cell_type": "code",
   "execution_count": 9,
   "metadata": {},
   "outputs": [],
   "source": [
    "import hashlib\n",
    "import numpy as np\n",
    "from numba import njit\n",
    "from functools import lru_cache\n",
    "\n",
    "\n",
    "def array_to_sha256_0(chessboard):\n",
    "    data_str = str(chessboard) # 将数据转换为字符串形式\n",
    "    hash_object = hashlib.sha256(data_str.encode()) # 使用 hashlib 库中的 sha256 函数来生成哈希值\n",
    "    hash_hex = hash_object.hexdigest() # 获取十六进制表示的哈希值\n",
    "    return hash_hex\n",
    "\n",
    "@lru_cache(maxsize=None)\n",
    "def array_to_sha256_1(chessboard):\n",
    "    data_str = str(chessboard) # 将数据转换为字符串形式\n",
    "    hash_object = hashlib.sha256(data_str.encode()) # 使用 hashlib 库中的 sha256 函数来生成哈希值\n",
    "    hash_hex = hash_object.hexdigest() # 获取十六进制表示的哈希值\n",
    "    return hash_hex\n",
    "\n",
    "\n",
    "def array_to_sha256_2(arr):\n",
    "    # 将数组转换为字节数据\n",
    "    arr_bytes = arr.tobytes()\n",
    "    \n",
    "    # 计算 SHA-256 哈希值\n",
    "    sha256_hash = hashlib.sha256(arr_bytes).hexdigest()\n",
    "    \n",
    "    return sha256_hash\n",
    "\n",
    "@lru_cache(maxsize=None)\n",
    "def array_to_sha256_3(arr):\n",
    "    # 将数组转换为字节数据\n",
    "    arr_bytes = arr.tobytes()\n",
    "    \n",
    "    # 计算 SHA-256 哈希值\n",
    "    sha256_hash = hashlib.sha256(arr_bytes).hexdigest()\n",
    "    \n",
    "    return sha256_hash\n",
    "\n",
    "arr = np.ones((10, 10), dtype=np.float64)"
   ]
  },
  {
   "cell_type": "code",
   "execution_count": 11,
   "metadata": {},
   "outputs": [],
   "source": [
    "for _ in range(int(1e5)):\n",
    "    array_to_sha256_0(arr)"
   ]
  },
  {
   "cell_type": "code",
   "execution_count": 12,
   "metadata": {},
   "outputs": [
    {
     "ename": "TypeError",
     "evalue": "unhashable type: 'numpy.ndarray'",
     "output_type": "error",
     "traceback": [
      "\u001b[1;31m---------------------------------------------------------------------------\u001b[0m",
      "\u001b[1;31mTypeError\u001b[0m                                 Traceback (most recent call last)",
      "Cell \u001b[1;32mIn[12], line 2\u001b[0m\n\u001b[0;32m      1\u001b[0m \u001b[38;5;28;01mfor\u001b[39;00m _ \u001b[38;5;129;01min\u001b[39;00m \u001b[38;5;28mrange\u001b[39m(\u001b[38;5;28mint\u001b[39m(\u001b[38;5;241m1e5\u001b[39m)):\n\u001b[1;32m----> 2\u001b[0m     \u001b[43marray_to_sha256_1\u001b[49m\u001b[43m(\u001b[49m\u001b[43marr\u001b[49m\u001b[43m)\u001b[49m\n",
      "\u001b[1;31mTypeError\u001b[0m: unhashable type: 'numpy.ndarray'"
     ]
    }
   ],
   "source": [
    "for _ in range(int(1e5)):\n",
    "    array_to_sha256_1(arr)"
   ]
  },
  {
   "cell_type": "code",
   "execution_count": 13,
   "metadata": {},
   "outputs": [],
   "source": [
    "for _ in range(int(1e5)):\n",
    "    array_to_sha256_2(arr)"
   ]
  },
  {
   "cell_type": "code",
   "execution_count": 14,
   "metadata": {},
   "outputs": [
    {
     "ename": "TypeError",
     "evalue": "unhashable type: 'numpy.ndarray'",
     "output_type": "error",
     "traceback": [
      "\u001b[1;31m---------------------------------------------------------------------------\u001b[0m",
      "\u001b[1;31mTypeError\u001b[0m                                 Traceback (most recent call last)",
      "Cell \u001b[1;32mIn[14], line 2\u001b[0m\n\u001b[0;32m      1\u001b[0m \u001b[38;5;28;01mfor\u001b[39;00m _ \u001b[38;5;129;01min\u001b[39;00m \u001b[38;5;28mrange\u001b[39m(\u001b[38;5;28mint\u001b[39m(\u001b[38;5;241m1e5\u001b[39m)):\n\u001b[1;32m----> 2\u001b[0m     \u001b[43marray_to_sha256_3\u001b[49m\u001b[43m(\u001b[49m\u001b[43marr\u001b[49m\u001b[43m)\u001b[49m\n",
      "\u001b[1;31mTypeError\u001b[0m: unhashable type: 'numpy.ndarray'"
     ]
    }
   ],
   "source": [
    "for _ in range(int(1e5)):\n",
    "    array_to_sha256_3(arr)"
   ]
  },
  {
   "cell_type": "code",
   "execution_count": 2,
   "metadata": {},
   "outputs": [],
   "source": [
    "a = ((5,5), 2)\n",
    "\n",
    "\n",
    "(x,y),z = a"
   ]
  },
  {
   "cell_type": "markdown",
   "metadata": {},
   "source": [
    "## index_array"
   ]
  },
  {
   "cell_type": "code",
   "execution_count": 26,
   "metadata": {},
   "outputs": [],
   "source": [
    "import numpy as np\n",
    "\n",
    "arr = np.zeros((int(1e8), 2), dtype=np.float64)\n",
    "index = 0"
   ]
  },
  {
   "cell_type": "code",
   "execution_count": null,
   "metadata": {},
   "outputs": [],
   "source": [
    "for _ in range(int(1e8)):\n",
    "    get = arr[0]\n",
    "    arr = np.delete(arr, 0, axis=0)"
   ]
  },
  {
   "cell_type": "code",
   "execution_count": 22,
   "metadata": {},
   "outputs": [],
   "source": [
    "for _ in range(int(1e8)):\n",
    "    get = arr[0]\n",
    "    arr = arr[1:]"
   ]
  },
  {
   "cell_type": "code",
   "execution_count": 25,
   "metadata": {},
   "outputs": [],
   "source": [
    "for _ in range(int(1e8)):\n",
    "    get = arr[index]\n",
    "    index += 1"
   ]
  },
  {
   "cell_type": "code",
   "execution_count": 27,
   "metadata": {},
   "outputs": [],
   "source": [
    "for _ in range(int(1e8)):\n",
    "    c = len(arr)"
   ]
  },
  {
   "cell_type": "code",
   "execution_count": 28,
   "metadata": {},
   "outputs": [],
   "source": [
    "for _ in range(int(1e8)):\n",
    "    c = arr.shape[0]"
   ]
  },
  {
   "cell_type": "code",
   "execution_count": 29,
   "metadata": {},
   "outputs": [],
   "source": [
    "a = 5\n",
    "b = 3"
   ]
  },
  {
   "cell_type": "code",
   "execution_count": 31,
   "metadata": {},
   "outputs": [],
   "source": [
    "for _ in range(int(1e8)):\n",
    "    a == b"
   ]
  },
  {
   "cell_type": "code",
   "execution_count": 32,
   "metadata": {},
   "outputs": [],
   "source": [
    "for _ in range(int(1e8)):\n",
    "    a - b == 0"
   ]
  },
  {
   "cell_type": "markdown",
   "metadata": {},
   "source": [
    "## get_win"
   ]
  },
  {
   "cell_type": "code",
   "execution_count": 71,
   "metadata": {},
   "outputs": [],
   "source": [
    "from numba import njit\n",
    "\n",
    "def get_win_0(score, balance_num, color):\n",
    "    if color == -1:\n",
    "        if score > balance_num:\n",
    "            return 1\n",
    "        elif score == balance_num:\n",
    "            return 0\n",
    "        else:\n",
    "            return -1\n",
    "    else:\n",
    "        if score < -1 * balance_num:\n",
    "            return -1\n",
    "        elif score == -1 * balance_num:\n",
    "            return 0\n",
    "        else:\n",
    "            return 1\n",
    "        \n",
    "def get_win_1(score, balance_num, color):\n",
    "    return cal_0(score, balance_num, color)\n",
    "\n",
    "@njit\n",
    "def cal_0(score, balance_num, color):\n",
    "    if color == -1:\n",
    "        if score > balance_num:\n",
    "            return 1\n",
    "        elif score == balance_num:\n",
    "            return 0\n",
    "        else:\n",
    "            return -1\n",
    "    else:\n",
    "        if score < -1 * balance_num:\n",
    "            return -1\n",
    "        elif score == -1 * balance_num:\n",
    "            return 0\n",
    "        else:\n",
    "            return 1\n",
    "        \n",
    "def get_win_2(score, balance_num, color):\n",
    "    if color == 1:\n",
    "        comparison = score + balance_num\n",
    "    else:\n",
    "        comparison = score - balance_num\n",
    "\n",
    "    if comparison > 0:\n",
    "        return 1\n",
    "    elif comparison == 0:\n",
    "        return 0\n",
    "    else:\n",
    "        return -1\n",
    "    \n",
    "def get_win_3(score, balance_num, color):\n",
    "    return cal_0(score, balance_num, color)\n",
    "    \n",
    "\n",
    "@njit\n",
    "def call_1(score, balance_num, color):\n",
    "    if color == 1:\n",
    "        comparison = score + balance_num\n",
    "    else:\n",
    "        comparison = score - balance_num\n",
    "\n",
    "    if comparison > 0:\n",
    "        return 1\n",
    "    elif comparison == 0:\n",
    "        return 0\n",
    "    else:\n",
    "        return -1\n",
    "    \n",
    "\n",
    "def get_win_4():\n",
    "    score = 10\n",
    "    balance_num = 2.5\n",
    "    color = get_color()\n",
    "    if color == 1:\n",
    "        comparison = score + balance_num\n",
    "    else:\n",
    "        comparison = score - balance_num\n",
    "\n",
    "    if comparison > 0:\n",
    "        return 1\n",
    "    elif comparison == 0:\n",
    "        return 0\n",
    "    else:\n",
    "        return -1\n",
    "    \n",
    "\n",
    "def get_win_5(color = None):\n",
    "    score = 10\n",
    "    balance_num = 2.5\n",
    "    color = color if color is not None else get_color()\n",
    "    if color == 1:\n",
    "        comparison = score + balance_num\n",
    "    else:\n",
    "        comparison = score - balance_num\n",
    "\n",
    "    if comparison > 0:\n",
    "        return 1\n",
    "    elif comparison == 0:\n",
    "        return 0\n",
    "    else:\n",
    "        return -1\n",
    "    \n",
    "def get_win_6(color):\n",
    "    score = 10\n",
    "    balance_num = 2.5\n",
    "    if color == 1:\n",
    "        comparison = score + balance_num\n",
    "    else:\n",
    "        comparison = score - balance_num\n",
    "\n",
    "    if comparison > 0:\n",
    "        return 1\n",
    "    elif comparison == 0:\n",
    "        return 0\n",
    "    else:\n",
    "        return -1\n",
    "    \n",
    "def get_color():\n",
    "    return 1\n",
    "\n",
    "def get_win_7(color = None):\n",
    "    score = 10\n",
    "    balance_num = 2.5\n",
    "    color = color if color is not None else get_color()\n",
    "    comparison = score + color * balance_num\n",
    "\n",
    "    if comparison > 0:\n",
    "        return 1\n",
    "    elif comparison == 0:\n",
    "        return 0\n",
    "    else:\n",
    "        return -1\n",
    "    \n",
    "\n",
    "score = 10\n",
    "balance_num = 2.5\n",
    "color = 1"
   ]
  },
  {
   "cell_type": "code",
   "execution_count": 34,
   "metadata": {},
   "outputs": [],
   "source": [
    "for _ in range(int(1e8)):\n",
    "    get_win_0(score, balance_num, color)"
   ]
  },
  {
   "cell_type": "code",
   "execution_count": 35,
   "metadata": {},
   "outputs": [],
   "source": [
    "for _ in range(int(1e8)):\n",
    "    get_win_1(score, balance_num, color)"
   ]
  },
  {
   "cell_type": "code",
   "execution_count": 36,
   "metadata": {},
   "outputs": [],
   "source": [
    "for _ in range(int(1e8)):\n",
    "    get_win_2(score, balance_num, color)"
   ]
  },
  {
   "cell_type": "code",
   "execution_count": 37,
   "metadata": {},
   "outputs": [],
   "source": [
    "for _ in range(int(1e8)):\n",
    "    get_win_3(score, balance_num, color)"
   ]
  },
  {
   "cell_type": "code",
   "execution_count": 40,
   "metadata": {},
   "outputs": [],
   "source": [
    "for _ in range(int(1e8)):\n",
    "    get_win_4()"
   ]
  },
  {
   "cell_type": "code",
   "execution_count": 72,
   "metadata": {},
   "outputs": [],
   "source": [
    "for _ in range(int(1e8)):\n",
    "    get_win_5(color)"
   ]
  },
  {
   "cell_type": "code",
   "execution_count": 44,
   "metadata": {},
   "outputs": [],
   "source": [
    "for _ in range(int(1e8)):\n",
    "    get_win_6(color)"
   ]
  },
  {
   "cell_type": "code",
   "execution_count": 73,
   "metadata": {},
   "outputs": [],
   "source": [
    "for _ in range(int(1e8)):\n",
    "    get_win_7(color)"
   ]
  },
  {
   "cell_type": "code",
   "execution_count": 48,
   "metadata": {},
   "outputs": [],
   "source": [
    "for _ in range(int(1e6)):\n",
    "    a = np.array((2,5), dtype=np.int64)"
   ]
  },
  {
   "cell_type": "code",
   "execution_count": 49,
   "metadata": {},
   "outputs": [],
   "source": [
    "for _ in range(int(1e6)):\n",
    "    a = (2,5)"
   ]
  },
  {
   "cell_type": "markdown",
   "metadata": {},
   "source": [
    "## bfs_expand_with_power_threshold"
   ]
  },
  {
   "cell_type": "code",
   "execution_count": 2,
   "metadata": {},
   "outputs": [],
   "source": [
    "from numba import njit, prange\n",
    "import numpy as np\n",
    "\n",
    "@njit\n",
    "def bfs_expand_with_power_threshold_0(chessboard, board_range, row, col, color, power, threshold):\n",
    "    # 第一层存储power_expand的visit信息, 第二层存储threshold_expand的visit信息\n",
    "    visited = np.zeros((board_range[0], board_range[1], 2), dtype=np.bool_)\n",
    "\n",
    "    board_size = board_range[0] * board_range[1]\n",
    "    max_size = board_size * 2\n",
    "\n",
    "    # 前board_size存储power_expand内容, 后board_size存储threshold_expand内容\n",
    "    expand_queue_r = np.empty(max_size, dtype=np.int32)\n",
    "    expand_queue_c = np.empty(max_size, dtype=np.int32)\n",
    "    expand_queue_d = np.empty(max_size, dtype=np.int32)\n",
    "    expand_queue_r[0] = row\n",
    "    expand_queue_c[0] = col\n",
    "    expand_queue_d[0] = power\n",
    "\n",
    "    head, tail = 0, 1\n",
    "    black_hole_power = power - 1\n",
    "    over_threshold_max_index = board_size\n",
    "\n",
    "    while head < tail:\n",
    "        \"\"\"更新落子点周围的格子，考虑黑洞点对路径的阻挡作用，同时只影响下方的格子\"\"\"\n",
    "        r, c, distance = expand_queue_r[head], expand_queue_c[head], expand_queue_d[head]\n",
    "        head += 1\n",
    "\n",
    "        if visited[r, c, 0] or distance <= 0 or chessboard[r, c, 0] == np.inf:\n",
    "            continue\n",
    "\n",
    "        visited[r, c, 0] = True\n",
    "\n",
    "        chessboard[r, c, 0] += distance * color\n",
    "        chessboard[r, c, 1] += distance\n",
    "\n",
    "        if chessboard[r, c, 1] >= threshold:\n",
    "            expand_queue_r[over_threshold_max_index] = r + black_hole_power - 1\n",
    "            expand_queue_c[over_threshold_max_index] = c\n",
    "            expand_queue_d[over_threshold_max_index] = black_hole_power\n",
    "            over_threshold_max_index += 1\n",
    "\n",
    "        for dr, dc in [(0, 1), (0, -1), (1, 0)]:\n",
    "            nr, nc = r + dr, (c + dc) % board_range[1]\n",
    "            if nr >= board_range[0]:\n",
    "                continue\n",
    "            expand_queue_r[tail] = nr\n",
    "            expand_queue_c[tail] = nc\n",
    "            expand_queue_d[tail] = distance - 1\n",
    "            tail += 1\n",
    "\n",
    "    head = board_size\n",
    "\n",
    "    while head < over_threshold_max_index:\n",
    "        \"\"\"扩张黑洞区域\"\"\"\n",
    "        r, c, distance = expand_queue_r[head], expand_queue_c[head], expand_queue_d[head]\n",
    "        head += 1\n",
    "\n",
    "        if visited[r, c, 1] or distance <= 0:\n",
    "            continue\n",
    "        \n",
    "        visited[r, c, 1] = True\n",
    "        if r < board_range[0]:\n",
    "            chessboard[r, c, 0] = np.inf\n",
    "        \n",
    "        for dr, dc in [(0, 1), (0, -1), (-1, 0)]:\n",
    "            nr, nc = r + dr, (c + dc) % board_range[1]\n",
    "            expand_queue_r[over_threshold_max_index] = nr\n",
    "            expand_queue_c[over_threshold_max_index] = nc\n",
    "            expand_queue_d[over_threshold_max_index] = distance - 1\n",
    "            over_threshold_max_index += 1\n",
    "\n",
    "@njit\n",
    "def bfs_expand_with_power_threshold_1(chessboard, board_range, row, col, color, power, threshold):\n",
    "    # 第一层存储power_expand的visit信息, 第二层存储threshold_expand的visit信息\n",
    "    visited = np.zeros((board_range[0], board_range[1], 2), dtype=np.bool_)\n",
    "    \n",
    "    power_directions = [(0, 1), (0, -1), (1, 0)]\n",
    "    threshold_directions = [(0, 1), (0, -1), (-1, 0)]\n",
    "\n",
    "    board_size = board_range[0] * board_range[1]\n",
    "    max_size = board_size * 2\n",
    "\n",
    "    # 前board_size存储power_expand内容, 后board_size存储threshold_expand内容\n",
    "    expand_queue_r = np.empty(max_size, dtype=np.int32)\n",
    "    expand_queue_c = np.empty(max_size, dtype=np.int32)\n",
    "    expand_queue_d = np.empty(max_size, dtype=np.int32)\n",
    "    expand_queue_r[0] = row\n",
    "    expand_queue_c[0] = col\n",
    "    expand_queue_d[0] = power\n",
    "\n",
    "    head, tail = 0, 1\n",
    "    black_hole_power = power - 1\n",
    "    over_threshold_max_index = board_size\n",
    "\n",
    "    while head < tail:\n",
    "        \"\"\"更新落子点周围的格子，考虑黑洞点对路径的阻挡作用，同时只影响下方的格子\"\"\"\n",
    "        r, c, distance = expand_queue_r[head], expand_queue_c[head], expand_queue_d[head]\n",
    "        head += 1\n",
    "\n",
    "        if visited[r, c, 0] or distance <= 0 or chessboard[r, c, 0] == np.inf:\n",
    "            continue\n",
    "\n",
    "        visited[r, c, 0] = True\n",
    "\n",
    "        chessboard[r, c, 0] += distance * color\n",
    "        chessboard[r, c, 1] += distance\n",
    "\n",
    "        if chessboard[r, c, 1] >= threshold:\n",
    "            expand_queue_r[over_threshold_max_index] = r + black_hole_power - 1\n",
    "            expand_queue_c[over_threshold_max_index] = c\n",
    "            expand_queue_d[over_threshold_max_index] = black_hole_power\n",
    "            over_threshold_max_index += 1\n",
    "\n",
    "        for dr, dc in power_directions:\n",
    "            nr, nc = r + dr, (c + dc) % board_range[1]\n",
    "            if nr >= board_range[0]:\n",
    "                continue\n",
    "            expand_queue_r[tail] = nr\n",
    "            expand_queue_c[tail] = nc\n",
    "            expand_queue_d[tail] = distance - 1\n",
    "            tail += 1\n",
    "\n",
    "    head = board_size\n",
    "\n",
    "    while head < over_threshold_max_index:\n",
    "        \"\"\"扩张黑洞区域\"\"\"\n",
    "        r, c, distance = expand_queue_r[head], expand_queue_c[head], expand_queue_d[head]\n",
    "        head += 1\n",
    "\n",
    "        if visited[r, c, 1] or distance <= 0:\n",
    "            continue\n",
    "        \n",
    "        visited[r, c, 1] = True\n",
    "        if r < board_range[0]:\n",
    "            chessboard[r, c, 0] = np.inf\n",
    "        \n",
    "        for dr, dc in threshold_directions:\n",
    "            nr, nc = r + dr, (c + dc) % board_range[1]\n",
    "            expand_queue_r[over_threshold_max_index] = nr\n",
    "            expand_queue_c[over_threshold_max_index] = nc\n",
    "            expand_queue_d[over_threshold_max_index] = distance - 1\n",
    "            over_threshold_max_index += 1\n",
    "\n",
    "\n",
    "@njit\n",
    "def bfs_expand_with_power_threshold_2(chessboard, board_range, row, col, color, power, threshold, power_directions, threshold_directions):\n",
    "    # 第一层存储power_expand的visit信息, 第二层存储threshold_expand的visit信息\n",
    "    visited = np.zeros((board_range[0], board_range[1], 2), dtype=np.bool_)\n",
    "    \n",
    "    board_size = board_range[0] * board_range[1]\n",
    "    max_size = board_size * 2\n",
    "\n",
    "    # 前board_size存储power_expand内容, 后board_size存储threshold_expand内容\n",
    "    expand_queue_r = np.empty(max_size, dtype=np.int32)\n",
    "    expand_queue_c = np.empty(max_size, dtype=np.int32)\n",
    "    expand_queue_d = np.empty(max_size, dtype=np.int32)\n",
    "    expand_queue_r[0] = row\n",
    "    expand_queue_c[0] = col\n",
    "    expand_queue_d[0] = power\n",
    "\n",
    "    head, tail = 0, 1\n",
    "    black_hole_power = power - 1\n",
    "    over_threshold_max_index = board_size\n",
    "\n",
    "    while head < tail:\n",
    "        \"\"\"更新落子点周围的格子，考虑黑洞点对路径的阻挡作用，同时只影响下方的格子\"\"\"\n",
    "        r, c, distance = expand_queue_r[head], expand_queue_c[head], expand_queue_d[head]\n",
    "        head += 1\n",
    "\n",
    "        if visited[r, c, 0] or distance <= 0 or chessboard[r, c, 0] == np.inf:\n",
    "            continue\n",
    "\n",
    "        visited[r, c, 0] = True\n",
    "\n",
    "        chessboard[r, c, 0] += distance * color\n",
    "        chessboard[r, c, 1] += distance\n",
    "\n",
    "        if chessboard[r, c, 1] >= threshold:\n",
    "            expand_queue_r[over_threshold_max_index] = r + black_hole_power - 1\n",
    "            expand_queue_c[over_threshold_max_index] = c\n",
    "            expand_queue_d[over_threshold_max_index] = black_hole_power\n",
    "            over_threshold_max_index += 1\n",
    "\n",
    "        for dr, dc in power_directions:\n",
    "            nr, nc = r + dr, (c + dc) % board_range[1]\n",
    "            if nr >= board_range[0]:\n",
    "                continue\n",
    "            expand_queue_r[tail] = nr\n",
    "            expand_queue_c[tail] = nc\n",
    "            expand_queue_d[tail] = distance - 1\n",
    "            tail += 1\n",
    "\n",
    "    head = board_size\n",
    "\n",
    "    while head < over_threshold_max_index:\n",
    "        \"\"\"扩张黑洞区域\"\"\"\n",
    "        r, c, distance = expand_queue_r[head], expand_queue_c[head], expand_queue_d[head]\n",
    "        head += 1\n",
    "\n",
    "        if visited[r, c, 1] or distance <= 0:\n",
    "            continue\n",
    "        \n",
    "        visited[r, c, 1] = True\n",
    "        if r < board_range[0]:\n",
    "            chessboard[r, c, 0] = np.inf\n",
    "        \n",
    "        for dr, dc in threshold_directions:\n",
    "            nr, nc = r + dr, (c + dc) % board_range[1]\n",
    "            expand_queue_r[over_threshold_max_index] = nr\n",
    "            expand_queue_c[over_threshold_max_index] = nc\n",
    "            expand_queue_d[over_threshold_max_index] = distance - 1\n",
    "            over_threshold_max_index += 1\n",
    "\n",
    "\n",
    "\n",
    "init_board = np.empty((5, 5, 2), dtype=float)\n",
    "power_directions = [(0, 1), (0, -1), (1, 0)]\n",
    "threshold_directions = [(0, 1), (0, -1), (-1, 0)]"
   ]
  },
  {
   "cell_type": "code",
   "execution_count": 7,
   "metadata": {},
   "outputs": [],
   "source": [
    "for _ in range(int(1e6)):\n",
    "    bfs_expand_with_power_threshold_0(init_board, (5,5), 0, 0, 1, 1, 1)"
   ]
  },
  {
   "cell_type": "code",
   "execution_count": 8,
   "metadata": {},
   "outputs": [],
   "source": [
    "for _ in range(int(1e6)):\n",
    "    bfs_expand_with_power_threshold_1(init_board, (5,5), 0, 0, 1, 1, 1)"
   ]
  },
  {
   "cell_type": "code",
   "execution_count": 9,
   "metadata": {},
   "outputs": [
    {
     "ename": "SystemError",
     "evalue": "<built-in method __new__ of type object at 0x00007FF9E4049340> returned a result with an exception set",
     "output_type": "error",
     "traceback": [
      "\u001b[1;31m---------------------------------------------------------------------------\u001b[0m",
      "\u001b[1;31mKeyboardInterrupt\u001b[0m                         Traceback (most recent call last)",
      "File \u001b[1;32mq:\\ProgramData\\miniforge3\\envs\\toolenv\\lib\\site-packages\\numba\\core\\typing\\typeof.py:33\u001b[0m, in \u001b[0;36mtypeof\u001b[1;34m(val, purpose)\u001b[0m\n\u001b[0;32m     32\u001b[0m c \u001b[38;5;241m=\u001b[39m _TypeofContext(purpose)\n\u001b[1;32m---> 33\u001b[0m ty \u001b[38;5;241m=\u001b[39m \u001b[43mtypeof_impl\u001b[49m\u001b[43m(\u001b[49m\u001b[43mval\u001b[49m\u001b[43m,\u001b[49m\u001b[43m \u001b[49m\u001b[43mc\u001b[49m\u001b[43m)\u001b[49m\n\u001b[0;32m     34\u001b[0m \u001b[38;5;28;01mif\u001b[39;00m ty \u001b[38;5;129;01mis\u001b[39;00m \u001b[38;5;28;01mNone\u001b[39;00m:\n",
      "File \u001b[1;32mq:\\ProgramData\\miniforge3\\envs\\toolenv\\lib\\functools.py:889\u001b[0m, in \u001b[0;36msingledispatch.<locals>.wrapper\u001b[1;34m(*args, **kw)\u001b[0m\n\u001b[0;32m    886\u001b[0m     \u001b[38;5;28;01mraise\u001b[39;00m \u001b[38;5;167;01mTypeError\u001b[39;00m(\u001b[38;5;124mf\u001b[39m\u001b[38;5;124m'\u001b[39m\u001b[38;5;132;01m{\u001b[39;00mfuncname\u001b[38;5;132;01m}\u001b[39;00m\u001b[38;5;124m requires at least \u001b[39m\u001b[38;5;124m'\u001b[39m\n\u001b[0;32m    887\u001b[0m                     \u001b[38;5;124m'\u001b[39m\u001b[38;5;124m1 positional argument\u001b[39m\u001b[38;5;124m'\u001b[39m)\n\u001b[1;32m--> 889\u001b[0m \u001b[38;5;28;01mreturn\u001b[39;00m dispatch(args[\u001b[38;5;241m0\u001b[39m]\u001b[38;5;241m.\u001b[39m\u001b[38;5;18m__class__\u001b[39m)(\u001b[38;5;241m*\u001b[39margs, \u001b[38;5;241m*\u001b[39m\u001b[38;5;241m*\u001b[39mkw)\n",
      "File \u001b[1;32mq:\\ProgramData\\miniforge3\\envs\\toolenv\\lib\\site-packages\\numba\\core\\typing\\typeof.py:178\u001b[0m, in \u001b[0;36m_typeof_tuple\u001b[1;34m(val, c)\u001b[0m\n\u001b[0;32m    177\u001b[0m     \u001b[38;5;28;01mreturn\u001b[39;00m\n\u001b[1;32m--> 178\u001b[0m \u001b[38;5;28;01mreturn\u001b[39;00m \u001b[43mtypes\u001b[49m\u001b[38;5;241;43m.\u001b[39;49m\u001b[43mBaseTuple\u001b[49m\u001b[38;5;241;43m.\u001b[39;49m\u001b[43mfrom_types\u001b[49m\u001b[43m(\u001b[49m\u001b[43mtys\u001b[49m\u001b[43m,\u001b[49m\u001b[43m \u001b[49m\u001b[38;5;28;43mtype\u001b[39;49m\u001b[43m(\u001b[49m\u001b[43mval\u001b[49m\u001b[43m)\u001b[49m\u001b[43m)\u001b[49m\n",
      "File \u001b[1;32mq:\\ProgramData\\miniforge3\\envs\\toolenv\\lib\\site-packages\\numba\\core\\types\\containers.py:160\u001b[0m, in \u001b[0;36mBaseTuple.from_types\u001b[1;34m(cls, tys, pyclass)\u001b[0m\n\u001b[0;32m    159\u001b[0m \u001b[38;5;28;01melse\u001b[39;00m:\n\u001b[1;32m--> 160\u001b[0m     dtype \u001b[38;5;241m=\u001b[39m \u001b[43mutils\u001b[49m\u001b[38;5;241;43m.\u001b[39;49m\u001b[43munified_function_type\u001b[49m\u001b[43m(\u001b[49m\u001b[43mtys\u001b[49m\u001b[43m)\u001b[49m\n\u001b[0;32m    161\u001b[0m     \u001b[38;5;28;01mif\u001b[39;00m dtype \u001b[38;5;129;01mis\u001b[39;00m \u001b[38;5;129;01mnot\u001b[39;00m \u001b[38;5;28;01mNone\u001b[39;00m:\n",
      "File \u001b[1;32mq:\\ProgramData\\miniforge3\\envs\\toolenv\\lib\\site-packages\\numba\\core\\utils.py:657\u001b[0m, in \u001b[0;36munified_function_type\u001b[1;34m(numba_types, require_precise)\u001b[0m\n\u001b[0;32m    653\u001b[0m \u001b[38;5;28;01mfrom\u001b[39;00m \u001b[38;5;21;01mnumba\u001b[39;00m\u001b[38;5;21;01m.\u001b[39;00m\u001b[38;5;21;01mcore\u001b[39;00m\u001b[38;5;21;01m.\u001b[39;00m\u001b[38;5;21;01merrors\u001b[39;00m \u001b[38;5;28;01mimport\u001b[39;00m NumbaExperimentalFeatureWarning\n\u001b[0;32m    655\u001b[0m \u001b[38;5;28;01mif\u001b[39;00m \u001b[38;5;129;01mnot\u001b[39;00m (\u001b[38;5;28misinstance\u001b[39m(numba_types, Sequence) \u001b[38;5;129;01mand\u001b[39;00m\n\u001b[0;32m    656\u001b[0m         \u001b[38;5;28mlen\u001b[39m(numba_types) \u001b[38;5;241m>\u001b[39m \u001b[38;5;241m0\u001b[39m \u001b[38;5;129;01mand\u001b[39;00m\n\u001b[1;32m--> 657\u001b[0m         \u001b[38;5;28;43misinstance\u001b[39;49m\u001b[43m(\u001b[49m\u001b[43mnumba_types\u001b[49m\u001b[43m[\u001b[49m\u001b[38;5;241;43m0\u001b[39;49m\u001b[43m]\u001b[49m\u001b[43m,\u001b[49m\n\u001b[0;32m    658\u001b[0m \u001b[43m                   \u001b[49m\u001b[43m(\u001b[49m\u001b[43mtypes\u001b[49m\u001b[38;5;241;43m.\u001b[39;49m\u001b[43mDispatcher\u001b[49m\u001b[43m,\u001b[49m\u001b[43m \u001b[49m\u001b[43mtypes\u001b[49m\u001b[38;5;241;43m.\u001b[39;49m\u001b[43mFunctionType\u001b[49m\u001b[43m)\u001b[49m\u001b[43m)\u001b[49m):\n\u001b[0;32m    659\u001b[0m     \u001b[38;5;28;01mreturn\u001b[39;00m\n",
      "File \u001b[1;32mq:\\ProgramData\\miniforge3\\envs\\toolenv\\lib\\abc.py:119\u001b[0m, in \u001b[0;36mABCMeta.__instancecheck__\u001b[1;34m(cls, instance)\u001b[0m\n\u001b[0;32m    118\u001b[0m \u001b[38;5;250m\u001b[39m\u001b[38;5;124;03m\"\"\"Override for isinstance(instance, cls).\"\"\"\u001b[39;00m\n\u001b[1;32m--> 119\u001b[0m \u001b[38;5;28;01mreturn\u001b[39;00m \u001b[43m_abc_instancecheck\u001b[49m\u001b[43m(\u001b[49m\u001b[38;5;28;43mcls\u001b[39;49m\u001b[43m,\u001b[49m\u001b[43m \u001b[49m\u001b[43minstance\u001b[49m\u001b[43m)\u001b[49m\n",
      "\u001b[1;31mKeyboardInterrupt\u001b[0m: ",
      "\nThe above exception was the direct cause of the following exception:\n",
      "\u001b[1;31mSystemError\u001b[0m                               Traceback (most recent call last)",
      "Cell \u001b[1;32mIn[9], line 2\u001b[0m\n\u001b[0;32m      1\u001b[0m \u001b[38;5;28;01mfor\u001b[39;00m _ \u001b[38;5;129;01min\u001b[39;00m \u001b[38;5;28mrange\u001b[39m(\u001b[38;5;28mint\u001b[39m(\u001b[38;5;241m1e6\u001b[39m)):\n\u001b[1;32m----> 2\u001b[0m     \u001b[43mbfs_expand_with_power_threshold_2\u001b[49m\u001b[43m(\u001b[49m\u001b[43minit_board\u001b[49m\u001b[43m,\u001b[49m\u001b[43m \u001b[49m\u001b[43m(\u001b[49m\u001b[38;5;241;43m5\u001b[39;49m\u001b[43m,\u001b[49m\u001b[38;5;241;43m5\u001b[39;49m\u001b[43m)\u001b[49m\u001b[43m,\u001b[49m\u001b[43m \u001b[49m\u001b[38;5;241;43m0\u001b[39;49m\u001b[43m,\u001b[49m\u001b[43m \u001b[49m\u001b[38;5;241;43m0\u001b[39;49m\u001b[43m,\u001b[49m\u001b[43m \u001b[49m\u001b[38;5;241;43m1\u001b[39;49m\u001b[43m,\u001b[49m\u001b[43m \u001b[49m\u001b[38;5;241;43m1\u001b[39;49m\u001b[43m,\u001b[49m\u001b[43m \u001b[49m\u001b[38;5;241;43m1\u001b[39;49m\u001b[43m,\u001b[49m\u001b[43m \u001b[49m\u001b[43mpower_directions\u001b[49m\u001b[43m,\u001b[49m\u001b[43m \u001b[49m\u001b[43mthreshold_directions\u001b[49m\u001b[43m)\u001b[49m\n",
      "File \u001b[1;32mq:\\ProgramData\\miniforge3\\envs\\toolenv\\lib\\site-packages\\numba\\core\\typing\\typeof.py:32\u001b[0m, in \u001b[0;36mtypeof\u001b[1;34m(val, purpose)\u001b[0m\n\u001b[0;32m     28\u001b[0m \u001b[38;5;250m\u001b[39m\u001b[38;5;124;03m\"\"\"\u001b[39;00m\n\u001b[0;32m     29\u001b[0m \u001b[38;5;124;03mGet the Numba type of a Python value for the given purpose.\u001b[39;00m\n\u001b[0;32m     30\u001b[0m \u001b[38;5;124;03m\"\"\"\u001b[39;00m\n\u001b[0;32m     31\u001b[0m \u001b[38;5;66;03m# Note the behaviour for Purpose.argument must match _typeof.c.\u001b[39;00m\n\u001b[1;32m---> 32\u001b[0m c \u001b[38;5;241m=\u001b[39m \u001b[43m_TypeofContext\u001b[49m\u001b[43m(\u001b[49m\u001b[43mpurpose\u001b[49m\u001b[43m)\u001b[49m\n\u001b[0;32m     33\u001b[0m ty \u001b[38;5;241m=\u001b[39m typeof_impl(val, c)\n\u001b[0;32m     34\u001b[0m \u001b[38;5;28;01mif\u001b[39;00m ty \u001b[38;5;129;01mis\u001b[39;00m \u001b[38;5;28;01mNone\u001b[39;00m:\n",
      "File \u001b[1;32m<string>:1\u001b[0m, in \u001b[0;36m<lambda>\u001b[1;34m(_cls, purpose)\u001b[0m\n",
      "\u001b[1;31mSystemError\u001b[0m: <built-in method __new__ of type object at 0x00007FF9E4049340> returned a result with an exception set"
     ]
    }
   ],
   "source": [
    "for _ in range(int(1e6)):\n",
    "    bfs_expand_with_power_threshold_2(init_board, (5,5), 0, 0, 1, 1, 1, power_directions, threshold_directions)"
   ]
  },
  {
   "cell_type": "code",
   "execution_count": 12,
   "metadata": {},
   "outputs": [
    {
     "data": {
      "text/plain": [
       "array([[   4128860,    6029375],\n",
       "       [   3801155,    5570652],\n",
       "       [   6619251,    7536754],\n",
       "       [2053767168,        518],\n",
       "       [1801677168,      25964]])"
      ]
     },
     "execution_count": 12,
     "metadata": {},
     "output_type": "execute_result"
    }
   ],
   "source": [
    "arr = np.empty((5, 2), dtype=np.int32)\n",
    "\n",
    "arr"
   ]
  },
  {
   "cell_type": "code",
   "execution_count": 15,
   "metadata": {},
   "outputs": [
    {
     "name": "stdout",
     "output_type": "stream",
     "text": [
      "6\n"
     ]
    },
    {
     "name": "stderr",
     "output_type": "stream",
     "text": [
      "C:\\Users\\v-xiaotiliu\\AppData\\Local\\Temp\\ipykernel_10804\\1901546897.py:1: DeprecationWarning: The truth value of an empty array is ambiguous. Returning False, but in future this will result in an error. Use `array.size > 0` to check that an array is not empty.\n",
      "  if not arr[:0]:\n"
     ]
    }
   ],
   "source": [
    "if not arr[:0]:\n",
    "    print(6)"
   ]
  },
  {
   "cell_type": "markdown",
   "metadata": {},
   "source": [
    "## get_random_zero_index"
   ]
  },
  {
   "cell_type": "code",
   "execution_count": 47,
   "metadata": {},
   "outputs": [],
   "source": [
    "from numba import njit, types\n",
    "import numpy as np\n",
    "import random\n",
    "import numba.np.random as nb_random\n",
    "\n",
    "@njit(types.UniTuple(types.int32, 2)(types.float64[:, :, :], types.UniTuple(types.int32, 2)))\n",
    "def get_random_zero_index_0(chessboard, board_range):\n",
    "    row_len, col_len = board_range\n",
    "    move_list = np.empty((row_len * col_len, 2), dtype=np.int32)\n",
    "    count = 0\n",
    "    \n",
    "    # 记录所有数值为0的位置\n",
    "    for row_idx in range(row_len):\n",
    "        for col_idx in range(col_len):\n",
    "            if chessboard[row_idx, col_idx, 0] == 0.0:\n",
    "                move_list[count, 0] = row_idx\n",
    "                move_list[count, 1] = col_idx\n",
    "                count += 1\n",
    "    \n",
    "    if count == 0:\n",
    "        return -1, -1  # 没有找到数值为0的位置\n",
    "    \n",
    "    # 从找到的位置中随机选择一个\n",
    "    random_index = np.random.randint(0, count)\n",
    "    return move_list[random_index, 0], move_list[random_index, 1]\n",
    "\n",
    "@njit(types.UniTuple(types.int32, 2)(types.float64[:, :, :], types.UniTuple(types.int32, 2)))\n",
    "def get_random_zero_index_1(chessboard, board_range):\n",
    "    row_len, col_len = board_range\n",
    "    move_list = np.empty((row_len * col_len, 2), dtype=np.int32)\n",
    "    count = 0\n",
    "    \n",
    "    # 记录所有数值为0的位置\n",
    "    for row_idx in range(row_len):\n",
    "        for col_idx in range(col_len):\n",
    "            if chessboard[row_idx, col_idx, 0] == 0.0:\n",
    "                move_list[count, 0] = row_idx\n",
    "                move_list[count, 1] = col_idx\n",
    "                count += 1\n",
    "    \n",
    "    if count == 0:\n",
    "        return -1, -1  # 没有找到数值为0的位置\n",
    "    \n",
    "    # 从找到的位置中随机选择一个\n",
    "    random_index = np.random.randint(0, count)\n",
    "    return move_list[random_index, 0], move_list[random_index, 1]\n",
    "\n",
    "\n",
    "@njit(types.UniTuple(types.int32, 2)(types.float64[:, :, :], types.UniTuple(types.int32, 2)))\n",
    "def get_random_zero_index_2(chessboard, board_range):\n",
    "    row_len, col_len = board_range\n",
    "    chosen_row, chosen_col = -1, -1\n",
    "    count = 0\n",
    "    \n",
    "    for row_idx in range(row_len):\n",
    "        for col_idx in range(col_len):\n",
    "            if chessboard[row_idx, col_idx, 0] == 0.0:\n",
    "                count += 1\n",
    "                if np.random.randint(0, count) == 0:\n",
    "                    chosen_row, chosen_col = row_idx, col_idx\n",
    "    \n",
    "    return chosen_row, chosen_col\n",
    "\n",
    "@njit(types.UniTuple(types.int32, 2)(types.float64[:, :, :], types.UniTuple(types.int32, 2)))\n",
    "def get_random_zero_index_3(chessboard, board_range):\n",
    "    row_len, col_len = board_range\n",
    "    chosen_row, chosen_col = -1, -1\n",
    "    count = 0\n",
    "    \n",
    "    for row_idx in range(row_len):\n",
    "        for col_idx in range(col_len):\n",
    "            if chessboard[row_idx, col_idx, 0] == 0.0:\n",
    "                count += 1\n",
    "                if random.randint(0, count - 1) == 0:\n",
    "                    chosen_row, chosen_col = row_idx, col_idx\n",
    "    \n",
    "    return chosen_row, chosen_col\n",
    "\n",
    "\n",
    "init_board = np.empty((5, 5, 2), dtype=float)"
   ]
  },
  {
   "cell_type": "code",
   "execution_count": 35,
   "metadata": {},
   "outputs": [],
   "source": [
    "for _ in range(int(1e7)):\n",
    "    get_random_zero_index_0(init_board, (5,5))"
   ]
  },
  {
   "cell_type": "code",
   "execution_count": 36,
   "metadata": {},
   "outputs": [],
   "source": [
    "for _ in range(int(1e7)):\n",
    "    get_random_zero_index_1(init_board, (5,5))"
   ]
  },
  {
   "cell_type": "code",
   "execution_count": 41,
   "metadata": {},
   "outputs": [],
   "source": [
    "for _ in range(int(1e7)):\n",
    "    get_random_zero_index_2(init_board, (5,5))"
   ]
  },
  {
   "cell_type": "code",
   "execution_count": 49,
   "metadata": {},
   "outputs": [],
   "source": [
    "for _ in range(int(1e7)):\n",
    "    get_random_zero_index_3(init_board, (5,5))"
   ]
  },
  {
   "cell_type": "markdown",
   "metadata": {},
   "source": [
    "## optimized_array"
   ]
  },
  {
   "cell_type": "code",
   "execution_count": 65,
   "metadata": {},
   "outputs": [],
   "source": [
    "import numpy as np\n",
    "\n",
    "\n",
    "class Child:\n",
    "    def __init__(self, wins, visits):\n",
    "        self.wins = wins\n",
    "        self.visits = visits\n",
    "\n",
    "# 示例 children 列表\n",
    "children = [Child(10, 20), Child(30, 40), Child(50, 60)]\n",
    "\n",
    "# 优化后的代码\n",
    "def optimized_array_0(children):\n",
    "    num_children = len(children)\n",
    "    results = np.zeros((num_children, 2), dtype=np.float32)\n",
    "    \n",
    "    for i, child in enumerate(children):\n",
    "        results[i, 0] = child.wins / child.visits\n",
    "        results[i, 1] = child.visits\n",
    "    \n",
    "    return results\n",
    "\n",
    "def optimized_array_1(children):\n",
    "    return np.array([[child.wins / child.visits, child.visits] for child in children], dtype=np.float32)\n",
    "\n",
    "\n",
    "\n",
    "def optimized_array_2(children):\n",
    "    num_children = len(children)\n",
    "    results = np.zeros((num_children, 2), dtype=np.float32)\n",
    "    \n",
    "    for i, child in enumerate(children):\n",
    "        results[i, 0] = child.wins / child.visits\n",
    "        results[i, 1] = child.visits\n",
    "    \n",
    "    return results"
   ]
  },
  {
   "cell_type": "code",
   "execution_count": 68,
   "metadata": {},
   "outputs": [],
   "source": [
    "for _ in range(int(1e7)):\n",
    "    optimized_array_0(children)"
   ]
  },
  {
   "cell_type": "code",
   "execution_count": 69,
   "metadata": {},
   "outputs": [],
   "source": [
    "for _ in range(int(1e7)):\n",
    "    optimized_array_1(children)"
   ]
  },
  {
   "cell_type": "markdown",
   "metadata": {},
   "source": [
    "## compare_number"
   ]
  },
  {
   "cell_type": "code",
   "execution_count": 81,
   "metadata": {},
   "outputs": [],
   "source": [
    "@njit\n",
    "def compare_number_0(num):\n",
    "    return (num > 0) - (num < 0)\n",
    "\n",
    "@njit\n",
    "def compare_number_1(num):\n",
    "    return (num > 0) - (num < 0)\n",
    "\n",
    "\n",
    "@njit\n",
    "def compare_number_2(num):\n",
    "    if num > 0:\n",
    "        return 1\n",
    "    elif num < 0:\n",
    "        return -1\n",
    "    else:\n",
    "        return 0\n",
    "\n",
    "@njit\n",
    "def compare_number_3(num):\n",
    "    if num > 0:\n",
    "        return 1\n",
    "    elif num < 0:\n",
    "        return -1\n",
    "    else:\n",
    "        return 0"
   ]
  },
  {
   "cell_type": "code",
   "execution_count": 82,
   "metadata": {},
   "outputs": [],
   "source": [
    "for i in range(int(1e7)):\n",
    "    compare_number_0(i)"
   ]
  },
  {
   "cell_type": "code",
   "execution_count": 90,
   "metadata": {},
   "outputs": [],
   "source": [
    "for i in range(int(1e7)):\n",
    "    compare_number_1(i)"
   ]
  },
  {
   "cell_type": "code",
   "execution_count": 86,
   "metadata": {},
   "outputs": [],
   "source": [
    "for i in range(int(1e7)):\n",
    "    compare_number_2(i)"
   ]
  },
  {
   "cell_type": "code",
   "execution_count": 91,
   "metadata": {},
   "outputs": [],
   "source": [
    "for i in range(int(1e7)):\n",
    "    compare_number_3(i)"
   ]
  },
  {
   "cell_type": "code",
   "execution_count": null,
   "metadata": {},
   "outputs": [],
   "source": []
  },
  {
   "cell_type": "markdown",
   "metadata": {},
   "source": [
    "## full_zeros"
   ]
  },
  {
   "cell_type": "code",
   "execution_count": 21,
   "metadata": {},
   "outputs": [],
   "source": [
    "import numpy as np\n",
    "from numba import njit, types\n",
    "\n",
    "@njit\n",
    "def full_zeros_0():\n",
    "    return np.zeros((5, 5, 2), dtype=np.bool_)\n",
    "\n",
    "@njit\n",
    "def full_zeros_1(visited):\n",
    "    visited.fill(False)\n",
    "    return visited\n",
    "\n",
    "@njit\n",
    "def full_zeros_2(visited):\n",
    "    visited[:, :, :] = False\n",
    "    return visited\n",
    "\n",
    "@njit\n",
    "def full_zeros_3():\n",
    "    return np.copy(_visited)\n",
    "\n",
    "visited = np.zeros((5, 5, 2), dtype=np.bool_)\n",
    "_visited = np.zeros((5, 5, 2), dtype=np.bool_)"
   ]
  },
  {
   "cell_type": "code",
   "execution_count": 24,
   "metadata": {},
   "outputs": [],
   "source": [
    "for _ in range(int(1e7)):\n",
    "    full_zeros_0()"
   ]
  },
  {
   "cell_type": "code",
   "execution_count": 14,
   "metadata": {},
   "outputs": [],
   "source": [
    "for _ in range(int(1e7)):\n",
    "    full_zeros_1(visited)"
   ]
  },
  {
   "cell_type": "code",
   "execution_count": 15,
   "metadata": {},
   "outputs": [],
   "source": [
    "for _ in range(int(1e7)):\n",
    "    full_zeros_2(visited)"
   ]
  },
  {
   "cell_type": "code",
   "execution_count": 25,
   "metadata": {},
   "outputs": [],
   "source": [
    "for _ in range(int(1e7)):\n",
    "    full_zeros_3()"
   ]
  },
  {
   "cell_type": "code",
   "execution_count": null,
   "metadata": {},
   "outputs": [],
   "source": []
  },
  {
   "cell_type": "markdown",
   "metadata": {},
   "source": [
    "## calculate_no_inf"
   ]
  },
  {
   "cell_type": "code",
   "execution_count": 30,
   "metadata": {},
   "outputs": [],
   "source": [
    "@njit\n",
    "def calculate_no_inf_0(chessboard):\n",
    "    total_score = 0\n",
    "    for row in chessboard:\n",
    "        for cell in row:\n",
    "            if cell[0] != np.inf:\n",
    "                total_score += cell[0]\n",
    "    return total_score\n",
    "\n",
    "\n",
    "@njit\n",
    "def calculate_no_inf_1(chessboard, board_range):\n",
    "    rows, cols = board_range\n",
    "    total_score = 0\n",
    "    for i in range(rows):\n",
    "        for j in range(cols):\n",
    "            if chessboard[i, j, 0] != np.inf:\n",
    "                total_score += chessboard[i, j, 0]\n",
    "    return total_score\n",
    "\n",
    "@njit\n",
    "def calculate_no_inf_2(chessboard, board_range):\n",
    "    rows, cols = board_range\n",
    "    total_score = 0\n",
    "    for i in range(rows):\n",
    "        for j in range(cols):\n",
    "            score = chessboard[i, j, 0]\n",
    "            if score != np.inf:\n",
    "                total_score += score\n",
    "    return total_score\n",
    "\n",
    "init_board = np.empty((5, 5, 2), dtype=float)"
   ]
  },
  {
   "cell_type": "code",
   "execution_count": 32,
   "metadata": {},
   "outputs": [],
   "source": [
    "for _ in range(int(1e7)):\n",
    "    calculate_no_inf_0(init_board)"
   ]
  },
  {
   "cell_type": "code",
   "execution_count": 31,
   "metadata": {},
   "outputs": [],
   "source": [
    "for _ in range(int(1e7)):\n",
    "    calculate_no_inf_1(init_board, (5,5))"
   ]
  },
  {
   "cell_type": "code",
   "execution_count": 33,
   "metadata": {},
   "outputs": [],
   "source": [
    "for _ in range(int(1e7)):\n",
    "    calculate_no_inf_2(init_board, (5,5))"
   ]
  },
  {
   "cell_type": "code",
   "execution_count": 1,
   "metadata": {},
   "outputs": [
    {
     "name": "stdout",
     "output_type": "stream",
     "text": [
      "np.array([-1, -1]) 时间: 0.6640563999535516\n",
      "np.array((-1, -1])) 时间: 0.5739063000073656\n",
      "np.full(2, -1) 时间: 1.684027299983427\n"
     ]
    }
   ],
   "source": [
    "import numpy as np\n",
    "import timeit\n",
    "\n",
    "# 方法1：使用 np.array 列表\n",
    "def method1():\n",
    "    return np.array([-1, -1])\n",
    "\n",
    "# 方法2：使用 np.array 元组\n",
    "def method2():\n",
    "    return np.array((-1, -1))\n",
    "\n",
    "# 方法3：使用 np.full\n",
    "def method3():\n",
    "    return np.full(2, -1)\n",
    "\n",
    "# 测试每个方法的运行时间\n",
    "times1 = timeit.timeit(method1, number=1000000)\n",
    "times2 = timeit.timeit(method2, number=1000000)\n",
    "times3 = timeit.timeit(method3, number=1000000)\n",
    "\n",
    "print(f\"np.array([-1, -1]) 时间: {times1}\")\n",
    "print(f\"np.array((-1, -1])) 时间: {times2}\")\n",
    "print(f\"np.full(2, -1) 时间: {times3}\")\n"
   ]
  },
  {
   "cell_type": "code",
   "execution_count": 5,
   "metadata": {},
   "outputs": [
    {
     "name": "stdout",
     "output_type": "stream",
     "text": [
      "np.array([-1, -1]) 时间: 1.7841256000101566\n",
      "np.array((-1, -1])) 时间: 1.9547933000139892\n",
      "np.full(2, -1) 时间: 1.7725090000312775\n"
     ]
    }
   ],
   "source": [
    "cc  = np.empty((50, 5, 5, 2), dtype=float)\n",
    "cc[0] = (-1,-1)\n",
    "\n",
    "import numpy as np\n",
    "import timeit\n",
    "\n",
    "# 方法1：使用 np.array 列表\n",
    "def method1():\n",
    "    arr = np.empty((50, 5, 5, 2), dtype=float)\n",
    "    arr[0] = (-1, -1)\n",
    "\n",
    "# 方法2：使用 np.array 元组\n",
    "def method2():\n",
    "    arr = np.empty((50, 5, 5, 2), dtype=float)\n",
    "    arr[0] = np.array((-1, -1))\n",
    "\n",
    "# 方法3：使用 np.full\n",
    "def method3():\n",
    "    arr = np.empty((50, 5, 5, 2), dtype=float)\n",
    "    arr[0] = [-1, -1]\n",
    "\n",
    "# 测试每个方法的运行时间\n",
    "times1 = timeit.timeit(method1, number=1000000)\n",
    "times2 = timeit.timeit(method2, number=1000000)\n",
    "times3 = timeit.timeit(method3, number=1000000)\n",
    "\n",
    "print(f\"np.array([-1, -1]) 时间: {times1}\")\n",
    "print(f\"np.array((-1, -1])) 时间: {times2}\")\n",
    "print(f\"np.full(2, -1) 时间: {times3}\")\n"
   ]
  },
  {
   "cell_type": "code",
   "execution_count": 2,
   "metadata": {},
   "outputs": [
    {
     "name": "stdout",
     "output_type": "stream",
     "text": [
      "np.array([-1, -1]) 时间: 0.12979869998525828\n",
      "np.array((-1, -1])) 时间: 0.09277669992297888\n"
     ]
    }
   ],
   "source": [
    "import numpy as np\n",
    "import timeit\n",
    "\n",
    "def method1():\n",
    "    d = dict()\n",
    "\n",
    "def method2():\n",
    "    d = {}\n",
    "\n",
    "\n",
    "# 测试每个方法的运行时间\n",
    "times1 = timeit.timeit(method1, number=1000000)\n",
    "times2 = timeit.timeit(method2, number=1000000)\n",
    "\n",
    "print(f\"np.array([-1, -1]) 时间: {times1}\")\n",
    "print(f\"np.array((-1, -1])) 时间: {times2}\")\n"
   ]
  },
  {
   "cell_type": "code",
   "execution_count": null,
   "metadata": {},
   "outputs": [],
   "source": []
  }
 ],
 "metadata": {
  "kernelspec": {
   "display_name": "toolenv",
   "language": "python",
   "name": "python3"
  },
  "language_info": {
   "codemirror_mode": {
    "name": "ipython",
    "version": 3
   },
   "file_extension": ".py",
   "mimetype": "text/x-python",
   "name": "python",
   "nbconvert_exporter": "python",
   "pygments_lexer": "ipython3",
   "version": "3.10.14"
  }
 },
 "nbformat": 4,
 "nbformat_minor": 2
}
