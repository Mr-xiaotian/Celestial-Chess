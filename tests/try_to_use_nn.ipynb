{
 "cells": [
  {
   "cell_type": "markdown",
   "metadata": {},
   "source": [
    "## 5.1 one simple example"
   ]
  },
  {
   "cell_type": "code",
   "execution_count": 89,
   "metadata": {},
   "outputs": [],
   "source": [
    "import gzip\n",
    "import struct\n",
    "import numpy as np\n",
    "from tqdm import tqdm\n",
    "import matplotlib.pyplot as plt\n",
    "\n",
    "def read_idx(filename):\n",
    "    with gzip.open(filename, 'rb') as f:\n",
    "        # 读取文件头信息\n",
    "        zero, data_type, dims = struct.unpack('>HBB', f.read(4))\n",
    "        shape = tuple(struct.unpack('>I', f.read(4))[0] for d in range(dims))\n",
    "        # 从文件中读取数据\n",
    "        data = np.frombuffer(f.read(), dtype=np.uint8).reshape(shape)\n",
    "    return data\n",
    "\n",
    "\n",
    "def shape_data(images, labels):\n",
    "    # 调整图像数据形状，使其符合模型要求\n",
    "    images_flattened = images.reshape(images.shape[0], -1)\n",
    "\n",
    "    return list(zip(images_flattened, labels))\n",
    "\n",
    "def encode_label(num):\n",
    "    vector = np.zeros((10, 1))\n",
    "    vector[num] = 1\n",
    "    return vector\n",
    "\n",
    "def average_digit(data, digit):\n",
    "    filtered_data = [x[0] for x in data if x[1] == digit]\n",
    "    filtered_array = np.asarray(filtered_data)\n",
    "    return np.average(filtered_array, axis=0)\n",
    "    \n",
    "def sigmoid_double(x):\n",
    "    return 1.0 / (1.0 + np.exp(-x))\n",
    "\n",
    "def sigmoid(x):\n",
    "    return np.vectorize(sigmoid_double)(x)\n",
    "\n",
    "def predict(W, x, a, b):\n",
    "    # print(np.dot(W, x)/a)\n",
    "    return sigmoid(np.dot(W, x)/a + b)\n",
    "\n",
    "def evaluate(average_image, digit, data_set, threshold=0.9):\n",
    "    W = np.transpose(average_image)\n",
    "\n",
    "    visit = 0\n",
    "    win = 0\n",
    "    for data, label in tqdm(data_set):\n",
    "        predict_sigmoid = predict(W, data, 1e5, -30)\n",
    "\n",
    "        if (predict_sigmoid > threshold) and (label == digit):\n",
    "            win += 1\n",
    "        elif (predict_sigmoid <= threshold) and (label != digit):\n",
    "            win += 1\n",
    "\n",
    "        visit += 1\n",
    "\n",
    "    return win/visit"
   ]
  },
  {
   "cell_type": "code",
   "execution_count": null,
   "metadata": {},
   "outputs": [],
   "source": [
    "# 使用示例\n",
    "train_images_file = r'Q:\\Project\\data\\train-images-idx3-ubyte.gz'\n",
    "train_labels_file = r'Q:\\Project\\data\\train-labels-idx1-ubyte.gz'\n",
    "test_images_file = r'Q:\\Project\\data\\t10k-images-idx3-ubyte.gz'\n",
    "test_labels_file = r'Q:\\Project\\data\\t10k-labels-idx1-ubyte.gz'\n",
    "\n",
    "train_images = read_idx(train_images_file)\n",
    "train_labels = read_idx(train_labels_file)\n",
    "test_images = read_idx(test_images_file)\n",
    "test_labels = read_idx(test_labels_file)\n",
    "\n",
    "print(f\"Number of training images: {train_images.shape[0]}\")\n",
    "print(f\"Training image size: {train_images.shape[1]}x{train_images.shape[2]}\")\n",
    "print(f\"Number of training labels: {train_labels.shape[0]}\")\n",
    "\n",
    "print(f\"Number of test images: {test_images.shape[0]}\")\n",
    "print(f\"Test image size: {test_images.shape[1]}x{test_images.shape[2]}\")\n",
    "print(f\"Number of test labels: {test_labels.shape[0]}\")\n"
   ]
  },
  {
   "cell_type": "code",
   "execution_count": 91,
   "metadata": {},
   "outputs": [
    {
     "data": {
      "text/plain": [
       "60000"
      ]
     },
     "execution_count": 91,
     "metadata": {},
     "output_type": "execute_result"
    }
   ],
   "source": [
    "train_data = shape_data(train_images, train_labels)\n",
    "test_data = shape_data(test_images, test_labels)\n",
    "\n",
    "len(train_data)"
   ]
  },
  {
   "cell_type": "code",
   "execution_count": 88,
   "metadata": {},
   "outputs": [
    {
     "data": {
      "image/png": "[encoded data removed]",
      "text/plain": [
       "<Figure size 640x480 with 1 Axes>"
      ]
     },
     "metadata": {},
     "output_type": "display_data"
    }
   ],
   "source": [
    "average_num = 9\n",
    "average_image = average_digit(train_data, average_num)\n",
    "\n",
    "# 查看结果\n",
    "plt.imshow(average_image.reshape(28, 28), cmap='gray')\n",
    "plt.title(f\"Average Image of Digit {average_num}\")\n",
    "plt.show()\n"
   ]
  },
  {
   "cell_type": "code",
   "execution_count": 93,
   "metadata": {},
   "outputs": [
    {
     "name": "stderr",
     "output_type": "stream",
     "text": [
      "100%|██████████| 60000/60000 [00:01<00:00, 30955.81it/s]\n"
     ]
    },
    {
     "name": "stdout",
     "output_type": "stream",
     "text": [
      "\n",
      "84.47%\n"
     ]
    },
    {
     "name": "stderr",
     "output_type": "stream",
     "text": [
      "100%|██████████| 10000/10000 [00:00<00:00, 28360.57it/s]"
     ]
    },
    {
     "name": "stdout",
     "output_type": "stream",
     "text": [
      "\n",
      "83.87%\n"
     ]
    },
    {
     "name": "stderr",
     "output_type": "stream",
     "text": [
      "\n"
     ]
    }
   ],
   "source": [
    "result = evaluate(average_image, 9, train_data)\n",
    "print()\n",
    "print(f\"{result:.2%}\")\n",
    "\n",
    "result = evaluate(average_image, 9, test_data)\n",
    "print()\n",
    "print(f\"{result:.2%}\")\n"
   ]
  },
  {
   "cell_type": "code",
   "execution_count": 101,
   "metadata": {},
   "outputs": [],
   "source": [
    "nine_test = [(data,label) for data, label in test_data if label == 9]"
   ]
  },
  {
   "cell_type": "code",
   "execution_count": 103,
   "metadata": {},
   "outputs": [
    {
     "name": "stderr",
     "output_type": "stream",
     "text": [
      "100%|██████████| 1009/1009 [00:00<00:00, 26178.40it/s]"
     ]
    },
    {
     "name": "stdout",
     "output_type": "stream",
     "text": [
      "\n",
      "28.74%\n"
     ]
    },
    {
     "name": "stderr",
     "output_type": "stream",
     "text": [
      "\n"
     ]
    }
   ],
   "source": [
    "result = evaluate(average_image, 9, nine_test)\n",
    "print()\n",
    "print(f\"{result:.2%}\")"
   ]
  },
  {
   "cell_type": "code",
   "execution_count": 105,
   "metadata": {},
   "outputs": [],
   "source": [
    "W = np.zeros((10, 784))\n",
    "\n",
    "for average_num in range(10):\n",
    "    average_image = average_digit(train_data, average_num)\n",
    "    W[average_num] = average_image"
   ]
  },
  {
   "cell_type": "code",
   "execution_count": 110,
   "metadata": {},
   "outputs": [],
   "source": [
    "def evaluate_whole(W, data_set):\n",
    "    visit = 0\n",
    "    win = 0\n",
    "    for data, label in tqdm(data_set):\n",
    "        predict_sigmoid = predict(W, data, 1e5, -30)\n",
    "        max_index = np.argmax(predict_sigmoid)\n",
    "\n",
    "        if max_index == label:\n",
    "            win += 1\n",
    "\n",
    "        visit += 1\n",
    "\n",
    "    return win/visit"
   ]
  },
  {
   "cell_type": "code",
   "execution_count": 112,
   "metadata": {},
   "outputs": [
    {
     "data": {
      "text/plain": [
       "3"
      ]
     },
     "execution_count": 112,
     "metadata": {},
     "output_type": "execute_result"
    }
   ],
   "source": [
    "data = train_data[0][0]\n",
    "np.argmax(predict(W, data, 1e5, -30))"
   ]
  },
  {
   "cell_type": "code",
   "execution_count": 109,
   "metadata": {},
   "outputs": [
    {
     "data": {
      "text/plain": [
       "5"
      ]
     },
     "execution_count": 109,
     "metadata": {},
     "output_type": "execute_result"
    }
   ],
   "source": [
    "train_data[0][1]"
   ]
  },
  {
   "cell_type": "code",
   "execution_count": 111,
   "metadata": {},
   "outputs": [
    {
     "name": "stderr",
     "output_type": "stream",
     "text": [
      "100%|██████████| 60000/60000 [00:02<00:00, 21751.70it/s]\n"
     ]
    },
    {
     "data": {
      "text/plain": [
       "0.6233333333333333"
      ]
     },
     "execution_count": 111,
     "metadata": {},
     "output_type": "execute_result"
    }
   ],
   "source": [
    "evaluate_whole(W, train_data)"
   ]
  },
  {
   "cell_type": "code",
   "execution_count": null,
   "metadata": {},
   "outputs": [],
   "source": []
  }
 ],
 "metadata": {
  "kernelspec": {
   "display_name": "toolenv",
   "language": "python",
   "name": "python3"
  },
  "language_info": {
   "codemirror_mode": {
    "name": "ipython",
    "version": 3
   },
   "file_extension": ".py",
   "mimetype": "text/x-python",
   "name": "python",
   "nbconvert_exporter": "python",
   "pygments_lexer": "ipython3",
   "version": "3.10.13"
  }
 },
 "nbformat": 4,
 "nbformat_minor": 2
}
